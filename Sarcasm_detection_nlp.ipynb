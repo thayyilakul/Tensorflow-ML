{
  "metadata": {
    "kernelspec": {
      "language": "python",
      "display_name": "Python 3",
      "name": "python3"
    },
    "language_info": {
      "name": "python",
      "version": "3.10.12",
      "mimetype": "text/x-python",
      "codemirror_mode": {
        "name": "ipython",
        "version": 3
      },
      "pygments_lexer": "ipython3",
      "nbconvert_exporter": "python",
      "file_extension": ".py"
    },
    "kaggle": {
      "accelerator": "none",
      "dataSources": [
        {
          "sourceId": 533474,
          "sourceType": "datasetVersion",
          "datasetId": 30764
        }
      ],
      "dockerImageVersionId": 30839,
      "isInternetEnabled": false,
      "language": "python",
      "sourceType": "notebook",
      "isGpuEnabled": false
    },
    "colab": {
      "provenance": [],
      "include_colab_link": true
    }
  },
  "nbformat_minor": 0,
  "nbformat": 4,
  "cells": [
    {
      "cell_type": "markdown",
      "metadata": {
        "id": "view-in-github",
        "colab_type": "text"
      },
      "source": [
        "<a href=\"https://colab.research.google.com/github/thayyilakul/Tensorflow-ML/blob/main/Sarcasm_detection_nlp.ipynb\" target=\"_parent\"><img src=\"https://colab.research.google.com/assets/colab-badge.svg\" alt=\"Open In Colab\"/></a>"
      ]
    },
    {
      "cell_type": "code",
      "source": [
        "# This Python 3 environment comes with many helpful analytics libraries installed\n",
        "# It is defined by the kaggle/python Docker image: https://github.com/kaggle/docker-python\n",
        "# For example, here's several helpful packages to load\n",
        "\n",
        "import numpy as np # linear algebra\n",
        "import pandas as pd # data processing, CSV file I/O (e.g. pd.read_csv)\n",
        "\n",
        "# Input data files are available in the read-only \"../input/\" directory\n",
        "# For example, running this (by clicking run or pressing Shift+Enter) will list all files under the input directory\n",
        "\n",
        "import os\n",
        "for dirname, _, filenames in os.walk('/kaggle/input'):\n",
        "    for filename in filenames:\n",
        "        print(os.path.join(dirname, filename))\n",
        "\n",
        "# You can write up to 20GB to the current directory (/kaggle/working/) that gets preserved as output when you create a version using \"Save & Run All\"\n",
        "# You can also write temporary files to /kaggle/temp/, but they won't be saved outside of the current session"
      ],
      "metadata": {
        "_uuid": "8f2839f25d086af736a60e9eeb907d3b93b6e0e5",
        "_cell_guid": "b1076dfc-b9ad-4769-8c92-a6c4dae69d19",
        "trusted": true,
        "execution": {
          "iopub.status.busy": "2025-01-16T16:47:44.309667Z",
          "iopub.execute_input": "2025-01-16T16:47:44.310114Z",
          "iopub.status.idle": "2025-01-16T16:47:44.326183Z",
          "shell.execute_reply.started": "2025-01-16T16:47:44.310080Z",
          "shell.execute_reply": "2025-01-16T16:47:44.325120Z"
        },
        "id": "Hv5jc9oPOr8h",
        "outputId": "711e0a96-d872-4342-9302-7ef24f7fb106"
      },
      "outputs": [
        {
          "name": "stdout",
          "text": "/kaggle/input/news-headlines-dataset-for-sarcasm-detection/Sarcasm_Headlines_Dataset_v2.json\n/kaggle/input/news-headlines-dataset-for-sarcasm-detection/Sarcasm_Headlines_Dataset.json\n",
          "output_type": "stream"
        }
      ],
      "execution_count": null
    },
    {
      "cell_type": "code",
      "source": [
        "df = pd.read_json('/kaggle/input/news-headlines-dataset-for-sarcasm-detection/Sarcasm_Headlines_Dataset.json', lines = True)\n",
        "df.head()"
      ],
      "metadata": {
        "trusted": true,
        "execution": {
          "iopub.status.busy": "2025-01-16T16:47:44.327617Z",
          "iopub.execute_input": "2025-01-16T16:47:44.328045Z",
          "iopub.status.idle": "2025-01-16T16:47:44.465577Z",
          "shell.execute_reply.started": "2025-01-16T16:47:44.328007Z",
          "shell.execute_reply": "2025-01-16T16:47:44.464637Z"
        },
        "id": "rJe-9WuSOr8j",
        "outputId": "b6f85f3f-54e1-474d-e305-1959eed2d9ac"
      },
      "outputs": [
        {
          "execution_count": 80,
          "output_type": "execute_result",
          "data": {
            "text/plain": "                                        article_link  \\\n0  https://www.huffingtonpost.com/entry/versace-b...   \n1  https://www.huffingtonpost.com/entry/roseanne-...   \n2  https://local.theonion.com/mom-starting-to-fea...   \n3  https://politics.theonion.com/boehner-just-wan...   \n4  https://www.huffingtonpost.com/entry/jk-rowlin...   \n\n                                            headline  is_sarcastic  \n0  former versace store clerk sues over secret 'b...             0  \n1  the 'roseanne' revival catches up to our thorn...             0  \n2  mom starting to fear son's web series closest ...             1  \n3  boehner just wants wife to listen, not come up...             1  \n4  j.k. rowling wishes snape happy birthday in th...             0  ",
            "text/html": "<div>\n<style scoped>\n    .dataframe tbody tr th:only-of-type {\n        vertical-align: middle;\n    }\n\n    .dataframe tbody tr th {\n        vertical-align: top;\n    }\n\n    .dataframe thead th {\n        text-align: right;\n    }\n</style>\n<table border=\"1\" class=\"dataframe\">\n  <thead>\n    <tr style=\"text-align: right;\">\n      <th></th>\n      <th>article_link</th>\n      <th>headline</th>\n      <th>is_sarcastic</th>\n    </tr>\n  </thead>\n  <tbody>\n    <tr>\n      <th>0</th>\n      <td>https://www.huffingtonpost.com/entry/versace-b...</td>\n      <td>former versace store clerk sues over secret 'b...</td>\n      <td>0</td>\n    </tr>\n    <tr>\n      <th>1</th>\n      <td>https://www.huffingtonpost.com/entry/roseanne-...</td>\n      <td>the 'roseanne' revival catches up to our thorn...</td>\n      <td>0</td>\n    </tr>\n    <tr>\n      <th>2</th>\n      <td>https://local.theonion.com/mom-starting-to-fea...</td>\n      <td>mom starting to fear son's web series closest ...</td>\n      <td>1</td>\n    </tr>\n    <tr>\n      <th>3</th>\n      <td>https://politics.theonion.com/boehner-just-wan...</td>\n      <td>boehner just wants wife to listen, not come up...</td>\n      <td>1</td>\n    </tr>\n    <tr>\n      <th>4</th>\n      <td>https://www.huffingtonpost.com/entry/jk-rowlin...</td>\n      <td>j.k. rowling wishes snape happy birthday in th...</td>\n      <td>0</td>\n    </tr>\n  </tbody>\n</table>\n</div>"
          },
          "metadata": {}
        }
      ],
      "execution_count": null
    },
    {
      "cell_type": "code",
      "source": [
        "len(df)"
      ],
      "metadata": {
        "trusted": true,
        "execution": {
          "iopub.status.busy": "2025-01-16T16:47:44.467228Z",
          "iopub.execute_input": "2025-01-16T16:47:44.467513Z",
          "iopub.status.idle": "2025-01-16T16:47:44.473889Z",
          "shell.execute_reply.started": "2025-01-16T16:47:44.467486Z",
          "shell.execute_reply": "2025-01-16T16:47:44.472822Z"
        },
        "id": "dNsc7xHvOr8k",
        "outputId": "b072db92-f73c-4936-8b0b-c6a4c9bcb967"
      },
      "outputs": [
        {
          "execution_count": 81,
          "output_type": "execute_result",
          "data": {
            "text/plain": "26709"
          },
          "metadata": {}
        }
      ],
      "execution_count": null
    },
    {
      "cell_type": "code",
      "source": [
        "df.is_sarcastic.value_counts()"
      ],
      "metadata": {
        "trusted": true,
        "execution": {
          "iopub.status.busy": "2025-01-16T16:47:44.475667Z",
          "iopub.execute_input": "2025-01-16T16:47:44.475973Z",
          "iopub.status.idle": "2025-01-16T16:47:44.494741Z",
          "shell.execute_reply.started": "2025-01-16T16:47:44.475945Z",
          "shell.execute_reply": "2025-01-16T16:47:44.493551Z"
        },
        "id": "50K_4_2GOr8k",
        "outputId": "2ef9045e-4005-4e9c-fbad-e135f837722d"
      },
      "outputs": [
        {
          "execution_count": 82,
          "output_type": "execute_result",
          "data": {
            "text/plain": "is_sarcastic\n0    14985\n1    11724\nName: count, dtype: int64"
          },
          "metadata": {}
        }
      ],
      "execution_count": null
    },
    {
      "cell_type": "code",
      "source": [
        "df.isna().sum()"
      ],
      "metadata": {
        "trusted": true,
        "execution": {
          "iopub.status.busy": "2025-01-16T16:47:44.495748Z",
          "iopub.execute_input": "2025-01-16T16:47:44.496017Z",
          "iopub.status.idle": "2025-01-16T16:47:44.516654Z",
          "shell.execute_reply.started": "2025-01-16T16:47:44.495993Z",
          "shell.execute_reply": "2025-01-16T16:47:44.515738Z"
        },
        "id": "FHqoqBUoOr8l",
        "outputId": "5dec6b82-5eec-4c11-e287-284def16c171"
      },
      "outputs": [
        {
          "execution_count": 83,
          "output_type": "execute_result",
          "data": {
            "text/plain": "article_link    0\nheadline        0\nis_sarcastic    0\ndtype: int64"
          },
          "metadata": {}
        }
      ],
      "execution_count": null
    },
    {
      "cell_type": "code",
      "source": [
        "df.loc[2].headline"
      ],
      "metadata": {
        "trusted": true,
        "execution": {
          "iopub.status.busy": "2025-01-16T16:47:44.517823Z",
          "iopub.execute_input": "2025-01-16T16:47:44.518202Z",
          "iopub.status.idle": "2025-01-16T16:47:44.536903Z",
          "shell.execute_reply.started": "2025-01-16T16:47:44.518174Z",
          "shell.execute_reply": "2025-01-16T16:47:44.535994Z"
        },
        "id": "4aVIc2J6Or8l",
        "outputId": "bbfd403f-43ec-4c73-c3af-af0548fb302c"
      },
      "outputs": [
        {
          "execution_count": 84,
          "output_type": "execute_result",
          "data": {
            "text/plain": "\"mom starting to fear son's web series closest thing she will have to grandchild\""
          },
          "metadata": {}
        }
      ],
      "execution_count": null
    },
    {
      "cell_type": "code",
      "source": [
        "import random\n",
        "random_index = random.randint(0, len(df) - 5)\n",
        "for row in df[['headline', 'is_sarcastic']][random_index : random_index + 5].itertuples():\n",
        "    _ , headline, is_sarcastic = row\n",
        "    print(f'Headline - {headline}')\n",
        "    print(f\"Is sarcastic : {'Yes' if is_sarcastic == 1 else 'No'}\")\n",
        "    print('-----')"
      ],
      "metadata": {
        "trusted": true,
        "execution": {
          "iopub.status.busy": "2025-01-16T16:47:44.540385Z",
          "iopub.execute_input": "2025-01-16T16:47:44.540739Z",
          "iopub.status.idle": "2025-01-16T16:47:44.560067Z",
          "shell.execute_reply.started": "2025-01-16T16:47:44.540708Z",
          "shell.execute_reply": "2025-01-16T16:47:44.559110Z"
        },
        "id": "EBUZAmunOr8l",
        "outputId": "340bc333-bde2-4813-9280-b1c89da2a1b1"
      },
      "outputs": [
        {
          "name": "stdout",
          "text": "Headline - jesse williams set to be honored with humanitarian award at the 2016 bet awards\nIs sarcastic : No\n-----\nHeadline - greyhound now offering direct service from kansas to l.a. porn director's driveway\nIs sarcastic : Yes\n-----\nHeadline - nike ceo blasts trump executive order targeting muslims, refugees\nIs sarcastic : No\n-----\nHeadline - 5 ways to get more out of your classes this fall\nIs sarcastic : No\n-----\nHeadline - rick santorum slightly embarrassed for man introducing him as next president of united states\nIs sarcastic : Yes\n-----\n",
          "output_type": "stream"
        }
      ],
      "execution_count": null
    },
    {
      "cell_type": "code",
      "source": [
        "from sklearn.model_selection import train_test_split\n",
        "\n",
        "train_sentences, val_sentences, train_labels, val_labels = train_test_split(df['headline'].to_numpy(),\n",
        "                                                                           df['is_sarcastic'].to_numpy(),\n",
        "                                                                           test_size = 0.1,\n",
        "                                                                           random_state = 42)\n",
        "\n",
        "len(train_sentences), len(val_sentences), len(train_labels), len(val_labels)"
      ],
      "metadata": {
        "trusted": true,
        "execution": {
          "iopub.status.busy": "2025-01-16T16:47:44.561983Z",
          "iopub.execute_input": "2025-01-16T16:47:44.562342Z",
          "iopub.status.idle": "2025-01-16T16:47:44.576787Z",
          "shell.execute_reply.started": "2025-01-16T16:47:44.562304Z",
          "shell.execute_reply": "2025-01-16T16:47:44.575785Z"
        },
        "id": "UVVtvTPFOr8m",
        "outputId": "2ccbd25d-31b0-4678-b451-d5a7386c285c"
      },
      "outputs": [
        {
          "execution_count": 86,
          "output_type": "execute_result",
          "data": {
            "text/plain": "(24038, 2671, 24038, 2671)"
          },
          "metadata": {}
        }
      ],
      "execution_count": null
    },
    {
      "cell_type": "code",
      "source": [
        "train_sentences[:10], train_labels[:10]"
      ],
      "metadata": {
        "trusted": true,
        "execution": {
          "iopub.status.busy": "2025-01-16T16:47:44.577895Z",
          "iopub.execute_input": "2025-01-16T16:47:44.578277Z",
          "iopub.status.idle": "2025-01-16T16:47:44.593747Z",
          "shell.execute_reply.started": "2025-01-16T16:47:44.578240Z",
          "shell.execute_reply": "2025-01-16T16:47:44.592716Z"
        },
        "id": "FthWqB-POr8m",
        "outputId": "fc55fd53-709f-47fb-e6d9-86847616e6b0"
      },
      "outputs": [
        {
          "execution_count": 87,
          "output_type": "execute_result",
          "data": {
            "text/plain": "(array(['win a $10,000 mall of america dream shooting spree!',\n        'cash-strapped oklahoma to conduct executions by hammering squad',\n        'what will the disruption of politics look like?',\n        'three qualities a woman should possess to be powerful, from jill abramson (video)',\n        \"david petraeus: white house is wrong, generals are 'fair game' for criticism\",\n        'queen bun gives birth to thousands of tiny rolls',\n        \"behind the black curtain with tom brady: tears and concerns over patriots' dynasty\",\n        'your four-legged friends are leaving a serious carbon pawprint on the planet',\n        'herpetologist names son after famous herpetologist',\n        'should banks be allowed to robocall your mobile phone?'],\n       dtype=object),\n array([1, 1, 0, 0, 0, 1, 0, 0, 1, 0]))"
          },
          "metadata": {}
        }
      ],
      "execution_count": null
    },
    {
      "cell_type": "code",
      "source": [
        "round(sum([len(i.split()) for i in train_sentences]) / len(train_sentences))"
      ],
      "metadata": {
        "trusted": true,
        "execution": {
          "iopub.status.busy": "2025-01-16T16:47:44.595002Z",
          "iopub.execute_input": "2025-01-16T16:47:44.595486Z",
          "iopub.status.idle": "2025-01-16T16:47:44.639564Z",
          "shell.execute_reply.started": "2025-01-16T16:47:44.595452Z",
          "shell.execute_reply": "2025-01-16T16:47:44.638599Z"
        },
        "id": "oVrLfUTqOr8m",
        "outputId": "a7889ccb-9455-4fb3-f4f0-2988a0b7257c"
      },
      "outputs": [
        {
          "execution_count": 88,
          "output_type": "execute_result",
          "data": {
            "text/plain": "10"
          },
          "metadata": {}
        }
      ],
      "execution_count": null
    },
    {
      "cell_type": "code",
      "source": [
        "from tensorflow.keras.layers import TextVectorization\n",
        "\n",
        "max_length = 10\n",
        "max_vocab_length = 10000\n",
        "\n",
        "text_vectorizer = TextVectorization(\n",
        "    max_tokens = max_vocab_length,\n",
        "    standardize = 'lower_and_strip_punctuation',\n",
        "    split = 'whitespace',\n",
        "    ngrams = None,\n",
        "    output_mode = 'int',\n",
        "    output_sequence_length = max_length\n",
        ")"
      ],
      "metadata": {
        "trusted": true,
        "execution": {
          "iopub.status.busy": "2025-01-16T16:47:44.640498Z",
          "iopub.execute_input": "2025-01-16T16:47:44.640809Z",
          "iopub.status.idle": "2025-01-16T16:47:44.662148Z",
          "shell.execute_reply.started": "2025-01-16T16:47:44.640780Z",
          "shell.execute_reply": "2025-01-16T16:47:44.661189Z"
        },
        "id": "U7KsMivSOr8n"
      },
      "outputs": [],
      "execution_count": null
    },
    {
      "cell_type": "code",
      "source": [
        "text_vectorizer.adapt(train_sentences)"
      ],
      "metadata": {
        "trusted": true,
        "execution": {
          "iopub.status.busy": "2025-01-16T16:47:44.663473Z",
          "iopub.execute_input": "2025-01-16T16:47:44.663844Z",
          "iopub.status.idle": "2025-01-16T16:47:44.856550Z",
          "shell.execute_reply.started": "2025-01-16T16:47:44.663801Z",
          "shell.execute_reply": "2025-01-16T16:47:44.855432Z"
        },
        "id": "Z0Ast1U_Or8n"
      },
      "outputs": [],
      "execution_count": null
    },
    {
      "cell_type": "code",
      "source": [
        "sample_sentence = 'Today is a good day!'\n",
        "text_vectorizer([sample_sentence])"
      ],
      "metadata": {
        "trusted": true,
        "execution": {
          "iopub.status.busy": "2025-01-16T16:47:44.857616Z",
          "iopub.execute_input": "2025-01-16T16:47:44.857962Z",
          "iopub.status.idle": "2025-01-16T16:47:44.882201Z",
          "shell.execute_reply.started": "2025-01-16T16:47:44.857919Z",
          "shell.execute_reply": "2025-01-16T16:47:44.881219Z"
        },
        "id": "AVc71bKtOr8n",
        "outputId": "c424149d-b75d-47f1-ae38-35455eab3265"
      },
      "outputs": [
        {
          "execution_count": 91,
          "output_type": "execute_result",
          "data": {
            "text/plain": "<tf.Tensor: shape=(1, 10), dtype=int64, numpy=array([[473,  11,   7, 115,  53,   0,   0,   0,   0,   0]])>"
          },
          "metadata": {}
        }
      ],
      "execution_count": null
    },
    {
      "cell_type": "code",
      "source": [
        "random_sentence = random.choice(train_sentences)\n",
        "print(f'Original Text : {random_sentence}\\n')\n",
        "print(f'Vectorized version : {text_vectorizer([random_sentence])}')"
      ],
      "metadata": {
        "trusted": true,
        "execution": {
          "iopub.status.busy": "2025-01-16T16:47:44.883267Z",
          "iopub.execute_input": "2025-01-16T16:47:44.883643Z",
          "iopub.status.idle": "2025-01-16T16:47:44.897957Z",
          "shell.execute_reply.started": "2025-01-16T16:47:44.883606Z",
          "shell.execute_reply": "2025-01-16T16:47:44.896776Z"
        },
        "id": "WuhDnj8IOr8n",
        "outputId": "dc5d0545-27e9-4eae-aa1c-74ca80879166"
      },
      "outputs": [
        {
          "name": "stdout",
          "text": "Original Text : islamic fundamentalists condemn casual day\n\nVectorized version : [[1746    1 5317 3481   53    0    0    0    0    0]]\n",
          "output_type": "stream"
        }
      ],
      "execution_count": null
    },
    {
      "cell_type": "code",
      "source": [
        "words_in_vocab = text_vectorizer.get_vocabulary()\n",
        "top_5_words = words_in_vocab[:5]\n",
        "bottom_5_words = words_in_vocab[-5:]\n",
        "print(f'Top 5 Words : {top_5_words}\\n')\n",
        "print(f'Bottom 5 Words : {bottom_5_words}')"
      ],
      "metadata": {
        "trusted": true,
        "execution": {
          "iopub.status.busy": "2025-01-16T16:47:44.899233Z",
          "iopub.execute_input": "2025-01-16T16:47:44.899658Z",
          "iopub.status.idle": "2025-01-16T16:47:44.939963Z",
          "shell.execute_reply.started": "2025-01-16T16:47:44.899613Z",
          "shell.execute_reply": "2025-01-16T16:47:44.938825Z"
        },
        "id": "17YInWELOr8n",
        "outputId": "bf5304b7-05c2-4b51-cf49-b60a59dc5f45"
      },
      "outputs": [
        {
          "name": "stdout",
          "text": "Top 5 Words : ['', '[UNK]', 'to', 'of', 'the']\n\nBottom 5 Words : ['waffle', 'wackiest', 'waaah', 'vuitton', 'vu']\n",
          "output_type": "stream"
        }
      ],
      "execution_count": null
    },
    {
      "cell_type": "code",
      "source": [
        "from tensorflow.keras import layers\n",
        "\n",
        "embedding = layers.Embedding(\n",
        "    input_dim = max_vocab_length,\n",
        "    output_dim = 128,\n",
        "    embeddings_initializer = 'uniform',\n",
        "    input_length = max_length,\n",
        "    name = 'embedding_1'\n",
        ")\n",
        "\n",
        "embedding"
      ],
      "metadata": {
        "trusted": true,
        "execution": {
          "iopub.status.busy": "2025-01-16T16:47:44.941173Z",
          "iopub.execute_input": "2025-01-16T16:47:44.941591Z",
          "iopub.status.idle": "2025-01-16T16:47:44.949797Z",
          "shell.execute_reply.started": "2025-01-16T16:47:44.941546Z",
          "shell.execute_reply": "2025-01-16T16:47:44.948917Z"
        },
        "id": "o4M9Uy0HOr8n",
        "outputId": "4f9fc75d-8318-4481-d208-26178b9bf4bc"
      },
      "outputs": [
        {
          "name": "stderr",
          "text": "/usr/local/lib/python3.10/dist-packages/keras/src/layers/core/embedding.py:90: UserWarning: Argument `input_length` is deprecated. Just remove it.\n  warnings.warn(\n",
          "output_type": "stream"
        },
        {
          "execution_count": 94,
          "output_type": "execute_result",
          "data": {
            "text/plain": "<Embedding name=embedding_1, built=False>"
          },
          "metadata": {}
        }
      ],
      "execution_count": null
    },
    {
      "cell_type": "code",
      "source": [
        "random_sentence = random.choice(train_sentences)\n",
        "print(f'Original Text : {random_sentence}\\n')\n",
        "sample_embed = embedding(text_vectorizer([random_sentence]))\n",
        "sample_embed"
      ],
      "metadata": {
        "trusted": true,
        "execution": {
          "iopub.status.busy": "2025-01-16T16:47:44.950738Z",
          "iopub.execute_input": "2025-01-16T16:47:44.951006Z",
          "iopub.status.idle": "2025-01-16T16:47:44.990988Z",
          "shell.execute_reply.started": "2025-01-16T16:47:44.950980Z",
          "shell.execute_reply": "2025-01-16T16:47:44.989897Z"
        },
        "id": "Sf_WLNj2Or8o",
        "outputId": "3d1e6688-bd7b-4c55-b158-9bcec5ba9629"
      },
      "outputs": [
        {
          "name": "stdout",
          "text": "Original Text : advertising executive gets in touch with inner-child demographic\n\n",
          "output_type": "stream"
        },
        {
          "execution_count": 95,
          "output_type": "execute_result",
          "data": {
            "text/plain": "<tf.Tensor: shape=(1, 10, 128), dtype=float32, numpy=\narray([[[-0.00291966, -0.03155319, -0.03350507, ...,  0.00438061,\n         -0.0071167 , -0.03077346],\n        [ 0.01377063,  0.01125992, -0.00793005, ..., -0.01787164,\n          0.04975642,  0.03483764],\n        [ 0.00399815, -0.0471612 , -0.02498093, ..., -0.01648606,\n          0.04971974,  0.04261136],\n        ...,\n        [-0.01851531,  0.04191304, -0.02616967, ...,  0.01496711,\n          0.02545129,  0.00918348],\n        [ 0.03943844,  0.03173405, -0.0395514 , ...,  0.02505289,\n         -0.03854492, -0.04758947],\n        [ 0.03943844,  0.03173405, -0.0395514 , ...,  0.02505289,\n         -0.03854492, -0.04758947]]], dtype=float32)>"
          },
          "metadata": {}
        }
      ],
      "execution_count": null
    },
    {
      "cell_type": "code",
      "source": [
        "sample_embed[0][0]"
      ],
      "metadata": {
        "trusted": true,
        "execution": {
          "iopub.status.busy": "2025-01-16T16:47:44.991906Z",
          "iopub.execute_input": "2025-01-16T16:47:44.992194Z",
          "iopub.status.idle": "2025-01-16T16:47:45.002738Z",
          "shell.execute_reply.started": "2025-01-16T16:47:44.992167Z",
          "shell.execute_reply": "2025-01-16T16:47:45.001594Z"
        },
        "id": "OEn8xld0Or8o",
        "outputId": "6d39183e-4039-4591-ac90-d89e95ce0641"
      },
      "outputs": [
        {
          "execution_count": 96,
          "output_type": "execute_result",
          "data": {
            "text/plain": "<tf.Tensor: shape=(128,), dtype=float32, numpy=\narray([-0.00291966, -0.03155319, -0.03350507, -0.0299318 , -0.0350978 ,\n       -0.03758235, -0.04552674, -0.04055486, -0.03581464,  0.02734163,\n       -0.0302178 ,  0.00532118,  0.03616067, -0.02834741,  0.01943571,\n        0.00117624,  0.04198483,  0.02633449,  0.03232962, -0.04528279,\n       -0.03924274, -0.02371041, -0.0086378 , -0.00148749, -0.03733482,\n       -0.02404288,  0.03642765,  0.03193119, -0.00118508, -0.01452289,\n       -0.041153  , -0.04257286, -0.00622318, -0.03935651, -0.01097959,\n       -0.02017895,  0.04496257,  0.03903789, -0.04456766,  0.03195361,\n       -0.00648195, -0.03584617,  0.0357405 , -0.0248704 , -0.02271121,\n        0.02010773,  0.01183451,  0.02549085, -0.00832297,  0.04558544,\n        0.01513753, -0.01975244, -0.02338312,  0.03067118,  0.03642675,\n        0.01512558, -0.03231108, -0.03937503,  0.00955783,  0.03095288,\n       -0.01170782,  0.01808322, -0.03348192, -0.00811835,  0.01038759,\n        0.01437973,  0.04742005, -0.01636665, -0.04196202, -0.04278135,\n        0.01114691,  0.03460113, -0.02147158, -0.0220945 , -0.04802834,\n        0.04214127,  0.03680258, -0.04740834, -0.01167636,  0.01577857,\n        0.047512  , -0.02028141,  0.04584745,  0.01464372,  0.0420918 ,\n       -0.03231458,  0.00867667,  0.00652044, -0.0376604 , -0.04311416,\n       -0.0207633 ,  0.04837487,  0.02847381, -0.04512268, -0.01538246,\n       -0.00438069,  0.00216683, -0.00406766,  0.013887  ,  0.00227363,\n        0.02530137,  0.00912993,  0.04061336,  0.01671361,  0.02389765,\n        0.02222333,  0.01297257,  0.02268871,  0.04406993, -0.03990811,\n        0.00330478, -0.04256313,  0.028954  , -0.01242029, -0.03137918,\n       -0.03057889, -0.00670037,  0.00948819,  0.01919582, -0.01461888,\n       -0.03864101, -0.04051844,  0.04950792,  0.03536609, -0.02821788,\n        0.00438061, -0.0071167 , -0.03077346], dtype=float32)>"
          },
          "metadata": {}
        }
      ],
      "execution_count": null
    },
    {
      "cell_type": "code",
      "source": [
        "from sklearn.feature_extraction.text import TfidfVectorizer\n",
        "from sklearn.naive_bayes import MultinomialNB\n",
        "from sklearn.pipeline import Pipeline\n",
        "\n",
        "model_0 = Pipeline([\n",
        "    ('tfidf', TfidfVectorizer()),\n",
        "    ('clf', MultinomialNB())\n",
        "])\n",
        "\n",
        "model_0.fit(train_sentences, train_labels)"
      ],
      "metadata": {
        "trusted": true,
        "execution": {
          "iopub.status.busy": "2025-01-16T16:47:45.007376Z",
          "iopub.execute_input": "2025-01-16T16:47:45.007739Z",
          "iopub.status.idle": "2025-01-16T16:47:45.366561Z",
          "shell.execute_reply.started": "2025-01-16T16:47:45.007707Z",
          "shell.execute_reply": "2025-01-16T16:47:45.365611Z"
        },
        "id": "KYKZS_hcOr8o",
        "outputId": "c75ce234-4895-4325-d051-714cbaf53a75"
      },
      "outputs": [
        {
          "execution_count": 97,
          "output_type": "execute_result",
          "data": {
            "text/plain": "Pipeline(steps=[('tfidf', TfidfVectorizer()), ('clf', MultinomialNB())])",
            "text/html": "<style>#sk-container-id-2 {color: black;background-color: white;}#sk-container-id-2 pre{padding: 0;}#sk-container-id-2 div.sk-toggleable {background-color: white;}#sk-container-id-2 label.sk-toggleable__label {cursor: pointer;display: block;width: 100%;margin-bottom: 0;padding: 0.3em;box-sizing: border-box;text-align: center;}#sk-container-id-2 label.sk-toggleable__label-arrow:before {content: \"▸\";float: left;margin-right: 0.25em;color: #696969;}#sk-container-id-2 label.sk-toggleable__label-arrow:hover:before {color: black;}#sk-container-id-2 div.sk-estimator:hover label.sk-toggleable__label-arrow:before {color: black;}#sk-container-id-2 div.sk-toggleable__content {max-height: 0;max-width: 0;overflow: hidden;text-align: left;background-color: #f0f8ff;}#sk-container-id-2 div.sk-toggleable__content pre {margin: 0.2em;color: black;border-radius: 0.25em;background-color: #f0f8ff;}#sk-container-id-2 input.sk-toggleable__control:checked~div.sk-toggleable__content {max-height: 200px;max-width: 100%;overflow: auto;}#sk-container-id-2 input.sk-toggleable__control:checked~label.sk-toggleable__label-arrow:before {content: \"▾\";}#sk-container-id-2 div.sk-estimator input.sk-toggleable__control:checked~label.sk-toggleable__label {background-color: #d4ebff;}#sk-container-id-2 div.sk-label input.sk-toggleable__control:checked~label.sk-toggleable__label {background-color: #d4ebff;}#sk-container-id-2 input.sk-hidden--visually {border: 0;clip: rect(1px 1px 1px 1px);clip: rect(1px, 1px, 1px, 1px);height: 1px;margin: -1px;overflow: hidden;padding: 0;position: absolute;width: 1px;}#sk-container-id-2 div.sk-estimator {font-family: monospace;background-color: #f0f8ff;border: 1px dotted black;border-radius: 0.25em;box-sizing: border-box;margin-bottom: 0.5em;}#sk-container-id-2 div.sk-estimator:hover {background-color: #d4ebff;}#sk-container-id-2 div.sk-parallel-item::after {content: \"\";width: 100%;border-bottom: 1px solid gray;flex-grow: 1;}#sk-container-id-2 div.sk-label:hover label.sk-toggleable__label {background-color: #d4ebff;}#sk-container-id-2 div.sk-serial::before {content: \"\";position: absolute;border-left: 1px solid gray;box-sizing: border-box;top: 0;bottom: 0;left: 50%;z-index: 0;}#sk-container-id-2 div.sk-serial {display: flex;flex-direction: column;align-items: center;background-color: white;padding-right: 0.2em;padding-left: 0.2em;position: relative;}#sk-container-id-2 div.sk-item {position: relative;z-index: 1;}#sk-container-id-2 div.sk-parallel {display: flex;align-items: stretch;justify-content: center;background-color: white;position: relative;}#sk-container-id-2 div.sk-item::before, #sk-container-id-2 div.sk-parallel-item::before {content: \"\";position: absolute;border-left: 1px solid gray;box-sizing: border-box;top: 0;bottom: 0;left: 50%;z-index: -1;}#sk-container-id-2 div.sk-parallel-item {display: flex;flex-direction: column;z-index: 1;position: relative;background-color: white;}#sk-container-id-2 div.sk-parallel-item:first-child::after {align-self: flex-end;width: 50%;}#sk-container-id-2 div.sk-parallel-item:last-child::after {align-self: flex-start;width: 50%;}#sk-container-id-2 div.sk-parallel-item:only-child::after {width: 0;}#sk-container-id-2 div.sk-dashed-wrapped {border: 1px dashed gray;margin: 0 0.4em 0.5em 0.4em;box-sizing: border-box;padding-bottom: 0.4em;background-color: white;}#sk-container-id-2 div.sk-label label {font-family: monospace;font-weight: bold;display: inline-block;line-height: 1.2em;}#sk-container-id-2 div.sk-label-container {text-align: center;}#sk-container-id-2 div.sk-container {/* jupyter's `normalize.less` sets `[hidden] { display: none; }` but bootstrap.min.css set `[hidden] { display: none !important; }` so we also need the `!important` here to be able to override the default hidden behavior on the sphinx rendered scikit-learn.org. See: https://github.com/scikit-learn/scikit-learn/issues/21755 */display: inline-block !important;position: relative;}#sk-container-id-2 div.sk-text-repr-fallback {display: none;}</style><div id=\"sk-container-id-2\" class=\"sk-top-container\"><div class=\"sk-text-repr-fallback\"><pre>Pipeline(steps=[(&#x27;tfidf&#x27;, TfidfVectorizer()), (&#x27;clf&#x27;, MultinomialNB())])</pre><b>In a Jupyter environment, please rerun this cell to show the HTML representation or trust the notebook. <br />On GitHub, the HTML representation is unable to render, please try loading this page with nbviewer.org.</b></div><div class=\"sk-container\" hidden><div class=\"sk-item sk-dashed-wrapped\"><div class=\"sk-label-container\"><div class=\"sk-label sk-toggleable\"><input class=\"sk-toggleable__control sk-hidden--visually\" id=\"sk-estimator-id-4\" type=\"checkbox\" ><label for=\"sk-estimator-id-4\" class=\"sk-toggleable__label sk-toggleable__label-arrow\">Pipeline</label><div class=\"sk-toggleable__content\"><pre>Pipeline(steps=[(&#x27;tfidf&#x27;, TfidfVectorizer()), (&#x27;clf&#x27;, MultinomialNB())])</pre></div></div></div><div class=\"sk-serial\"><div class=\"sk-item\"><div class=\"sk-estimator sk-toggleable\"><input class=\"sk-toggleable__control sk-hidden--visually\" id=\"sk-estimator-id-5\" type=\"checkbox\" ><label for=\"sk-estimator-id-5\" class=\"sk-toggleable__label sk-toggleable__label-arrow\">TfidfVectorizer</label><div class=\"sk-toggleable__content\"><pre>TfidfVectorizer()</pre></div></div></div><div class=\"sk-item\"><div class=\"sk-estimator sk-toggleable\"><input class=\"sk-toggleable__control sk-hidden--visually\" id=\"sk-estimator-id-6\" type=\"checkbox\" ><label for=\"sk-estimator-id-6\" class=\"sk-toggleable__label sk-toggleable__label-arrow\">MultinomialNB</label><div class=\"sk-toggleable__content\"><pre>MultinomialNB()</pre></div></div></div></div></div></div></div>"
          },
          "metadata": {}
        }
      ],
      "execution_count": null
    },
    {
      "cell_type": "code",
      "source": [
        "model_0_score = model_0.score(val_sentences, val_labels)\n",
        "print(f'Baseline accuracy score is {model_0_score*100:.2f}%')"
      ],
      "metadata": {
        "trusted": true,
        "execution": {
          "iopub.status.busy": "2025-01-16T16:47:45.369124Z",
          "iopub.execute_input": "2025-01-16T16:47:45.369434Z",
          "iopub.status.idle": "2025-01-16T16:47:45.413361Z",
          "shell.execute_reply.started": "2025-01-16T16:47:45.369406Z",
          "shell.execute_reply": "2025-01-16T16:47:45.412419Z"
        },
        "id": "tO7KHe5ZOr8o",
        "outputId": "95cc3320-7353-4716-c28c-27c5a3c6cc12"
      },
      "outputs": [
        {
          "name": "stdout",
          "text": "Baseline accuracy score is 81.95%\n",
          "output_type": "stream"
        }
      ],
      "execution_count": null
    },
    {
      "cell_type": "code",
      "source": [
        "baseline_preds = model_0.predict(val_sentences)\n",
        "baseline_preds"
      ],
      "metadata": {
        "trusted": true,
        "execution": {
          "iopub.status.busy": "2025-01-16T16:47:45.414609Z",
          "iopub.execute_input": "2025-01-16T16:47:45.415021Z",
          "iopub.status.idle": "2025-01-16T16:47:45.463455Z",
          "shell.execute_reply.started": "2025-01-16T16:47:45.414979Z",
          "shell.execute_reply": "2025-01-16T16:47:45.462551Z"
        },
        "id": "DGeksvkZOr8o",
        "outputId": "9468af7c-4f3e-48fd-d13e-4a96d2001ee6"
      },
      "outputs": [
        {
          "execution_count": 99,
          "output_type": "execute_result",
          "data": {
            "text/plain": "array([1, 0, 0, ..., 0, 0, 1])"
          },
          "metadata": {}
        }
      ],
      "execution_count": null
    },
    {
      "cell_type": "code",
      "source": [
        "from sklearn.metrics import accuracy_score, precision_recall_fscore_support\n",
        "\n",
        "def calculate_results(y_true, y_pred):\n",
        "    model_accuracy = accuracy_score(y_true, y_pred) * 100\n",
        "    model_precision, model_recall, model_f1, _ = precision_recall_fscore_support(y_true, y_pred, average = 'weighted')\n",
        "    return {\n",
        "        'accuracy' : model_accuracy,\n",
        "        'recall' : model_recall,\n",
        "        'precision' : model_precision,\n",
        "        'f1' : model_f1\n",
        "    }"
      ],
      "metadata": {
        "trusted": true,
        "execution": {
          "iopub.status.busy": "2025-01-16T16:47:45.464325Z",
          "iopub.execute_input": "2025-01-16T16:47:45.464598Z",
          "iopub.status.idle": "2025-01-16T16:47:45.469648Z",
          "shell.execute_reply.started": "2025-01-16T16:47:45.464572Z",
          "shell.execute_reply": "2025-01-16T16:47:45.468658Z"
        },
        "id": "4CtoiNjNOr8p"
      },
      "outputs": [],
      "execution_count": null
    },
    {
      "cell_type": "code",
      "source": [
        "baseline_results = calculate_results(val_labels, baseline_preds)\n",
        "baseline_results"
      ],
      "metadata": {
        "trusted": true,
        "execution": {
          "iopub.status.busy": "2025-01-16T16:47:45.470320Z",
          "iopub.execute_input": "2025-01-16T16:47:45.470568Z",
          "iopub.status.idle": "2025-01-16T16:47:45.496196Z",
          "shell.execute_reply.started": "2025-01-16T16:47:45.470545Z",
          "shell.execute_reply": "2025-01-16T16:47:45.495186Z"
        },
        "id": "V_mN1HjaOr8p",
        "outputId": "5297cf6a-2468-4c6d-9ca6-6d0e7e0c5c1c"
      },
      "outputs": [
        {
          "execution_count": 101,
          "output_type": "execute_result",
          "data": {
            "text/plain": "{'accuracy': 81.9543242231374,\n 'recall': 0.819543242231374,\n 'precision': 0.8293929484154704,\n 'f1': 0.8148942031170678}"
          },
          "metadata": {}
        }
      ],
      "execution_count": null
    },
    {
      "cell_type": "code",
      "source": [
        "import tensorflow as tf\n",
        "\n",
        "inputs = layers.Input(shape = (1, ), dtype = 'string')\n",
        "x = text_vectorizer(inputs)\n",
        "x = embedding(x)\n",
        "x = layers.GlobalAveragePooling1D()(x)\n",
        "outputs = layers.Dense(1, activation = 'sigmoid')(x)\n",
        "model_1 = tf.keras.Model(inputs, outputs, name = 'model_1_dense')"
      ],
      "metadata": {
        "trusted": true,
        "execution": {
          "iopub.status.busy": "2025-01-16T16:47:45.497519Z",
          "iopub.execute_input": "2025-01-16T16:47:45.497944Z",
          "iopub.status.idle": "2025-01-16T16:47:45.525408Z",
          "shell.execute_reply.started": "2025-01-16T16:47:45.497900Z",
          "shell.execute_reply": "2025-01-16T16:47:45.524356Z"
        },
        "id": "e81vAUx9Or8p"
      },
      "outputs": [],
      "execution_count": null
    },
    {
      "cell_type": "code",
      "source": [
        "model_1.compile(loss = 'binary_crossentropy',\n",
        "               optimizer = 'adam',\n",
        "               metrics = ['accuracy'])"
      ],
      "metadata": {
        "trusted": true,
        "execution": {
          "iopub.status.busy": "2025-01-16T16:47:45.526782Z",
          "iopub.execute_input": "2025-01-16T16:47:45.527078Z",
          "iopub.status.idle": "2025-01-16T16:47:45.535796Z",
          "shell.execute_reply.started": "2025-01-16T16:47:45.527049Z",
          "shell.execute_reply": "2025-01-16T16:47:45.534828Z"
        },
        "id": "MvHXytdXOr8p"
      },
      "outputs": [],
      "execution_count": null
    },
    {
      "cell_type": "code",
      "source": [
        "model_1.summary()"
      ],
      "metadata": {
        "trusted": true,
        "execution": {
          "iopub.status.busy": "2025-01-16T16:47:45.536787Z",
          "iopub.execute_input": "2025-01-16T16:47:45.537073Z",
          "iopub.status.idle": "2025-01-16T16:47:45.557734Z",
          "shell.execute_reply.started": "2025-01-16T16:47:45.537049Z",
          "shell.execute_reply": "2025-01-16T16:47:45.556563Z"
        },
        "id": "jc_2Un8xOr8p",
        "outputId": "4ec4828a-5965-4cfa-a03f-be7e8039a267"
      },
      "outputs": [
        {
          "output_type": "display_data",
          "data": {
            "text/plain": "\u001b[1mModel: \"model_1_dense\"\u001b[0m\n",
            "text/html": "<pre style=\"white-space:pre;overflow-x:auto;line-height:normal;font-family:Menlo,'DejaVu Sans Mono',consolas,'Courier New',monospace\"><span style=\"font-weight: bold\">Model: \"model_1_dense\"</span>\n</pre>\n"
          },
          "metadata": {}
        },
        {
          "output_type": "display_data",
          "data": {
            "text/plain": "┏━━━━━━━━━━━━━━━━━━━━━━━━━━━━━━━━━━━━━━┳━━━━━━━━━━━━━━━━━━━━━━━━━━━━━┳━━━━━━━━━━━━━━━━━┓\n┃\u001b[1m \u001b[0m\u001b[1mLayer (type)                        \u001b[0m\u001b[1m \u001b[0m┃\u001b[1m \u001b[0m\u001b[1mOutput Shape               \u001b[0m\u001b[1m \u001b[0m┃\u001b[1m \u001b[0m\u001b[1m        Param #\u001b[0m\u001b[1m \u001b[0m┃\n┡━━━━━━━━━━━━━━━━━━━━━━━━━━━━━━━━━━━━━━╇━━━━━━━━━━━━━━━━━━━━━━━━━━━━━╇━━━━━━━━━━━━━━━━━┩\n│ input_layer_5 (\u001b[38;5;33mInputLayer\u001b[0m)           │ (\u001b[38;5;45mNone\u001b[0m, \u001b[38;5;34m1\u001b[0m)                   │               \u001b[38;5;34m0\u001b[0m │\n├──────────────────────────────────────┼─────────────────────────────┼─────────────────┤\n│ text_vectorization_1                 │ (\u001b[38;5;45mNone\u001b[0m, \u001b[38;5;34m10\u001b[0m)                  │               \u001b[38;5;34m0\u001b[0m │\n│ (\u001b[38;5;33mTextVectorization\u001b[0m)                  │                             │                 │\n├──────────────────────────────────────┼─────────────────────────────┼─────────────────┤\n│ embedding_1 (\u001b[38;5;33mEmbedding\u001b[0m)              │ (\u001b[38;5;45mNone\u001b[0m, \u001b[38;5;34m10\u001b[0m, \u001b[38;5;34m128\u001b[0m)             │       \u001b[38;5;34m1,280,000\u001b[0m │\n├──────────────────────────────────────┼─────────────────────────────┼─────────────────┤\n│ global_average_pooling1d_1           │ (\u001b[38;5;45mNone\u001b[0m, \u001b[38;5;34m128\u001b[0m)                 │               \u001b[38;5;34m0\u001b[0m │\n│ (\u001b[38;5;33mGlobalAveragePooling1D\u001b[0m)             │                             │                 │\n├──────────────────────────────────────┼─────────────────────────────┼─────────────────┤\n│ dense_5 (\u001b[38;5;33mDense\u001b[0m)                      │ (\u001b[38;5;45mNone\u001b[0m, \u001b[38;5;34m1\u001b[0m)                   │             \u001b[38;5;34m129\u001b[0m │\n└──────────────────────────────────────┴─────────────────────────────┴─────────────────┘\n",
            "text/html": "<pre style=\"white-space:pre;overflow-x:auto;line-height:normal;font-family:Menlo,'DejaVu Sans Mono',consolas,'Courier New',monospace\">┏━━━━━━━━━━━━━━━━━━━━━━━━━━━━━━━━━━━━━━┳━━━━━━━━━━━━━━━━━━━━━━━━━━━━━┳━━━━━━━━━━━━━━━━━┓\n┃<span style=\"font-weight: bold\"> Layer (type)                         </span>┃<span style=\"font-weight: bold\"> Output Shape                </span>┃<span style=\"font-weight: bold\">         Param # </span>┃\n┡━━━━━━━━━━━━━━━━━━━━━━━━━━━━━━━━━━━━━━╇━━━━━━━━━━━━━━━━━━━━━━━━━━━━━╇━━━━━━━━━━━━━━━━━┩\n│ input_layer_5 (<span style=\"color: #0087ff; text-decoration-color: #0087ff\">InputLayer</span>)           │ (<span style=\"color: #00d7ff; text-decoration-color: #00d7ff\">None</span>, <span style=\"color: #00af00; text-decoration-color: #00af00\">1</span>)                   │               <span style=\"color: #00af00; text-decoration-color: #00af00\">0</span> │\n├──────────────────────────────────────┼─────────────────────────────┼─────────────────┤\n│ text_vectorization_1                 │ (<span style=\"color: #00d7ff; text-decoration-color: #00d7ff\">None</span>, <span style=\"color: #00af00; text-decoration-color: #00af00\">10</span>)                  │               <span style=\"color: #00af00; text-decoration-color: #00af00\">0</span> │\n│ (<span style=\"color: #0087ff; text-decoration-color: #0087ff\">TextVectorization</span>)                  │                             │                 │\n├──────────────────────────────────────┼─────────────────────────────┼─────────────────┤\n│ embedding_1 (<span style=\"color: #0087ff; text-decoration-color: #0087ff\">Embedding</span>)              │ (<span style=\"color: #00d7ff; text-decoration-color: #00d7ff\">None</span>, <span style=\"color: #00af00; text-decoration-color: #00af00\">10</span>, <span style=\"color: #00af00; text-decoration-color: #00af00\">128</span>)             │       <span style=\"color: #00af00; text-decoration-color: #00af00\">1,280,000</span> │\n├──────────────────────────────────────┼─────────────────────────────┼─────────────────┤\n│ global_average_pooling1d_1           │ (<span style=\"color: #00d7ff; text-decoration-color: #00d7ff\">None</span>, <span style=\"color: #00af00; text-decoration-color: #00af00\">128</span>)                 │               <span style=\"color: #00af00; text-decoration-color: #00af00\">0</span> │\n│ (<span style=\"color: #0087ff; text-decoration-color: #0087ff\">GlobalAveragePooling1D</span>)             │                             │                 │\n├──────────────────────────────────────┼─────────────────────────────┼─────────────────┤\n│ dense_5 (<span style=\"color: #0087ff; text-decoration-color: #0087ff\">Dense</span>)                      │ (<span style=\"color: #00d7ff; text-decoration-color: #00d7ff\">None</span>, <span style=\"color: #00af00; text-decoration-color: #00af00\">1</span>)                   │             <span style=\"color: #00af00; text-decoration-color: #00af00\">129</span> │\n└──────────────────────────────────────┴─────────────────────────────┴─────────────────┘\n</pre>\n"
          },
          "metadata": {}
        },
        {
          "output_type": "display_data",
          "data": {
            "text/plain": "\u001b[1m Total params: \u001b[0m\u001b[38;5;34m1,280,129\u001b[0m (4.88 MB)\n",
            "text/html": "<pre style=\"white-space:pre;overflow-x:auto;line-height:normal;font-family:Menlo,'DejaVu Sans Mono',consolas,'Courier New',monospace\"><span style=\"font-weight: bold\"> Total params: </span><span style=\"color: #00af00; text-decoration-color: #00af00\">1,280,129</span> (4.88 MB)\n</pre>\n"
          },
          "metadata": {}
        },
        {
          "output_type": "display_data",
          "data": {
            "text/plain": "\u001b[1m Trainable params: \u001b[0m\u001b[38;5;34m1,280,129\u001b[0m (4.88 MB)\n",
            "text/html": "<pre style=\"white-space:pre;overflow-x:auto;line-height:normal;font-family:Menlo,'DejaVu Sans Mono',consolas,'Courier New',monospace\"><span style=\"font-weight: bold\"> Trainable params: </span><span style=\"color: #00af00; text-decoration-color: #00af00\">1,280,129</span> (4.88 MB)\n</pre>\n"
          },
          "metadata": {}
        },
        {
          "output_type": "display_data",
          "data": {
            "text/plain": "\u001b[1m Non-trainable params: \u001b[0m\u001b[38;5;34m0\u001b[0m (0.00 B)\n",
            "text/html": "<pre style=\"white-space:pre;overflow-x:auto;line-height:normal;font-family:Menlo,'DejaVu Sans Mono',consolas,'Courier New',monospace\"><span style=\"font-weight: bold\"> Non-trainable params: </span><span style=\"color: #00af00; text-decoration-color: #00af00\">0</span> (0.00 B)\n</pre>\n"
          },
          "metadata": {}
        }
      ],
      "execution_count": null
    },
    {
      "cell_type": "code",
      "source": [
        "model_1_history = model_1.fit(train_sentences,\n",
        "                             train_labels,\n",
        "                             epochs = 5,\n",
        "                             validation_data = (val_sentences, val_labels))"
      ],
      "metadata": {
        "trusted": true,
        "execution": {
          "iopub.status.busy": "2025-01-16T16:47:45.558935Z",
          "iopub.execute_input": "2025-01-16T16:47:45.559340Z",
          "iopub.status.idle": "2025-01-16T16:48:14.367316Z",
          "shell.execute_reply.started": "2025-01-16T16:47:45.559270Z",
          "shell.execute_reply": "2025-01-16T16:48:14.366244Z"
        },
        "id": "L0byX4otOr8p",
        "outputId": "08835345-c6df-41ba-e3f4-abe2f1287d08"
      },
      "outputs": [
        {
          "name": "stdout",
          "text": "Epoch 1/5\n\u001b[1m752/752\u001b[0m \u001b[32m━━━━━━━━━━━━━━━━━━━━\u001b[0m\u001b[37m\u001b[0m \u001b[1m7s\u001b[0m 8ms/step - accuracy: 0.7361 - loss: 0.5514 - val_accuracy: 0.8476 - val_loss: 0.3628\nEpoch 2/5\n\u001b[1m752/752\u001b[0m \u001b[32m━━━━━━━━━━━━━━━━━━━━\u001b[0m\u001b[37m\u001b[0m \u001b[1m5s\u001b[0m 7ms/step - accuracy: 0.8762 - loss: 0.3041 - val_accuracy: 0.8521 - val_loss: 0.3518\nEpoch 3/5\n\u001b[1m752/752\u001b[0m \u001b[32m━━━━━━━━━━━━━━━━━━━━\u001b[0m\u001b[37m\u001b[0m \u001b[1m5s\u001b[0m 7ms/step - accuracy: 0.9060 - loss: 0.2364 - val_accuracy: 0.8491 - val_loss: 0.3758\nEpoch 4/5\n\u001b[1m752/752\u001b[0m \u001b[32m━━━━━━━━━━━━━━━━━━━━\u001b[0m\u001b[37m\u001b[0m \u001b[1m6s\u001b[0m 8ms/step - accuracy: 0.9242 - loss: 0.1973 - val_accuracy: 0.8428 - val_loss: 0.4141\nEpoch 5/5\n\u001b[1m752/752\u001b[0m \u001b[32m━━━━━━━━━━━━━━━━━━━━\u001b[0m\u001b[37m\u001b[0m \u001b[1m5s\u001b[0m 7ms/step - accuracy: 0.9375 - loss: 0.1705 - val_accuracy: 0.8297 - val_loss: 0.4608\n",
          "output_type": "stream"
        }
      ],
      "execution_count": null
    },
    {
      "cell_type": "code",
      "source": [
        "model_1.evaluate(val_sentences, val_labels)"
      ],
      "metadata": {
        "trusted": true,
        "execution": {
          "iopub.status.busy": "2025-01-16T16:48:14.368728Z",
          "iopub.execute_input": "2025-01-16T16:48:14.369016Z",
          "iopub.status.idle": "2025-01-16T16:48:14.574452Z",
          "shell.execute_reply.started": "2025-01-16T16:48:14.368990Z",
          "shell.execute_reply": "2025-01-16T16:48:14.573350Z"
        },
        "id": "28x18UhKOr8p",
        "outputId": "f3e2c89d-9f27-461a-d206-e56502dd056a"
      },
      "outputs": [
        {
          "name": "stdout",
          "text": "\u001b[1m84/84\u001b[0m \u001b[32m━━━━━━━━━━━━━━━━━━━━\u001b[0m\u001b[37m\u001b[0m \u001b[1m0s\u001b[0m 1ms/step - accuracy: 0.8393 - loss: 0.4420\n",
          "output_type": "stream"
        },
        {
          "execution_count": 106,
          "output_type": "execute_result",
          "data": {
            "text/plain": "[0.4607945382595062, 0.8296518325805664]"
          },
          "metadata": {}
        }
      ],
      "execution_count": null
    },
    {
      "cell_type": "code",
      "source": [
        "embedding.weights"
      ],
      "metadata": {
        "trusted": true,
        "execution": {
          "iopub.status.busy": "2025-01-16T16:48:14.575461Z",
          "iopub.execute_input": "2025-01-16T16:48:14.575788Z",
          "iopub.status.idle": "2025-01-16T16:48:14.581780Z",
          "shell.execute_reply.started": "2025-01-16T16:48:14.575760Z",
          "shell.execute_reply": "2025-01-16T16:48:14.580702Z"
        },
        "id": "Pc_P46mrOr8q",
        "outputId": "a96d2238-08db-44dd-a938-05fe9e63506f"
      },
      "outputs": [
        {
          "execution_count": 107,
          "output_type": "execute_result",
          "data": {
            "text/plain": "[<KerasVariable shape=(10000, 128), dtype=float32, path=embedding_1/embeddings>]"
          },
          "metadata": {}
        }
      ],
      "execution_count": null
    },
    {
      "cell_type": "code",
      "source": [
        "model_1_pred_probs = model_1.predict(val_sentences)\n",
        "model_1_pred_probs[:10]"
      ],
      "metadata": {
        "trusted": true,
        "execution": {
          "iopub.status.busy": "2025-01-16T16:48:14.582780Z",
          "iopub.execute_input": "2025-01-16T16:48:14.583080Z",
          "iopub.status.idle": "2025-01-16T16:48:15.059401Z",
          "shell.execute_reply.started": "2025-01-16T16:48:14.583040Z",
          "shell.execute_reply": "2025-01-16T16:48:15.058399Z"
        },
        "id": "0J5Ck7FJOr8q",
        "outputId": "d9361812-3031-43b0-ff8d-e680735e0ad8"
      },
      "outputs": [
        {
          "name": "stdout",
          "text": "\u001b[1m84/84\u001b[0m \u001b[32m━━━━━━━━━━━━━━━━━━━━\u001b[0m\u001b[37m\u001b[0m \u001b[1m0s\u001b[0m 3ms/step\n",
          "output_type": "stream"
        },
        {
          "execution_count": 108,
          "output_type": "execute_result",
          "data": {
            "text/plain": "array([[9.9775195e-01],\n       [1.5027408e-01],\n       [1.3191272e-01],\n       [4.7634253e-01],\n       [6.6940361e-01],\n       [9.6209002e-01],\n       [2.4095995e-04],\n       [6.0990363e-01],\n       [2.4794384e-03],\n       [8.9325085e-03]], dtype=float32)"
          },
          "metadata": {}
        }
      ],
      "execution_count": null
    },
    {
      "cell_type": "code",
      "source": [
        "model_1_preds = tf.squeeze(tf.round(model_1_pred_probs))\n",
        "model_1_preds[:10]"
      ],
      "metadata": {
        "trusted": true,
        "execution": {
          "iopub.status.busy": "2025-01-16T16:48:15.060322Z",
          "iopub.execute_input": "2025-01-16T16:48:15.060601Z",
          "iopub.status.idle": "2025-01-16T16:48:15.068771Z",
          "shell.execute_reply.started": "2025-01-16T16:48:15.060577Z",
          "shell.execute_reply": "2025-01-16T16:48:15.067764Z"
        },
        "id": "26jjwjuXOr8q",
        "outputId": "936df539-eafd-411e-bdc0-635819a64f33"
      },
      "outputs": [
        {
          "execution_count": 109,
          "output_type": "execute_result",
          "data": {
            "text/plain": "<tf.Tensor: shape=(10,), dtype=float32, numpy=array([1., 0., 0., 0., 1., 1., 0., 1., 0., 0.], dtype=float32)>"
          },
          "metadata": {}
        }
      ],
      "execution_count": null
    },
    {
      "cell_type": "code",
      "source": [
        "model_1_results = calculate_results(val_labels, model_1_preds)\n",
        "model_1_results"
      ],
      "metadata": {
        "trusted": true,
        "execution": {
          "iopub.status.busy": "2025-01-16T16:48:15.069860Z",
          "iopub.execute_input": "2025-01-16T16:48:15.070191Z",
          "iopub.status.idle": "2025-01-16T16:48:15.090697Z",
          "shell.execute_reply.started": "2025-01-16T16:48:15.070150Z",
          "shell.execute_reply": "2025-01-16T16:48:15.089553Z"
        },
        "id": "av-VyIqXOr8q",
        "outputId": "fd61c60d-7536-47b8-a5ac-98fc136f3d68"
      },
      "outputs": [
        {
          "execution_count": 110,
          "output_type": "execute_result",
          "data": {
            "text/plain": "{'accuracy': 82.96518157993262,\n 'recall': 0.8296518157993261,\n 'precision': 0.8303040815212329,\n 'f1': 0.8298795197681974}"
          },
          "metadata": {}
        }
      ],
      "execution_count": null
    },
    {
      "cell_type": "code",
      "source": [
        "np.array(list(model_1_results.values())) > np.array(list(baseline_results.values()))"
      ],
      "metadata": {
        "trusted": true,
        "execution": {
          "iopub.status.busy": "2025-01-16T16:48:15.091751Z",
          "iopub.execute_input": "2025-01-16T16:48:15.092016Z",
          "iopub.status.idle": "2025-01-16T16:48:15.107553Z",
          "shell.execute_reply.started": "2025-01-16T16:48:15.091992Z",
          "shell.execute_reply": "2025-01-16T16:48:15.106442Z"
        },
        "id": "uoiFqgVcOr8q",
        "outputId": "48dc6476-d8e8-4414-90e3-be865036f001"
      },
      "outputs": [
        {
          "execution_count": 111,
          "output_type": "execute_result",
          "data": {
            "text/plain": "array([ True,  True,  True,  True])"
          },
          "metadata": {}
        }
      ],
      "execution_count": null
    },
    {
      "cell_type": "code",
      "source": [
        "def compare_baseline_to_new_results(baseline_results, new_model_results):\n",
        "    for key, value in baseline_results.items():\n",
        "        print(f'Baseline {key}:{value:.2f}, New {key}: {new_model_results[key]:.2f}, Difference : {new_model_results[key] - value:.2f}')\n",
        "\n",
        "compare_baseline_to_new_results(baseline_results, model_1_results)"
      ],
      "metadata": {
        "trusted": true,
        "execution": {
          "iopub.status.busy": "2025-01-16T16:48:15.108585Z",
          "iopub.execute_input": "2025-01-16T16:48:15.108954Z",
          "iopub.status.idle": "2025-01-16T16:48:15.126915Z",
          "shell.execute_reply.started": "2025-01-16T16:48:15.108923Z",
          "shell.execute_reply": "2025-01-16T16:48:15.125630Z"
        },
        "id": "jPFQ5wPdOr8q",
        "outputId": "dd0e87b2-172b-4308-c919-e20173fd2840"
      },
      "outputs": [
        {
          "name": "stdout",
          "text": "Baseline accuracy:81.95, New accuracy: 82.97, Difference : 1.01\nBaseline recall:0.82, New recall: 0.83, Difference : 0.01\nBaseline precision:0.83, New precision: 0.83, Difference : 0.00\nBaseline f1:0.81, New f1: 0.83, Difference : 0.01\n",
          "output_type": "stream"
        }
      ],
      "execution_count": null
    },
    {
      "cell_type": "code",
      "source": [
        "tf.random.set_seed(42)\n",
        "\n",
        "model_2_embedding = layers.Embedding(input_dim = max_vocab_length,\n",
        "                                    output_dim = 128,\n",
        "                                    embeddings_initializer = 'uniform',\n",
        "                                    input_length = max_length,\n",
        "                                    name = 'embedding_2')\n",
        "\n",
        "inputs = layers.Input(shape = (1, ), dtype = 'string')\n",
        "x = text_vectorizer(inputs)\n",
        "x = model_2_embedding(x)\n",
        "print(x.shape)\n",
        "x = layers.LSTM(64)(x)\n",
        "outputs = layers.Dense(1, activation = 'sigmoid')(x)\n",
        "model_2 = tf.keras.Model(inputs, outputs, name = 'model_2_LSTM')"
      ],
      "metadata": {
        "trusted": true,
        "execution": {
          "iopub.status.busy": "2025-01-16T16:48:15.128191Z",
          "iopub.execute_input": "2025-01-16T16:48:15.128619Z",
          "iopub.status.idle": "2025-01-16T16:48:15.234542Z",
          "shell.execute_reply.started": "2025-01-16T16:48:15.128578Z",
          "shell.execute_reply": "2025-01-16T16:48:15.233437Z"
        },
        "id": "xW72X7GXOr8r",
        "outputId": "5cffae66-d00d-429a-de5b-614ef8464361"
      },
      "outputs": [
        {
          "name": "stdout",
          "text": "(None, 10, 128)\n",
          "output_type": "stream"
        },
        {
          "name": "stderr",
          "text": "/usr/local/lib/python3.10/dist-packages/keras/src/layers/core/embedding.py:90: UserWarning: Argument `input_length` is deprecated. Just remove it.\n  warnings.warn(\n",
          "output_type": "stream"
        }
      ],
      "execution_count": null
    },
    {
      "cell_type": "code",
      "source": [
        "def compile_and_display_model_summary(model, loss = 'binary_crossentropy', optimizer = 'adam', metrics = ['accuracy']):\n",
        "    model.compile(loss = loss,\n",
        "                 optimizer = optimizer,\n",
        "                 metrics = metrics)\n",
        "    return model.summary()"
      ],
      "metadata": {
        "trusted": true,
        "execution": {
          "iopub.status.busy": "2025-01-16T16:48:15.235569Z",
          "iopub.execute_input": "2025-01-16T16:48:15.235948Z",
          "iopub.status.idle": "2025-01-16T16:48:15.241002Z",
          "shell.execute_reply.started": "2025-01-16T16:48:15.235911Z",
          "shell.execute_reply": "2025-01-16T16:48:15.240170Z"
        },
        "id": "PZE2p0ESOr8r"
      },
      "outputs": [],
      "execution_count": null
    },
    {
      "cell_type": "code",
      "source": [
        "model_2_compile_display_summary = compile_and_display_model_summary(model_2)\n",
        "model_2_compile_display_summary"
      ],
      "metadata": {
        "trusted": true,
        "execution": {
          "iopub.status.busy": "2025-01-16T16:48:15.242080Z",
          "iopub.execute_input": "2025-01-16T16:48:15.242408Z",
          "iopub.status.idle": "2025-01-16T16:48:15.284987Z",
          "shell.execute_reply.started": "2025-01-16T16:48:15.242382Z",
          "shell.execute_reply": "2025-01-16T16:48:15.284069Z"
        },
        "id": "2tsN73enOr8r",
        "outputId": "f08d02f5-6156-455b-b4eb-9d6ad3796b01"
      },
      "outputs": [
        {
          "output_type": "display_data",
          "data": {
            "text/plain": "\u001b[1mModel: \"model_2_LSTM\"\u001b[0m\n",
            "text/html": "<pre style=\"white-space:pre;overflow-x:auto;line-height:normal;font-family:Menlo,'DejaVu Sans Mono',consolas,'Courier New',monospace\"><span style=\"font-weight: bold\">Model: \"model_2_LSTM\"</span>\n</pre>\n"
          },
          "metadata": {}
        },
        {
          "output_type": "display_data",
          "data": {
            "text/plain": "┏━━━━━━━━━━━━━━━━━━━━━━━━━━━━━━━━━━━━━━┳━━━━━━━━━━━━━━━━━━━━━━━━━━━━━┳━━━━━━━━━━━━━━━━━┓\n┃\u001b[1m \u001b[0m\u001b[1mLayer (type)                        \u001b[0m\u001b[1m \u001b[0m┃\u001b[1m \u001b[0m\u001b[1mOutput Shape               \u001b[0m\u001b[1m \u001b[0m┃\u001b[1m \u001b[0m\u001b[1m        Param #\u001b[0m\u001b[1m \u001b[0m┃\n┡━━━━━━━━━━━━━━━━━━━━━━━━━━━━━━━━━━━━━━╇━━━━━━━━━━━━━━━━━━━━━━━━━━━━━╇━━━━━━━━━━━━━━━━━┩\n│ input_layer_6 (\u001b[38;5;33mInputLayer\u001b[0m)           │ (\u001b[38;5;45mNone\u001b[0m, \u001b[38;5;34m1\u001b[0m)                   │               \u001b[38;5;34m0\u001b[0m │\n├──────────────────────────────────────┼─────────────────────────────┼─────────────────┤\n│ text_vectorization_1                 │ (\u001b[38;5;45mNone\u001b[0m, \u001b[38;5;34m10\u001b[0m)                  │               \u001b[38;5;34m0\u001b[0m │\n│ (\u001b[38;5;33mTextVectorization\u001b[0m)                  │                             │                 │\n├──────────────────────────────────────┼─────────────────────────────┼─────────────────┤\n│ embedding_2 (\u001b[38;5;33mEmbedding\u001b[0m)              │ (\u001b[38;5;45mNone\u001b[0m, \u001b[38;5;34m10\u001b[0m, \u001b[38;5;34m128\u001b[0m)             │       \u001b[38;5;34m1,280,000\u001b[0m │\n├──────────────────────────────────────┼─────────────────────────────┼─────────────────┤\n│ lstm_2 (\u001b[38;5;33mLSTM\u001b[0m)                        │ (\u001b[38;5;45mNone\u001b[0m, \u001b[38;5;34m64\u001b[0m)                  │          \u001b[38;5;34m49,408\u001b[0m │\n├──────────────────────────────────────┼─────────────────────────────┼─────────────────┤\n│ dense_6 (\u001b[38;5;33mDense\u001b[0m)                      │ (\u001b[38;5;45mNone\u001b[0m, \u001b[38;5;34m1\u001b[0m)                   │              \u001b[38;5;34m65\u001b[0m │\n└──────────────────────────────────────┴─────────────────────────────┴─────────────────┘\n",
            "text/html": "<pre style=\"white-space:pre;overflow-x:auto;line-height:normal;font-family:Menlo,'DejaVu Sans Mono',consolas,'Courier New',monospace\">┏━━━━━━━━━━━━━━━━━━━━━━━━━━━━━━━━━━━━━━┳━━━━━━━━━━━━━━━━━━━━━━━━━━━━━┳━━━━━━━━━━━━━━━━━┓\n┃<span style=\"font-weight: bold\"> Layer (type)                         </span>┃<span style=\"font-weight: bold\"> Output Shape                </span>┃<span style=\"font-weight: bold\">         Param # </span>┃\n┡━━━━━━━━━━━━━━━━━━━━━━━━━━━━━━━━━━━━━━╇━━━━━━━━━━━━━━━━━━━━━━━━━━━━━╇━━━━━━━━━━━━━━━━━┩\n│ input_layer_6 (<span style=\"color: #0087ff; text-decoration-color: #0087ff\">InputLayer</span>)           │ (<span style=\"color: #00d7ff; text-decoration-color: #00d7ff\">None</span>, <span style=\"color: #00af00; text-decoration-color: #00af00\">1</span>)                   │               <span style=\"color: #00af00; text-decoration-color: #00af00\">0</span> │\n├──────────────────────────────────────┼─────────────────────────────┼─────────────────┤\n│ text_vectorization_1                 │ (<span style=\"color: #00d7ff; text-decoration-color: #00d7ff\">None</span>, <span style=\"color: #00af00; text-decoration-color: #00af00\">10</span>)                  │               <span style=\"color: #00af00; text-decoration-color: #00af00\">0</span> │\n│ (<span style=\"color: #0087ff; text-decoration-color: #0087ff\">TextVectorization</span>)                  │                             │                 │\n├──────────────────────────────────────┼─────────────────────────────┼─────────────────┤\n│ embedding_2 (<span style=\"color: #0087ff; text-decoration-color: #0087ff\">Embedding</span>)              │ (<span style=\"color: #00d7ff; text-decoration-color: #00d7ff\">None</span>, <span style=\"color: #00af00; text-decoration-color: #00af00\">10</span>, <span style=\"color: #00af00; text-decoration-color: #00af00\">128</span>)             │       <span style=\"color: #00af00; text-decoration-color: #00af00\">1,280,000</span> │\n├──────────────────────────────────────┼─────────────────────────────┼─────────────────┤\n│ lstm_2 (<span style=\"color: #0087ff; text-decoration-color: #0087ff\">LSTM</span>)                        │ (<span style=\"color: #00d7ff; text-decoration-color: #00d7ff\">None</span>, <span style=\"color: #00af00; text-decoration-color: #00af00\">64</span>)                  │          <span style=\"color: #00af00; text-decoration-color: #00af00\">49,408</span> │\n├──────────────────────────────────────┼─────────────────────────────┼─────────────────┤\n│ dense_6 (<span style=\"color: #0087ff; text-decoration-color: #0087ff\">Dense</span>)                      │ (<span style=\"color: #00d7ff; text-decoration-color: #00d7ff\">None</span>, <span style=\"color: #00af00; text-decoration-color: #00af00\">1</span>)                   │              <span style=\"color: #00af00; text-decoration-color: #00af00\">65</span> │\n└──────────────────────────────────────┴─────────────────────────────┴─────────────────┘\n</pre>\n"
          },
          "metadata": {}
        },
        {
          "output_type": "display_data",
          "data": {
            "text/plain": "\u001b[1m Total params: \u001b[0m\u001b[38;5;34m1,329,473\u001b[0m (5.07 MB)\n",
            "text/html": "<pre style=\"white-space:pre;overflow-x:auto;line-height:normal;font-family:Menlo,'DejaVu Sans Mono',consolas,'Courier New',monospace\"><span style=\"font-weight: bold\"> Total params: </span><span style=\"color: #00af00; text-decoration-color: #00af00\">1,329,473</span> (5.07 MB)\n</pre>\n"
          },
          "metadata": {}
        },
        {
          "output_type": "display_data",
          "data": {
            "text/plain": "\u001b[1m Trainable params: \u001b[0m\u001b[38;5;34m1,329,473\u001b[0m (5.07 MB)\n",
            "text/html": "<pre style=\"white-space:pre;overflow-x:auto;line-height:normal;font-family:Menlo,'DejaVu Sans Mono',consolas,'Courier New',monospace\"><span style=\"font-weight: bold\"> Trainable params: </span><span style=\"color: #00af00; text-decoration-color: #00af00\">1,329,473</span> (5.07 MB)\n</pre>\n"
          },
          "metadata": {}
        },
        {
          "output_type": "display_data",
          "data": {
            "text/plain": "\u001b[1m Non-trainable params: \u001b[0m\u001b[38;5;34m0\u001b[0m (0.00 B)\n",
            "text/html": "<pre style=\"white-space:pre;overflow-x:auto;line-height:normal;font-family:Menlo,'DejaVu Sans Mono',consolas,'Courier New',monospace\"><span style=\"font-weight: bold\"> Non-trainable params: </span><span style=\"color: #00af00; text-decoration-color: #00af00\">0</span> (0.00 B)\n</pre>\n"
          },
          "metadata": {}
        }
      ],
      "execution_count": null
    },
    {
      "cell_type": "code",
      "source": [
        "def model_fit(model):\n",
        "    return model.fit(train_sentences,\n",
        "                    train_labels,\n",
        "                    epochs = 5,\n",
        "                    validation_data = (val_sentences, val_labels))"
      ],
      "metadata": {
        "trusted": true,
        "execution": {
          "iopub.status.busy": "2025-01-16T16:48:15.286053Z",
          "iopub.execute_input": "2025-01-16T16:48:15.286439Z",
          "iopub.status.idle": "2025-01-16T16:48:15.291372Z",
          "shell.execute_reply.started": "2025-01-16T16:48:15.286398Z",
          "shell.execute_reply": "2025-01-16T16:48:15.290298Z"
        },
        "id": "PmB3oU2QOr8r"
      },
      "outputs": [],
      "execution_count": null
    },
    {
      "cell_type": "code",
      "source": [
        "model_2_fit = model_fit(model_2)\n",
        "model_2_fit"
      ],
      "metadata": {
        "trusted": true,
        "execution": {
          "iopub.status.busy": "2025-01-16T16:48:15.292412Z",
          "iopub.execute_input": "2025-01-16T16:48:15.292818Z",
          "iopub.status.idle": "2025-01-16T16:49:03.341319Z",
          "shell.execute_reply.started": "2025-01-16T16:48:15.292790Z",
          "shell.execute_reply": "2025-01-16T16:49:03.340214Z"
        },
        "id": "8hY4_OGnOr8r",
        "outputId": "d779c49b-77d7-485b-fa2e-ded161b6174e"
      },
      "outputs": [
        {
          "name": "stdout",
          "text": "Epoch 1/5\n\u001b[1m752/752\u001b[0m \u001b[32m━━━━━━━━━━━━━━━━━━━━\u001b[0m\u001b[37m\u001b[0m \u001b[1m12s\u001b[0m 12ms/step - accuracy: 0.7658 - loss: 0.4621 - val_accuracy: 0.8506 - val_loss: 0.3442\nEpoch 2/5\n\u001b[1m752/752\u001b[0m \u001b[32m━━━━━━━━━━━━━━━━━━━━\u001b[0m\u001b[37m\u001b[0m \u001b[1m9s\u001b[0m 12ms/step - accuracy: 0.9029 - loss: 0.2400 - val_accuracy: 0.8398 - val_loss: 0.4178\nEpoch 3/5\n\u001b[1m752/752\u001b[0m \u001b[32m━━━━━━━━━━━━━━━━━━━━\u001b[0m\u001b[37m\u001b[0m \u001b[1m9s\u001b[0m 12ms/step - accuracy: 0.9496 - loss: 0.1346 - val_accuracy: 0.8117 - val_loss: 0.6266\nEpoch 4/5\n\u001b[1m752/752\u001b[0m \u001b[32m━━━━━━━━━━━━━━━━━━━━\u001b[0m\u001b[37m\u001b[0m \u001b[1m9s\u001b[0m 12ms/step - accuracy: 0.9746 - loss: 0.0720 - val_accuracy: 0.8128 - val_loss: 0.6626\nEpoch 5/5\n\u001b[1m752/752\u001b[0m \u001b[32m━━━━━━━━━━━━━━━━━━━━\u001b[0m\u001b[37m\u001b[0m \u001b[1m9s\u001b[0m 12ms/step - accuracy: 0.9828 - loss: 0.0530 - val_accuracy: 0.8064 - val_loss: 0.6729\n",
          "output_type": "stream"
        },
        {
          "execution_count": 117,
          "output_type": "execute_result",
          "data": {
            "text/plain": "<keras.src.callbacks.history.History at 0x7952ac619270>"
          },
          "metadata": {}
        }
      ],
      "execution_count": null
    },
    {
      "cell_type": "code",
      "source": [
        "model_2_pred_probs = model_2.predict(val_sentences)\n",
        "model_2_pred_probs[:10]"
      ],
      "metadata": {
        "trusted": true,
        "execution": {
          "iopub.status.busy": "2025-01-16T16:49:03.342360Z",
          "iopub.execute_input": "2025-01-16T16:49:03.342645Z",
          "iopub.status.idle": "2025-01-16T16:49:04.233066Z",
          "shell.execute_reply.started": "2025-01-16T16:49:03.342619Z",
          "shell.execute_reply": "2025-01-16T16:49:04.232051Z"
        },
        "id": "yT-pxpz3Or8y",
        "outputId": "729c15d9-7aba-461a-f145-c42121a64ff0"
      },
      "outputs": [
        {
          "name": "stdout",
          "text": "\u001b[1m84/84\u001b[0m \u001b[32m━━━━━━━━━━━━━━━━━━━━\u001b[0m\u001b[37m\u001b[0m \u001b[1m1s\u001b[0m 6ms/step\n",
          "output_type": "stream"
        },
        {
          "execution_count": 118,
          "output_type": "execute_result",
          "data": {
            "text/plain": "array([[9.99933839e-01],\n       [8.74600261e-02],\n       [9.25441682e-02],\n       [7.83085227e-01],\n       [2.36686155e-01],\n       [9.98341620e-01],\n       [9.05818015e-04],\n       [8.46972346e-01],\n       [1.14768736e-01],\n       [1.29818292e-02]], dtype=float32)"
          },
          "metadata": {}
        }
      ],
      "execution_count": null
    },
    {
      "cell_type": "code",
      "source": [
        "model_2_preds = tf.squeeze(tf.round(model_2_pred_probs))\n",
        "model_2_preds[:10]"
      ],
      "metadata": {
        "trusted": true,
        "execution": {
          "iopub.status.busy": "2025-01-16T16:49:04.234023Z",
          "iopub.execute_input": "2025-01-16T16:49:04.234380Z",
          "iopub.status.idle": "2025-01-16T16:49:04.245288Z",
          "shell.execute_reply.started": "2025-01-16T16:49:04.234350Z",
          "shell.execute_reply": "2025-01-16T16:49:04.244136Z"
        },
        "id": "jUUayRNlOr8z",
        "outputId": "8fe42de8-c23a-408a-f59c-e14bfcf990ce"
      },
      "outputs": [
        {
          "execution_count": 119,
          "output_type": "execute_result",
          "data": {
            "text/plain": "<tf.Tensor: shape=(10,), dtype=float32, numpy=array([1., 0., 0., 1., 0., 1., 0., 1., 0., 0.], dtype=float32)>"
          },
          "metadata": {}
        }
      ],
      "execution_count": null
    },
    {
      "cell_type": "code",
      "source": [
        "model_2_results = calculate_results(val_labels, model_2_preds)\n",
        "model_2_results"
      ],
      "metadata": {
        "trusted": true,
        "execution": {
          "iopub.status.busy": "2025-01-16T16:49:04.246371Z",
          "iopub.execute_input": "2025-01-16T16:49:04.246793Z",
          "iopub.status.idle": "2025-01-16T16:49:04.262965Z",
          "shell.execute_reply.started": "2025-01-16T16:49:04.246759Z",
          "shell.execute_reply": "2025-01-16T16:49:04.261893Z"
        },
        "id": "miPQqc5tOr8z",
        "outputId": "62f780aa-6dde-4d35-d036-072b8f0ba580"
      },
      "outputs": [
        {
          "execution_count": 120,
          "output_type": "execute_result",
          "data": {
            "text/plain": "{'accuracy': 80.64395357543991,\n 'recall': 0.8064395357543991,\n 'precision': 0.8078759931516329,\n 'f1': 0.8068628216565336}"
          },
          "metadata": {}
        }
      ],
      "execution_count": null
    },
    {
      "cell_type": "code",
      "source": [
        "compare_baseline_to_new_results(baseline_results, model_2_results)"
      ],
      "metadata": {
        "trusted": true,
        "execution": {
          "iopub.status.busy": "2025-01-16T16:49:04.264108Z",
          "iopub.execute_input": "2025-01-16T16:49:04.264526Z",
          "iopub.status.idle": "2025-01-16T16:49:04.270504Z",
          "shell.execute_reply.started": "2025-01-16T16:49:04.264482Z",
          "shell.execute_reply": "2025-01-16T16:49:04.269715Z"
        },
        "id": "9sjEvJrDOr8z",
        "outputId": "c403d468-8a7b-4bdb-83a7-f9f1729baa77"
      },
      "outputs": [
        {
          "name": "stdout",
          "text": "Baseline accuracy:81.95, New accuracy: 80.64, Difference : -1.31\nBaseline recall:0.82, New recall: 0.81, Difference : -0.01\nBaseline precision:0.83, New precision: 0.81, Difference : -0.02\nBaseline f1:0.81, New f1: 0.81, Difference : -0.01\n",
          "output_type": "stream"
        }
      ],
      "execution_count": null
    },
    {
      "cell_type": "code",
      "source": [
        "tf.random.set_seed(42)\n",
        "\n",
        "model_3_embedding = layers.Embedding(input_dim = max_vocab_length,\n",
        "                                    output_dim = 128,\n",
        "                                    embeddings_initializer = 'uniform',\n",
        "                                    input_length = max_length,\n",
        "                                    name = 'embedding_3')\n",
        "\n",
        "inputs = layers.Input(shape = (1, ), dtype = 'string')\n",
        "x = text_vectorizer(inputs)\n",
        "x = model_3_embedding(x)\n",
        "x = layers.GRU(64)(x)\n",
        "outputs = layers.Dense(1, activation = 'sigmoid')(x)\n",
        "model_3 = tf.keras.Model(inputs, outputs, name = 'model_3_GRU')"
      ],
      "metadata": {
        "trusted": true,
        "execution": {
          "iopub.status.busy": "2025-01-16T16:49:04.271631Z",
          "iopub.execute_input": "2025-01-16T16:49:04.272078Z",
          "iopub.status.idle": "2025-01-16T16:49:04.371707Z",
          "shell.execute_reply.started": "2025-01-16T16:49:04.272039Z",
          "shell.execute_reply": "2025-01-16T16:49:04.370642Z"
        },
        "id": "vIjupe82Or8z",
        "outputId": "ea601f52-e77f-46c5-b9e3-531e1eeabfc5"
      },
      "outputs": [
        {
          "name": "stderr",
          "text": "/usr/local/lib/python3.10/dist-packages/keras/src/layers/core/embedding.py:90: UserWarning: Argument `input_length` is deprecated. Just remove it.\n  warnings.warn(\n",
          "output_type": "stream"
        }
      ],
      "execution_count": null
    },
    {
      "cell_type": "code",
      "source": [
        "model_3_compile_display_summary = compile_and_display_model_summary(model_3)\n",
        "model_3_compile_display_summary"
      ],
      "metadata": {
        "trusted": true,
        "execution": {
          "iopub.status.busy": "2025-01-16T16:49:04.372696Z",
          "iopub.execute_input": "2025-01-16T16:49:04.373026Z",
          "iopub.status.idle": "2025-01-16T16:49:04.402735Z",
          "shell.execute_reply.started": "2025-01-16T16:49:04.372997Z",
          "shell.execute_reply": "2025-01-16T16:49:04.401746Z"
        },
        "id": "uZDbBBLJOr8z",
        "outputId": "bdd10b9c-2814-4aa6-9d93-8f49b21702d8"
      },
      "outputs": [
        {
          "output_type": "display_data",
          "data": {
            "text/plain": "\u001b[1mModel: \"model_3_GRU\"\u001b[0m\n",
            "text/html": "<pre style=\"white-space:pre;overflow-x:auto;line-height:normal;font-family:Menlo,'DejaVu Sans Mono',consolas,'Courier New',monospace\"><span style=\"font-weight: bold\">Model: \"model_3_GRU\"</span>\n</pre>\n"
          },
          "metadata": {}
        },
        {
          "output_type": "display_data",
          "data": {
            "text/plain": "┏━━━━━━━━━━━━━━━━━━━━━━━━━━━━━━━━━━━━━━┳━━━━━━━━━━━━━━━━━━━━━━━━━━━━━┳━━━━━━━━━━━━━━━━━┓\n┃\u001b[1m \u001b[0m\u001b[1mLayer (type)                        \u001b[0m\u001b[1m \u001b[0m┃\u001b[1m \u001b[0m\u001b[1mOutput Shape               \u001b[0m\u001b[1m \u001b[0m┃\u001b[1m \u001b[0m\u001b[1m        Param #\u001b[0m\u001b[1m \u001b[0m┃\n┡━━━━━━━━━━━━━━━━━━━━━━━━━━━━━━━━━━━━━━╇━━━━━━━━━━━━━━━━━━━━━━━━━━━━━╇━━━━━━━━━━━━━━━━━┩\n│ input_layer_7 (\u001b[38;5;33mInputLayer\u001b[0m)           │ (\u001b[38;5;45mNone\u001b[0m, \u001b[38;5;34m1\u001b[0m)                   │               \u001b[38;5;34m0\u001b[0m │\n├──────────────────────────────────────┼─────────────────────────────┼─────────────────┤\n│ text_vectorization_1                 │ (\u001b[38;5;45mNone\u001b[0m, \u001b[38;5;34m10\u001b[0m)                  │               \u001b[38;5;34m0\u001b[0m │\n│ (\u001b[38;5;33mTextVectorization\u001b[0m)                  │                             │                 │\n├──────────────────────────────────────┼─────────────────────────────┼─────────────────┤\n│ embedding_3 (\u001b[38;5;33mEmbedding\u001b[0m)              │ (\u001b[38;5;45mNone\u001b[0m, \u001b[38;5;34m10\u001b[0m, \u001b[38;5;34m128\u001b[0m)             │       \u001b[38;5;34m1,280,000\u001b[0m │\n├──────────────────────────────────────┼─────────────────────────────┼─────────────────┤\n│ gru_1 (\u001b[38;5;33mGRU\u001b[0m)                          │ (\u001b[38;5;45mNone\u001b[0m, \u001b[38;5;34m64\u001b[0m)                  │          \u001b[38;5;34m37,248\u001b[0m │\n├──────────────────────────────────────┼─────────────────────────────┼─────────────────┤\n│ dense_7 (\u001b[38;5;33mDense\u001b[0m)                      │ (\u001b[38;5;45mNone\u001b[0m, \u001b[38;5;34m1\u001b[0m)                   │              \u001b[38;5;34m65\u001b[0m │\n└──────────────────────────────────────┴─────────────────────────────┴─────────────────┘\n",
            "text/html": "<pre style=\"white-space:pre;overflow-x:auto;line-height:normal;font-family:Menlo,'DejaVu Sans Mono',consolas,'Courier New',monospace\">┏━━━━━━━━━━━━━━━━━━━━━━━━━━━━━━━━━━━━━━┳━━━━━━━━━━━━━━━━━━━━━━━━━━━━━┳━━━━━━━━━━━━━━━━━┓\n┃<span style=\"font-weight: bold\"> Layer (type)                         </span>┃<span style=\"font-weight: bold\"> Output Shape                </span>┃<span style=\"font-weight: bold\">         Param # </span>┃\n┡━━━━━━━━━━━━━━━━━━━━━━━━━━━━━━━━━━━━━━╇━━━━━━━━━━━━━━━━━━━━━━━━━━━━━╇━━━━━━━━━━━━━━━━━┩\n│ input_layer_7 (<span style=\"color: #0087ff; text-decoration-color: #0087ff\">InputLayer</span>)           │ (<span style=\"color: #00d7ff; text-decoration-color: #00d7ff\">None</span>, <span style=\"color: #00af00; text-decoration-color: #00af00\">1</span>)                   │               <span style=\"color: #00af00; text-decoration-color: #00af00\">0</span> │\n├──────────────────────────────────────┼─────────────────────────────┼─────────────────┤\n│ text_vectorization_1                 │ (<span style=\"color: #00d7ff; text-decoration-color: #00d7ff\">None</span>, <span style=\"color: #00af00; text-decoration-color: #00af00\">10</span>)                  │               <span style=\"color: #00af00; text-decoration-color: #00af00\">0</span> │\n│ (<span style=\"color: #0087ff; text-decoration-color: #0087ff\">TextVectorization</span>)                  │                             │                 │\n├──────────────────────────────────────┼─────────────────────────────┼─────────────────┤\n│ embedding_3 (<span style=\"color: #0087ff; text-decoration-color: #0087ff\">Embedding</span>)              │ (<span style=\"color: #00d7ff; text-decoration-color: #00d7ff\">None</span>, <span style=\"color: #00af00; text-decoration-color: #00af00\">10</span>, <span style=\"color: #00af00; text-decoration-color: #00af00\">128</span>)             │       <span style=\"color: #00af00; text-decoration-color: #00af00\">1,280,000</span> │\n├──────────────────────────────────────┼─────────────────────────────┼─────────────────┤\n│ gru_1 (<span style=\"color: #0087ff; text-decoration-color: #0087ff\">GRU</span>)                          │ (<span style=\"color: #00d7ff; text-decoration-color: #00d7ff\">None</span>, <span style=\"color: #00af00; text-decoration-color: #00af00\">64</span>)                  │          <span style=\"color: #00af00; text-decoration-color: #00af00\">37,248</span> │\n├──────────────────────────────────────┼─────────────────────────────┼─────────────────┤\n│ dense_7 (<span style=\"color: #0087ff; text-decoration-color: #0087ff\">Dense</span>)                      │ (<span style=\"color: #00d7ff; text-decoration-color: #00d7ff\">None</span>, <span style=\"color: #00af00; text-decoration-color: #00af00\">1</span>)                   │              <span style=\"color: #00af00; text-decoration-color: #00af00\">65</span> │\n└──────────────────────────────────────┴─────────────────────────────┴─────────────────┘\n</pre>\n"
          },
          "metadata": {}
        },
        {
          "output_type": "display_data",
          "data": {
            "text/plain": "\u001b[1m Total params: \u001b[0m\u001b[38;5;34m1,317,313\u001b[0m (5.03 MB)\n",
            "text/html": "<pre style=\"white-space:pre;overflow-x:auto;line-height:normal;font-family:Menlo,'DejaVu Sans Mono',consolas,'Courier New',monospace\"><span style=\"font-weight: bold\"> Total params: </span><span style=\"color: #00af00; text-decoration-color: #00af00\">1,317,313</span> (5.03 MB)\n</pre>\n"
          },
          "metadata": {}
        },
        {
          "output_type": "display_data",
          "data": {
            "text/plain": "\u001b[1m Trainable params: \u001b[0m\u001b[38;5;34m1,317,313\u001b[0m (5.03 MB)\n",
            "text/html": "<pre style=\"white-space:pre;overflow-x:auto;line-height:normal;font-family:Menlo,'DejaVu Sans Mono',consolas,'Courier New',monospace\"><span style=\"font-weight: bold\"> Trainable params: </span><span style=\"color: #00af00; text-decoration-color: #00af00\">1,317,313</span> (5.03 MB)\n</pre>\n"
          },
          "metadata": {}
        },
        {
          "output_type": "display_data",
          "data": {
            "text/plain": "\u001b[1m Non-trainable params: \u001b[0m\u001b[38;5;34m0\u001b[0m (0.00 B)\n",
            "text/html": "<pre style=\"white-space:pre;overflow-x:auto;line-height:normal;font-family:Menlo,'DejaVu Sans Mono',consolas,'Courier New',monospace\"><span style=\"font-weight: bold\"> Non-trainable params: </span><span style=\"color: #00af00; text-decoration-color: #00af00\">0</span> (0.00 B)\n</pre>\n"
          },
          "metadata": {}
        }
      ],
      "execution_count": null
    },
    {
      "cell_type": "code",
      "source": [
        "model_3_fit = model_fit(model_3)\n",
        "model_3_fit"
      ],
      "metadata": {
        "trusted": true,
        "execution": {
          "iopub.status.busy": "2025-01-16T16:49:04.403811Z",
          "iopub.execute_input": "2025-01-16T16:49:04.404109Z",
          "iopub.status.idle": "2025-01-16T16:49:54.437664Z",
          "shell.execute_reply.started": "2025-01-16T16:49:04.404068Z",
          "shell.execute_reply": "2025-01-16T16:49:54.436789Z"
        },
        "id": "ei7WSHAkOr8z",
        "outputId": "47501a4e-26eb-403f-c9ce-8815bae60cea"
      },
      "outputs": [
        {
          "name": "stdout",
          "text": "Epoch 1/5\n\u001b[1m752/752\u001b[0m \u001b[32m━━━━━━━━━━━━━━━━━━━━\u001b[0m\u001b[37m\u001b[0m \u001b[1m12s\u001b[0m 13ms/step - accuracy: 0.7484 - loss: 0.4819 - val_accuracy: 0.8525 - val_loss: 0.3475\nEpoch 2/5\n\u001b[1m752/752\u001b[0m \u001b[32m━━━━━━━━━━━━━━━━━━━━\u001b[0m\u001b[37m\u001b[0m \u001b[1m9s\u001b[0m 12ms/step - accuracy: 0.9020 - loss: 0.2462 - val_accuracy: 0.8458 - val_loss: 0.3950\nEpoch 3/5\n\u001b[1m752/752\u001b[0m \u001b[32m━━━━━━━━━━━━━━━━━━━━\u001b[0m\u001b[37m\u001b[0m \u001b[1m9s\u001b[0m 12ms/step - accuracy: 0.9481 - loss: 0.1410 - val_accuracy: 0.8233 - val_loss: 0.5339\nEpoch 4/5\n\u001b[1m752/752\u001b[0m \u001b[32m━━━━━━━━━━━━━━━━━━━━\u001b[0m\u001b[37m\u001b[0m \u001b[1m9s\u001b[0m 13ms/step - accuracy: 0.9742 - loss: 0.0826 - val_accuracy: 0.8270 - val_loss: 0.6329\nEpoch 5/5\n\u001b[1m752/752\u001b[0m \u001b[32m━━━━━━━━━━━━━━━━━━━━\u001b[0m\u001b[37m\u001b[0m \u001b[1m9s\u001b[0m 12ms/step - accuracy: 0.9800 - loss: 0.0587 - val_accuracy: 0.8162 - val_loss: 0.6956\n",
          "output_type": "stream"
        },
        {
          "execution_count": 124,
          "output_type": "execute_result",
          "data": {
            "text/plain": "<keras.src.callbacks.history.History at 0x79527816ce20>"
          },
          "metadata": {}
        }
      ],
      "execution_count": null
    },
    {
      "cell_type": "code",
      "source": [
        "model_3_pred_probs = model_3.predict(val_sentences)\n",
        "model_3_pred_probs[:10]"
      ],
      "metadata": {
        "trusted": true,
        "execution": {
          "iopub.status.busy": "2025-01-16T16:49:54.438777Z",
          "iopub.execute_input": "2025-01-16T16:49:54.439112Z",
          "iopub.status.idle": "2025-01-16T16:49:55.337644Z",
          "shell.execute_reply.started": "2025-01-16T16:49:54.439084Z",
          "shell.execute_reply": "2025-01-16T16:49:55.336806Z"
        },
        "id": "ZtSnuzkFOr8z",
        "outputId": "6afdacca-63ed-4061-b07e-9b3503af2ecc"
      },
      "outputs": [
        {
          "name": "stdout",
          "text": "\u001b[1m84/84\u001b[0m \u001b[32m━━━━━━━━━━━━━━━━━━━━\u001b[0m\u001b[37m\u001b[0m \u001b[1m1s\u001b[0m 6ms/step\n",
          "output_type": "stream"
        },
        {
          "execution_count": 125,
          "output_type": "execute_result",
          "data": {
            "text/plain": "array([[9.9996167e-01],\n       [1.7142785e-01],\n       [4.3123654e-01],\n       [3.1733507e-01],\n       [1.5261241e-03],\n       [9.9967349e-01],\n       [4.6524699e-04],\n       [9.1903704e-01],\n       [9.6095474e-03],\n       [7.8833131e-03]], dtype=float32)"
          },
          "metadata": {}
        }
      ],
      "execution_count": null
    },
    {
      "cell_type": "code",
      "source": [
        "model_3_preds = tf.squeeze(tf.round(model_3_pred_probs))\n",
        "model_3_preds[:10]"
      ],
      "metadata": {
        "trusted": true,
        "execution": {
          "iopub.status.busy": "2025-01-16T16:49:55.338651Z",
          "iopub.execute_input": "2025-01-16T16:49:55.339005Z",
          "iopub.status.idle": "2025-01-16T16:49:55.350151Z",
          "shell.execute_reply.started": "2025-01-16T16:49:55.338975Z",
          "shell.execute_reply": "2025-01-16T16:49:55.349136Z"
        },
        "id": "vUcITUqoOr80",
        "outputId": "6e67ee2e-d02e-434d-efe0-488d6f533a35"
      },
      "outputs": [
        {
          "execution_count": 126,
          "output_type": "execute_result",
          "data": {
            "text/plain": "<tf.Tensor: shape=(10,), dtype=float32, numpy=array([1., 0., 0., 0., 0., 1., 0., 1., 0., 0.], dtype=float32)>"
          },
          "metadata": {}
        }
      ],
      "execution_count": null
    },
    {
      "cell_type": "code",
      "source": [
        "model_3_results = calculate_results(val_labels, model_3_preds)\n",
        "model_3_results"
      ],
      "metadata": {
        "trusted": true,
        "execution": {
          "iopub.status.busy": "2025-01-16T16:49:55.351057Z",
          "iopub.execute_input": "2025-01-16T16:49:55.351313Z",
          "iopub.status.idle": "2025-01-16T16:49:55.369433Z",
          "shell.execute_reply.started": "2025-01-16T16:49:55.351289Z",
          "shell.execute_reply": "2025-01-16T16:49:55.368485Z"
        },
        "id": "Zec9sIW3Or80",
        "outputId": "6b96f191-19c9-4284-c188-c1f1217ee593"
      },
      "outputs": [
        {
          "execution_count": 127,
          "output_type": "execute_result",
          "data": {
            "text/plain": "{'accuracy': 81.61737177087234,\n 'recall': 0.8161737177087234,\n 'precision': 0.8219982272073874,\n 'f1': 0.816941227000755}"
          },
          "metadata": {}
        }
      ],
      "execution_count": null
    },
    {
      "cell_type": "code",
      "source": [
        "compare_baseline_to_new_results(baseline_results, model_3_results)"
      ],
      "metadata": {
        "trusted": true,
        "execution": {
          "iopub.status.busy": "2025-01-16T16:49:55.370542Z",
          "iopub.execute_input": "2025-01-16T16:49:55.370946Z",
          "iopub.status.idle": "2025-01-16T16:49:55.377069Z",
          "shell.execute_reply.started": "2025-01-16T16:49:55.370908Z",
          "shell.execute_reply": "2025-01-16T16:49:55.376127Z"
        },
        "id": "9YhL1FWhOr80",
        "outputId": "70181e97-37b9-480d-a3f3-3597999d82ca"
      },
      "outputs": [
        {
          "name": "stdout",
          "text": "Baseline accuracy:81.95, New accuracy: 81.62, Difference : -0.34\nBaseline recall:0.82, New recall: 0.82, Difference : -0.00\nBaseline precision:0.83, New precision: 0.82, Difference : -0.01\nBaseline f1:0.81, New f1: 0.82, Difference : 0.00\n",
          "output_type": "stream"
        }
      ],
      "execution_count": null
    },
    {
      "cell_type": "code",
      "source": [
        "tf.random.set_seed(42)\n",
        "\n",
        "model_4_embedding = layers.Embedding(input_dim = max_vocab_length,\n",
        "                                    output_dim = 128,\n",
        "                                    embeddings_initializer = 'uniform',\n",
        "                                    input_length = max_length,\n",
        "                                    name = 'embedding_4')\n",
        "\n",
        "inputs = layers.Input(shape = (1, ), dtype = 'string')\n",
        "x = text_vectorizer(inputs)\n",
        "x = model_4_embedding(x)\n",
        "x = layers.Bidirectional(layers.LSTM(64))(x)\n",
        "outputs = layers.Dense(1, activation = 'sigmoid')(x)\n",
        "model_4 = tf.keras.Model(inputs, outputs, name = 'model_4_Bidirectional')"
      ],
      "metadata": {
        "trusted": true,
        "execution": {
          "iopub.status.busy": "2025-01-16T16:49:55.378086Z",
          "iopub.execute_input": "2025-01-16T16:49:55.378388Z",
          "iopub.status.idle": "2025-01-16T16:49:55.504644Z",
          "shell.execute_reply.started": "2025-01-16T16:49:55.378347Z",
          "shell.execute_reply": "2025-01-16T16:49:55.503638Z"
        },
        "id": "VUB3ZavkOr80",
        "outputId": "51d52229-1e9b-4598-9db0-620be94a8179"
      },
      "outputs": [
        {
          "name": "stderr",
          "text": "/usr/local/lib/python3.10/dist-packages/keras/src/layers/core/embedding.py:90: UserWarning: Argument `input_length` is deprecated. Just remove it.\n  warnings.warn(\n",
          "output_type": "stream"
        }
      ],
      "execution_count": null
    },
    {
      "cell_type": "code",
      "source": [
        "model_4_compile_display_summary = compile_and_display_model_summary(model_4)\n",
        "model_4_compile_display_summary"
      ],
      "metadata": {
        "trusted": true,
        "execution": {
          "iopub.status.busy": "2025-01-16T16:49:55.505772Z",
          "iopub.execute_input": "2025-01-16T16:49:55.506232Z",
          "iopub.status.idle": "2025-01-16T16:49:55.537507Z",
          "shell.execute_reply.started": "2025-01-16T16:49:55.506137Z",
          "shell.execute_reply": "2025-01-16T16:49:55.536587Z"
        },
        "id": "SZG6b2B9Or80",
        "outputId": "c4781c25-abdd-4dfd-be26-ae5f17d91f20"
      },
      "outputs": [
        {
          "output_type": "display_data",
          "data": {
            "text/plain": "\u001b[1mModel: \"model_4_Bidirectional\"\u001b[0m\n",
            "text/html": "<pre style=\"white-space:pre;overflow-x:auto;line-height:normal;font-family:Menlo,'DejaVu Sans Mono',consolas,'Courier New',monospace\"><span style=\"font-weight: bold\">Model: \"model_4_Bidirectional\"</span>\n</pre>\n"
          },
          "metadata": {}
        },
        {
          "output_type": "display_data",
          "data": {
            "text/plain": "┏━━━━━━━━━━━━━━━━━━━━━━━━━━━━━━━━━━━━━━┳━━━━━━━━━━━━━━━━━━━━━━━━━━━━━┳━━━━━━━━━━━━━━━━━┓\n┃\u001b[1m \u001b[0m\u001b[1mLayer (type)                        \u001b[0m\u001b[1m \u001b[0m┃\u001b[1m \u001b[0m\u001b[1mOutput Shape               \u001b[0m\u001b[1m \u001b[0m┃\u001b[1m \u001b[0m\u001b[1m        Param #\u001b[0m\u001b[1m \u001b[0m┃\n┡━━━━━━━━━━━━━━━━━━━━━━━━━━━━━━━━━━━━━━╇━━━━━━━━━━━━━━━━━━━━━━━━━━━━━╇━━━━━━━━━━━━━━━━━┩\n│ input_layer_8 (\u001b[38;5;33mInputLayer\u001b[0m)           │ (\u001b[38;5;45mNone\u001b[0m, \u001b[38;5;34m1\u001b[0m)                   │               \u001b[38;5;34m0\u001b[0m │\n├──────────────────────────────────────┼─────────────────────────────┼─────────────────┤\n│ text_vectorization_1                 │ (\u001b[38;5;45mNone\u001b[0m, \u001b[38;5;34m10\u001b[0m)                  │               \u001b[38;5;34m0\u001b[0m │\n│ (\u001b[38;5;33mTextVectorization\u001b[0m)                  │                             │                 │\n├──────────────────────────────────────┼─────────────────────────────┼─────────────────┤\n│ embedding_4 (\u001b[38;5;33mEmbedding\u001b[0m)              │ (\u001b[38;5;45mNone\u001b[0m, \u001b[38;5;34m10\u001b[0m, \u001b[38;5;34m128\u001b[0m)             │       \u001b[38;5;34m1,280,000\u001b[0m │\n├──────────────────────────────────────┼─────────────────────────────┼─────────────────┤\n│ bidirectional_1 (\u001b[38;5;33mBidirectional\u001b[0m)      │ (\u001b[38;5;45mNone\u001b[0m, \u001b[38;5;34m128\u001b[0m)                 │          \u001b[38;5;34m98,816\u001b[0m │\n├──────────────────────────────────────┼─────────────────────────────┼─────────────────┤\n│ dense_8 (\u001b[38;5;33mDense\u001b[0m)                      │ (\u001b[38;5;45mNone\u001b[0m, \u001b[38;5;34m1\u001b[0m)                   │             \u001b[38;5;34m129\u001b[0m │\n└──────────────────────────────────────┴─────────────────────────────┴─────────────────┘\n",
            "text/html": "<pre style=\"white-space:pre;overflow-x:auto;line-height:normal;font-family:Menlo,'DejaVu Sans Mono',consolas,'Courier New',monospace\">┏━━━━━━━━━━━━━━━━━━━━━━━━━━━━━━━━━━━━━━┳━━━━━━━━━━━━━━━━━━━━━━━━━━━━━┳━━━━━━━━━━━━━━━━━┓\n┃<span style=\"font-weight: bold\"> Layer (type)                         </span>┃<span style=\"font-weight: bold\"> Output Shape                </span>┃<span style=\"font-weight: bold\">         Param # </span>┃\n┡━━━━━━━━━━━━━━━━━━━━━━━━━━━━━━━━━━━━━━╇━━━━━━━━━━━━━━━━━━━━━━━━━━━━━╇━━━━━━━━━━━━━━━━━┩\n│ input_layer_8 (<span style=\"color: #0087ff; text-decoration-color: #0087ff\">InputLayer</span>)           │ (<span style=\"color: #00d7ff; text-decoration-color: #00d7ff\">None</span>, <span style=\"color: #00af00; text-decoration-color: #00af00\">1</span>)                   │               <span style=\"color: #00af00; text-decoration-color: #00af00\">0</span> │\n├──────────────────────────────────────┼─────────────────────────────┼─────────────────┤\n│ text_vectorization_1                 │ (<span style=\"color: #00d7ff; text-decoration-color: #00d7ff\">None</span>, <span style=\"color: #00af00; text-decoration-color: #00af00\">10</span>)                  │               <span style=\"color: #00af00; text-decoration-color: #00af00\">0</span> │\n│ (<span style=\"color: #0087ff; text-decoration-color: #0087ff\">TextVectorization</span>)                  │                             │                 │\n├──────────────────────────────────────┼─────────────────────────────┼─────────────────┤\n│ embedding_4 (<span style=\"color: #0087ff; text-decoration-color: #0087ff\">Embedding</span>)              │ (<span style=\"color: #00d7ff; text-decoration-color: #00d7ff\">None</span>, <span style=\"color: #00af00; text-decoration-color: #00af00\">10</span>, <span style=\"color: #00af00; text-decoration-color: #00af00\">128</span>)             │       <span style=\"color: #00af00; text-decoration-color: #00af00\">1,280,000</span> │\n├──────────────────────────────────────┼─────────────────────────────┼─────────────────┤\n│ bidirectional_1 (<span style=\"color: #0087ff; text-decoration-color: #0087ff\">Bidirectional</span>)      │ (<span style=\"color: #00d7ff; text-decoration-color: #00d7ff\">None</span>, <span style=\"color: #00af00; text-decoration-color: #00af00\">128</span>)                 │          <span style=\"color: #00af00; text-decoration-color: #00af00\">98,816</span> │\n├──────────────────────────────────────┼─────────────────────────────┼─────────────────┤\n│ dense_8 (<span style=\"color: #0087ff; text-decoration-color: #0087ff\">Dense</span>)                      │ (<span style=\"color: #00d7ff; text-decoration-color: #00d7ff\">None</span>, <span style=\"color: #00af00; text-decoration-color: #00af00\">1</span>)                   │             <span style=\"color: #00af00; text-decoration-color: #00af00\">129</span> │\n└──────────────────────────────────────┴─────────────────────────────┴─────────────────┘\n</pre>\n"
          },
          "metadata": {}
        },
        {
          "output_type": "display_data",
          "data": {
            "text/plain": "\u001b[1m Total params: \u001b[0m\u001b[38;5;34m1,378,945\u001b[0m (5.26 MB)\n",
            "text/html": "<pre style=\"white-space:pre;overflow-x:auto;line-height:normal;font-family:Menlo,'DejaVu Sans Mono',consolas,'Courier New',monospace\"><span style=\"font-weight: bold\"> Total params: </span><span style=\"color: #00af00; text-decoration-color: #00af00\">1,378,945</span> (5.26 MB)\n</pre>\n"
          },
          "metadata": {}
        },
        {
          "output_type": "display_data",
          "data": {
            "text/plain": "\u001b[1m Trainable params: \u001b[0m\u001b[38;5;34m1,378,945\u001b[0m (5.26 MB)\n",
            "text/html": "<pre style=\"white-space:pre;overflow-x:auto;line-height:normal;font-family:Menlo,'DejaVu Sans Mono',consolas,'Courier New',monospace\"><span style=\"font-weight: bold\"> Trainable params: </span><span style=\"color: #00af00; text-decoration-color: #00af00\">1,378,945</span> (5.26 MB)\n</pre>\n"
          },
          "metadata": {}
        },
        {
          "output_type": "display_data",
          "data": {
            "text/plain": "\u001b[1m Non-trainable params: \u001b[0m\u001b[38;5;34m0\u001b[0m (0.00 B)\n",
            "text/html": "<pre style=\"white-space:pre;overflow-x:auto;line-height:normal;font-family:Menlo,'DejaVu Sans Mono',consolas,'Courier New',monospace\"><span style=\"font-weight: bold\"> Non-trainable params: </span><span style=\"color: #00af00; text-decoration-color: #00af00\">0</span> (0.00 B)\n</pre>\n"
          },
          "metadata": {}
        }
      ],
      "execution_count": null
    },
    {
      "cell_type": "code",
      "source": [
        "model_4_fit = model_fit(model_4)\n",
        "model_4_fit"
      ],
      "metadata": {
        "trusted": true,
        "execution": {
          "iopub.status.busy": "2025-01-16T16:49:55.538334Z",
          "iopub.execute_input": "2025-01-16T16:49:55.538589Z",
          "iopub.status.idle": "2025-01-16T16:50:55.041573Z",
          "shell.execute_reply.started": "2025-01-16T16:49:55.538553Z",
          "shell.execute_reply": "2025-01-16T16:50:55.040650Z"
        },
        "id": "pJY5-FgiOr80",
        "outputId": "ec21ab6b-427d-428e-d412-6e933cd54af8"
      },
      "outputs": [
        {
          "name": "stdout",
          "text": "Epoch 1/5\n\u001b[1m752/752\u001b[0m \u001b[32m━━━━━━━━━━━━━━━━━━━━\u001b[0m\u001b[37m\u001b[0m \u001b[1m15s\u001b[0m 15ms/step - accuracy: 0.7701 - loss: 0.4575 - val_accuracy: 0.8562 - val_loss: 0.3360\nEpoch 2/5\n\u001b[1m752/752\u001b[0m \u001b[32m━━━━━━━━━━━━━━━━━━━━\u001b[0m\u001b[37m\u001b[0m \u001b[1m11s\u001b[0m 15ms/step - accuracy: 0.9078 - loss: 0.2306 - val_accuracy: 0.8390 - val_loss: 0.4170\nEpoch 3/5\n\u001b[1m752/752\u001b[0m \u001b[32m━━━━━━━━━━━━━━━━━━━━\u001b[0m\u001b[37m\u001b[0m \u001b[1m11s\u001b[0m 14ms/step - accuracy: 0.9556 - loss: 0.1216 - val_accuracy: 0.8079 - val_loss: 0.6921\nEpoch 4/5\n\u001b[1m752/752\u001b[0m \u001b[32m━━━━━━━━━━━━━━━━━━━━\u001b[0m\u001b[37m\u001b[0m \u001b[1m11s\u001b[0m 14ms/step - accuracy: 0.9795 - loss: 0.0616 - val_accuracy: 0.8195 - val_loss: 0.7497\nEpoch 5/5\n\u001b[1m752/752\u001b[0m \u001b[32m━━━━━━━━━━━━━━━━━━━━\u001b[0m\u001b[37m\u001b[0m \u001b[1m11s\u001b[0m 15ms/step - accuracy: 0.9858 - loss: 0.0401 - val_accuracy: 0.8038 - val_loss: 0.9715\n",
          "output_type": "stream"
        },
        {
          "execution_count": 131,
          "output_type": "execute_result",
          "data": {
            "text/plain": "<keras.src.callbacks.history.History at 0x79527ba379a0>"
          },
          "metadata": {}
        }
      ],
      "execution_count": null
    },
    {
      "cell_type": "code",
      "source": [
        "model_4_pred_probs = model_4.predict(val_sentences)\n",
        "model_4_pred_probs[:10]"
      ],
      "metadata": {
        "trusted": true,
        "execution": {
          "iopub.status.busy": "2025-01-16T16:50:55.042493Z",
          "iopub.execute_input": "2025-01-16T16:50:55.042794Z",
          "iopub.status.idle": "2025-01-16T16:50:56.203816Z",
          "shell.execute_reply.started": "2025-01-16T16:50:55.042769Z",
          "shell.execute_reply": "2025-01-16T16:50:56.202790Z"
        },
        "id": "82e2tg3XOr80",
        "outputId": "a11fdfb9-c9fb-4f63-de6b-7d230dead18f"
      },
      "outputs": [
        {
          "name": "stdout",
          "text": "\u001b[1m84/84\u001b[0m \u001b[32m━━━━━━━━━━━━━━━━━━━━\u001b[0m\u001b[37m\u001b[0m \u001b[1m1s\u001b[0m 8ms/step\n",
          "output_type": "stream"
        },
        {
          "execution_count": 132,
          "output_type": "execute_result",
          "data": {
            "text/plain": "array([[9.99999881e-01],\n       [1.03344955e-01],\n       [4.00124118e-02],\n       [9.53023374e-01],\n       [4.21416849e-01],\n       [9.99999881e-01],\n       [1.24712693e-04],\n       [9.97621655e-01],\n       [3.34070367e-03],\n       [1.12099573e-01]], dtype=float32)"
          },
          "metadata": {}
        }
      ],
      "execution_count": null
    },
    {
      "cell_type": "code",
      "source": [
        "model_4_preds = tf.squeeze(tf.round(model_4_pred_probs))\n",
        "model_4_preds[:10]"
      ],
      "metadata": {
        "trusted": true,
        "execution": {
          "iopub.status.busy": "2025-01-16T16:50:56.209834Z",
          "iopub.execute_input": "2025-01-16T16:50:56.210141Z",
          "iopub.status.idle": "2025-01-16T16:50:56.220570Z",
          "shell.execute_reply.started": "2025-01-16T16:50:56.210113Z",
          "shell.execute_reply": "2025-01-16T16:50:56.219537Z"
        },
        "id": "eHu0-cj1Or81",
        "outputId": "d18b201e-48be-4d1b-e9c8-1f6245857142"
      },
      "outputs": [
        {
          "execution_count": 133,
          "output_type": "execute_result",
          "data": {
            "text/plain": "<tf.Tensor: shape=(10,), dtype=float32, numpy=array([1., 0., 0., 1., 0., 1., 0., 1., 0., 0.], dtype=float32)>"
          },
          "metadata": {}
        }
      ],
      "execution_count": null
    },
    {
      "cell_type": "code",
      "source": [
        "model_4_results = calculate_results(val_labels, model_4_preds)\n",
        "model_4_results"
      ],
      "metadata": {
        "trusted": true,
        "execution": {
          "iopub.status.busy": "2025-01-16T16:50:56.222179Z",
          "iopub.execute_input": "2025-01-16T16:50:56.222496Z",
          "iopub.status.idle": "2025-01-16T16:50:56.238376Z",
          "shell.execute_reply.started": "2025-01-16T16:50:56.222467Z",
          "shell.execute_reply": "2025-01-16T16:50:56.237142Z"
        },
        "id": "Go8wlunLOr81",
        "outputId": "1ec0449b-cabc-4715-d271-a2409f689eb8"
      },
      "outputs": [
        {
          "execution_count": 134,
          "output_type": "execute_result",
          "data": {
            "text/plain": "{'accuracy': 80.38187944590042,\n 'recall': 0.8038187944590042,\n 'precision': 0.8152330130140861,\n 'f1': 0.8046506017820372}"
          },
          "metadata": {}
        }
      ],
      "execution_count": null
    },
    {
      "cell_type": "code",
      "source": [
        "compare_baseline_to_new_results(baseline_results, model_4_results)"
      ],
      "metadata": {
        "trusted": true,
        "execution": {
          "iopub.status.busy": "2025-01-16T16:50:56.239412Z",
          "iopub.execute_input": "2025-01-16T16:50:56.239712Z",
          "iopub.status.idle": "2025-01-16T16:50:56.249213Z",
          "shell.execute_reply.started": "2025-01-16T16:50:56.239656Z",
          "shell.execute_reply": "2025-01-16T16:50:56.248000Z"
        },
        "id": "wnVNyuQJOr81",
        "outputId": "75d2b008-0187-46e4-886b-a15917e282cd"
      },
      "outputs": [
        {
          "name": "stdout",
          "text": "Baseline accuracy:81.95, New accuracy: 80.38, Difference : -1.57\nBaseline recall:0.82, New recall: 0.80, Difference : -0.02\nBaseline precision:0.83, New precision: 0.82, Difference : -0.01\nBaseline f1:0.81, New f1: 0.80, Difference : -0.01\n",
          "output_type": "stream"
        }
      ],
      "execution_count": null
    },
    {
      "cell_type": "code",
      "source": [
        "tf.random.set_seed(42)\n",
        "\n",
        "model_5_embedding = layers.Embedding(input_dim = max_vocab_length,\n",
        "                                    output_dim = 128,\n",
        "                                    embeddings_initializer = 'uniform',\n",
        "                                    input_length = max_length,\n",
        "                                    name = 'embedding_5')\n",
        "\n",
        "inputs = layers.Input(shape =(1, ), dtype = 'string')\n",
        "x = text_vectorizer(inputs)\n",
        "x = model_5_embedding(x)\n",
        "x = layers.Conv1D(filters = 32, kernel_size = 5, activation = 'relu')(x)\n",
        "x = layers.GlobalMaxPool1D()(x)\n",
        "outputs = layers.Dense(1, activation = 'sigmoid')(x)\n",
        "model_5 = tf.keras.Model(inputs, outputs, name = 'model_5_Conv1D')"
      ],
      "metadata": {
        "trusted": true,
        "execution": {
          "iopub.status.busy": "2025-01-16T16:50:56.250339Z",
          "iopub.execute_input": "2025-01-16T16:50:56.250718Z",
          "iopub.status.idle": "2025-01-16T16:50:56.341329Z",
          "shell.execute_reply.started": "2025-01-16T16:50:56.250657Z",
          "shell.execute_reply": "2025-01-16T16:50:56.340107Z"
        },
        "id": "mdriVeo1Or81",
        "outputId": "cb032d80-209c-45ea-b748-0e84127a9ae6"
      },
      "outputs": [
        {
          "name": "stderr",
          "text": "/usr/local/lib/python3.10/dist-packages/keras/src/layers/core/embedding.py:90: UserWarning: Argument `input_length` is deprecated. Just remove it.\n  warnings.warn(\n",
          "output_type": "stream"
        }
      ],
      "execution_count": null
    },
    {
      "cell_type": "code",
      "source": [
        "model_5_compile_display_summary = compile_and_display_model_summary(model_5)\n",
        "model_5_compile_display_summary"
      ],
      "metadata": {
        "trusted": true,
        "execution": {
          "iopub.status.busy": "2025-01-16T16:50:56.342537Z",
          "iopub.execute_input": "2025-01-16T16:50:56.342936Z",
          "iopub.status.idle": "2025-01-16T16:50:56.374995Z",
          "shell.execute_reply.started": "2025-01-16T16:50:56.342895Z",
          "shell.execute_reply": "2025-01-16T16:50:56.374126Z"
        },
        "id": "ECvtpK-POr81",
        "outputId": "b0bca8c5-2876-4590-b3ae-d46f24d58657"
      },
      "outputs": [
        {
          "output_type": "display_data",
          "data": {
            "text/plain": "\u001b[1mModel: \"model_5_Conv1D\"\u001b[0m\n",
            "text/html": "<pre style=\"white-space:pre;overflow-x:auto;line-height:normal;font-family:Menlo,'DejaVu Sans Mono',consolas,'Courier New',monospace\"><span style=\"font-weight: bold\">Model: \"model_5_Conv1D\"</span>\n</pre>\n"
          },
          "metadata": {}
        },
        {
          "output_type": "display_data",
          "data": {
            "text/plain": "┏━━━━━━━━━━━━━━━━━━━━━━━━━━━━━━━━━━━━━━┳━━━━━━━━━━━━━━━━━━━━━━━━━━━━━┳━━━━━━━━━━━━━━━━━┓\n┃\u001b[1m \u001b[0m\u001b[1mLayer (type)                        \u001b[0m\u001b[1m \u001b[0m┃\u001b[1m \u001b[0m\u001b[1mOutput Shape               \u001b[0m\u001b[1m \u001b[0m┃\u001b[1m \u001b[0m\u001b[1m        Param #\u001b[0m\u001b[1m \u001b[0m┃\n┡━━━━━━━━━━━━━━━━━━━━━━━━━━━━━━━━━━━━━━╇━━━━━━━━━━━━━━━━━━━━━━━━━━━━━╇━━━━━━━━━━━━━━━━━┩\n│ input_layer_9 (\u001b[38;5;33mInputLayer\u001b[0m)           │ (\u001b[38;5;45mNone\u001b[0m, \u001b[38;5;34m1\u001b[0m)                   │               \u001b[38;5;34m0\u001b[0m │\n├──────────────────────────────────────┼─────────────────────────────┼─────────────────┤\n│ text_vectorization_1                 │ (\u001b[38;5;45mNone\u001b[0m, \u001b[38;5;34m10\u001b[0m)                  │               \u001b[38;5;34m0\u001b[0m │\n│ (\u001b[38;5;33mTextVectorization\u001b[0m)                  │                             │                 │\n├──────────────────────────────────────┼─────────────────────────────┼─────────────────┤\n│ embedding_5 (\u001b[38;5;33mEmbedding\u001b[0m)              │ (\u001b[38;5;45mNone\u001b[0m, \u001b[38;5;34m10\u001b[0m, \u001b[38;5;34m128\u001b[0m)             │       \u001b[38;5;34m1,280,000\u001b[0m │\n├──────────────────────────────────────┼─────────────────────────────┼─────────────────┤\n│ conv1d_1 (\u001b[38;5;33mConv1D\u001b[0m)                    │ (\u001b[38;5;45mNone\u001b[0m, \u001b[38;5;34m6\u001b[0m, \u001b[38;5;34m32\u001b[0m)               │          \u001b[38;5;34m20,512\u001b[0m │\n├──────────────────────────────────────┼─────────────────────────────┼─────────────────┤\n│ global_max_pooling1d_1               │ (\u001b[38;5;45mNone\u001b[0m, \u001b[38;5;34m32\u001b[0m)                  │               \u001b[38;5;34m0\u001b[0m │\n│ (\u001b[38;5;33mGlobalMaxPooling1D\u001b[0m)                 │                             │                 │\n├──────────────────────────────────────┼─────────────────────────────┼─────────────────┤\n│ dense_9 (\u001b[38;5;33mDense\u001b[0m)                      │ (\u001b[38;5;45mNone\u001b[0m, \u001b[38;5;34m1\u001b[0m)                   │              \u001b[38;5;34m33\u001b[0m │\n└──────────────────────────────────────┴─────────────────────────────┴─────────────────┘\n",
            "text/html": "<pre style=\"white-space:pre;overflow-x:auto;line-height:normal;font-family:Menlo,'DejaVu Sans Mono',consolas,'Courier New',monospace\">┏━━━━━━━━━━━━━━━━━━━━━━━━━━━━━━━━━━━━━━┳━━━━━━━━━━━━━━━━━━━━━━━━━━━━━┳━━━━━━━━━━━━━━━━━┓\n┃<span style=\"font-weight: bold\"> Layer (type)                         </span>┃<span style=\"font-weight: bold\"> Output Shape                </span>┃<span style=\"font-weight: bold\">         Param # </span>┃\n┡━━━━━━━━━━━━━━━━━━━━━━━━━━━━━━━━━━━━━━╇━━━━━━━━━━━━━━━━━━━━━━━━━━━━━╇━━━━━━━━━━━━━━━━━┩\n│ input_layer_9 (<span style=\"color: #0087ff; text-decoration-color: #0087ff\">InputLayer</span>)           │ (<span style=\"color: #00d7ff; text-decoration-color: #00d7ff\">None</span>, <span style=\"color: #00af00; text-decoration-color: #00af00\">1</span>)                   │               <span style=\"color: #00af00; text-decoration-color: #00af00\">0</span> │\n├──────────────────────────────────────┼─────────────────────────────┼─────────────────┤\n│ text_vectorization_1                 │ (<span style=\"color: #00d7ff; text-decoration-color: #00d7ff\">None</span>, <span style=\"color: #00af00; text-decoration-color: #00af00\">10</span>)                  │               <span style=\"color: #00af00; text-decoration-color: #00af00\">0</span> │\n│ (<span style=\"color: #0087ff; text-decoration-color: #0087ff\">TextVectorization</span>)                  │                             │                 │\n├──────────────────────────────────────┼─────────────────────────────┼─────────────────┤\n│ embedding_5 (<span style=\"color: #0087ff; text-decoration-color: #0087ff\">Embedding</span>)              │ (<span style=\"color: #00d7ff; text-decoration-color: #00d7ff\">None</span>, <span style=\"color: #00af00; text-decoration-color: #00af00\">10</span>, <span style=\"color: #00af00; text-decoration-color: #00af00\">128</span>)             │       <span style=\"color: #00af00; text-decoration-color: #00af00\">1,280,000</span> │\n├──────────────────────────────────────┼─────────────────────────────┼─────────────────┤\n│ conv1d_1 (<span style=\"color: #0087ff; text-decoration-color: #0087ff\">Conv1D</span>)                    │ (<span style=\"color: #00d7ff; text-decoration-color: #00d7ff\">None</span>, <span style=\"color: #00af00; text-decoration-color: #00af00\">6</span>, <span style=\"color: #00af00; text-decoration-color: #00af00\">32</span>)               │          <span style=\"color: #00af00; text-decoration-color: #00af00\">20,512</span> │\n├──────────────────────────────────────┼─────────────────────────────┼─────────────────┤\n│ global_max_pooling1d_1               │ (<span style=\"color: #00d7ff; text-decoration-color: #00d7ff\">None</span>, <span style=\"color: #00af00; text-decoration-color: #00af00\">32</span>)                  │               <span style=\"color: #00af00; text-decoration-color: #00af00\">0</span> │\n│ (<span style=\"color: #0087ff; text-decoration-color: #0087ff\">GlobalMaxPooling1D</span>)                 │                             │                 │\n├──────────────────────────────────────┼─────────────────────────────┼─────────────────┤\n│ dense_9 (<span style=\"color: #0087ff; text-decoration-color: #0087ff\">Dense</span>)                      │ (<span style=\"color: #00d7ff; text-decoration-color: #00d7ff\">None</span>, <span style=\"color: #00af00; text-decoration-color: #00af00\">1</span>)                   │              <span style=\"color: #00af00; text-decoration-color: #00af00\">33</span> │\n└──────────────────────────────────────┴─────────────────────────────┴─────────────────┘\n</pre>\n"
          },
          "metadata": {}
        },
        {
          "output_type": "display_data",
          "data": {
            "text/plain": "\u001b[1m Total params: \u001b[0m\u001b[38;5;34m1,300,545\u001b[0m (4.96 MB)\n",
            "text/html": "<pre style=\"white-space:pre;overflow-x:auto;line-height:normal;font-family:Menlo,'DejaVu Sans Mono',consolas,'Courier New',monospace\"><span style=\"font-weight: bold\"> Total params: </span><span style=\"color: #00af00; text-decoration-color: #00af00\">1,300,545</span> (4.96 MB)\n</pre>\n"
          },
          "metadata": {}
        },
        {
          "output_type": "display_data",
          "data": {
            "text/plain": "\u001b[1m Trainable params: \u001b[0m\u001b[38;5;34m1,300,545\u001b[0m (4.96 MB)\n",
            "text/html": "<pre style=\"white-space:pre;overflow-x:auto;line-height:normal;font-family:Menlo,'DejaVu Sans Mono',consolas,'Courier New',monospace\"><span style=\"font-weight: bold\"> Trainable params: </span><span style=\"color: #00af00; text-decoration-color: #00af00\">1,300,545</span> (4.96 MB)\n</pre>\n"
          },
          "metadata": {}
        },
        {
          "output_type": "display_data",
          "data": {
            "text/plain": "\u001b[1m Non-trainable params: \u001b[0m\u001b[38;5;34m0\u001b[0m (0.00 B)\n",
            "text/html": "<pre style=\"white-space:pre;overflow-x:auto;line-height:normal;font-family:Menlo,'DejaVu Sans Mono',consolas,'Courier New',monospace\"><span style=\"font-weight: bold\"> Non-trainable params: </span><span style=\"color: #00af00; text-decoration-color: #00af00\">0</span> (0.00 B)\n</pre>\n"
          },
          "metadata": {}
        }
      ],
      "execution_count": null
    },
    {
      "cell_type": "code",
      "source": [
        "model_5_fit = model_fit(model_5)\n",
        "model_5_fit"
      ],
      "metadata": {
        "trusted": true,
        "execution": {
          "iopub.status.busy": "2025-01-16T16:50:56.375919Z",
          "iopub.execute_input": "2025-01-16T16:50:56.376215Z",
          "iopub.status.idle": "2025-01-16T16:51:27.463801Z",
          "shell.execute_reply.started": "2025-01-16T16:50:56.376175Z",
          "shell.execute_reply": "2025-01-16T16:51:27.462726Z"
        },
        "id": "Tru1dZYFOr81",
        "outputId": "e2aabd5d-72b4-46b9-a3dd-b1d5579c5edd"
      },
      "outputs": [
        {
          "name": "stdout",
          "text": "Epoch 1/5\n\u001b[1m752/752\u001b[0m \u001b[32m━━━━━━━━━━━━━━━━━━━━\u001b[0m\u001b[37m\u001b[0m \u001b[1m7s\u001b[0m 8ms/step - accuracy: 0.7254 - loss: 0.5199 - val_accuracy: 0.8499 - val_loss: 0.3486\nEpoch 2/5\n\u001b[1m752/752\u001b[0m \u001b[32m━━━━━━━━━━━━━━━━━━━━\u001b[0m\u001b[37m\u001b[0m \u001b[1m6s\u001b[0m 8ms/step - accuracy: 0.8944 - loss: 0.2580 - val_accuracy: 0.8472 - val_loss: 0.3955\nEpoch 3/5\n\u001b[1m752/752\u001b[0m \u001b[32m━━━━━━━━━━━━━━━━━━━━\u001b[0m\u001b[37m\u001b[0m \u001b[1m6s\u001b[0m 8ms/step - accuracy: 0.9547 - loss: 0.1250 - val_accuracy: 0.8379 - val_loss: 0.5162\nEpoch 4/5\n\u001b[1m752/752\u001b[0m \u001b[32m━━━━━━━━━━━━━━━━━━━━\u001b[0m\u001b[37m\u001b[0m \u001b[1m6s\u001b[0m 8ms/step - accuracy: 0.9877 - loss: 0.0428 - val_accuracy: 0.8341 - val_loss: 0.6254\nEpoch 5/5\n\u001b[1m752/752\u001b[0m \u001b[32m━━━━━━━━━━━━━━━━━━━━\u001b[0m\u001b[37m\u001b[0m \u001b[1m6s\u001b[0m 8ms/step - accuracy: 0.9962 - loss: 0.0159 - val_accuracy: 0.8300 - val_loss: 0.7239\n",
          "output_type": "stream"
        },
        {
          "execution_count": 138,
          "output_type": "execute_result",
          "data": {
            "text/plain": "<keras.src.callbacks.history.History at 0x795278c492a0>"
          },
          "metadata": {}
        }
      ],
      "execution_count": null
    },
    {
      "cell_type": "code",
      "source": [
        "model_5_pred_probs = model_5.predict(val_sentences)\n",
        "model_5_pred_probs[:10]"
      ],
      "metadata": {
        "trusted": true,
        "execution": {
          "iopub.status.busy": "2025-01-16T16:51:27.464858Z",
          "iopub.execute_input": "2025-01-16T16:51:27.465192Z",
          "iopub.status.idle": "2025-01-16T16:51:28.006155Z",
          "shell.execute_reply.started": "2025-01-16T16:51:27.465152Z",
          "shell.execute_reply": "2025-01-16T16:51:28.005095Z"
        },
        "id": "hHW7RMxiOr81",
        "outputId": "97832432-8924-4250-a492-27ae25695323"
      },
      "outputs": [
        {
          "name": "stdout",
          "text": "\u001b[1m84/84\u001b[0m \u001b[32m━━━━━━━━━━━━━━━━━━━━\u001b[0m\u001b[37m\u001b[0m \u001b[1m0s\u001b[0m 3ms/step\n",
          "output_type": "stream"
        },
        {
          "execution_count": 139,
          "output_type": "execute_result",
          "data": {
            "text/plain": "array([[9.9999148e-01],\n       [9.3754325e-03],\n       [1.8954117e-02],\n       [9.6819663e-01],\n       [9.1528094e-01],\n       [9.9678993e-01],\n       [7.7878201e-04],\n       [3.8497022e-01],\n       [5.7682689e-02],\n       [2.3110340e-05]], dtype=float32)"
          },
          "metadata": {}
        }
      ],
      "execution_count": null
    },
    {
      "cell_type": "code",
      "source": [
        "model_5_preds = tf.squeeze(tf.round(model_5_pred_probs))\n",
        "model_5_preds[:10]"
      ],
      "metadata": {
        "trusted": true,
        "execution": {
          "iopub.status.busy": "2025-01-16T16:51:28.007257Z",
          "iopub.execute_input": "2025-01-16T16:51:28.007638Z",
          "iopub.status.idle": "2025-01-16T16:51:28.019096Z",
          "shell.execute_reply.started": "2025-01-16T16:51:28.007601Z",
          "shell.execute_reply": "2025-01-16T16:51:28.017966Z"
        },
        "id": "ghZfjGENOr82",
        "outputId": "1267c014-59ba-4430-b3aa-81b5f681fbbf"
      },
      "outputs": [
        {
          "execution_count": 140,
          "output_type": "execute_result",
          "data": {
            "text/plain": "<tf.Tensor: shape=(10,), dtype=float32, numpy=array([1., 0., 0., 1., 1., 1., 0., 0., 0., 0.], dtype=float32)>"
          },
          "metadata": {}
        }
      ],
      "execution_count": null
    },
    {
      "cell_type": "code",
      "source": [
        "model_5_results = calculate_results(val_labels, model_5_preds)\n",
        "model_5_results"
      ],
      "metadata": {
        "trusted": true,
        "execution": {
          "iopub.status.busy": "2025-01-16T16:51:28.019937Z",
          "iopub.execute_input": "2025-01-16T16:51:28.020208Z",
          "iopub.status.idle": "2025-01-16T16:51:28.038588Z",
          "shell.execute_reply.started": "2025-01-16T16:51:28.020183Z",
          "shell.execute_reply": "2025-01-16T16:51:28.037583Z"
        },
        "id": "h23GKnTHOr82",
        "outputId": "6adca9d3-e393-435c-ae57-179d2adf0c46"
      },
      "outputs": [
        {
          "execution_count": 141,
          "output_type": "execute_result",
          "data": {
            "text/plain": "{'accuracy': 83.0026207412954,\n 'recall': 0.830026207412954,\n 'precision': 0.8312027244700658,\n 'f1': 0.8303671694337793}"
          },
          "metadata": {}
        }
      ],
      "execution_count": null
    },
    {
      "cell_type": "code",
      "source": [
        "compare_baseline_to_new_results(baseline_results, model_5_results)"
      ],
      "metadata": {
        "trusted": true,
        "execution": {
          "iopub.status.busy": "2025-01-16T16:51:28.039708Z",
          "iopub.execute_input": "2025-01-16T16:51:28.040051Z",
          "iopub.status.idle": "2025-01-16T16:51:28.052224Z",
          "shell.execute_reply.started": "2025-01-16T16:51:28.040023Z",
          "shell.execute_reply": "2025-01-16T16:51:28.051274Z"
        },
        "id": "NK39p70iOr82",
        "outputId": "c2e1c2dc-46c5-4b53-e93d-2f9fcf0bb99d"
      },
      "outputs": [
        {
          "name": "stdout",
          "text": "Baseline accuracy:81.95, New accuracy: 83.00, Difference : 1.05\nBaseline recall:0.82, New recall: 0.83, Difference : 0.01\nBaseline precision:0.83, New precision: 0.83, Difference : 0.00\nBaseline f1:0.81, New f1: 0.83, Difference : 0.02\n",
          "output_type": "stream"
        }
      ],
      "execution_count": null
    },
    {
      "cell_type": "code",
      "source": [
        "model_6 = tf.keras.models.clone_model(model_1)"
      ],
      "metadata": {
        "trusted": true,
        "execution": {
          "iopub.status.busy": "2025-01-16T16:51:28.053427Z",
          "iopub.execute_input": "2025-01-16T16:51:28.053718Z",
          "iopub.status.idle": "2025-01-16T16:51:28.109403Z",
          "shell.execute_reply.started": "2025-01-16T16:51:28.053666Z",
          "shell.execute_reply": "2025-01-16T16:51:28.108398Z"
        },
        "id": "uuAA7ryEOr82"
      },
      "outputs": [],
      "execution_count": null
    },
    {
      "cell_type": "code",
      "source": [
        "model_6_compile_display_summary = compile_and_display_model_summary(model_6)\n",
        "model_6_compile_display_summary"
      ],
      "metadata": {
        "trusted": true,
        "execution": {
          "iopub.status.busy": "2025-01-16T16:51:28.110413Z",
          "iopub.execute_input": "2025-01-16T16:51:28.110697Z",
          "iopub.status.idle": "2025-01-16T16:51:28.134438Z",
          "shell.execute_reply.started": "2025-01-16T16:51:28.110649Z",
          "shell.execute_reply": "2025-01-16T16:51:28.133376Z"
        },
        "id": "m1ai3FkHOr82",
        "outputId": "35a65c89-c5f6-4f68-ebf1-615060f2b2f0"
      },
      "outputs": [
        {
          "output_type": "display_data",
          "data": {
            "text/plain": "\u001b[1mModel: \"model_1_dense\"\u001b[0m\n",
            "text/html": "<pre style=\"white-space:pre;overflow-x:auto;line-height:normal;font-family:Menlo,'DejaVu Sans Mono',consolas,'Courier New',monospace\"><span style=\"font-weight: bold\">Model: \"model_1_dense\"</span>\n</pre>\n"
          },
          "metadata": {}
        },
        {
          "output_type": "display_data",
          "data": {
            "text/plain": "┏━━━━━━━━━━━━━━━━━━━━━━━━━━━━━━━━━━━━━━┳━━━━━━━━━━━━━━━━━━━━━━━━━━━━━┳━━━━━━━━━━━━━━━━━┓\n┃\u001b[1m \u001b[0m\u001b[1mLayer (type)                        \u001b[0m\u001b[1m \u001b[0m┃\u001b[1m \u001b[0m\u001b[1mOutput Shape               \u001b[0m\u001b[1m \u001b[0m┃\u001b[1m \u001b[0m\u001b[1m        Param #\u001b[0m\u001b[1m \u001b[0m┃\n┡━━━━━━━━━━━━━━━━━━━━━━━━━━━━━━━━━━━━━━╇━━━━━━━━━━━━━━━━━━━━━━━━━━━━━╇━━━━━━━━━━━━━━━━━┩\n│ keras_tensor_30 (\u001b[38;5;33mInputLayer\u001b[0m)         │ (\u001b[38;5;45mNone\u001b[0m, \u001b[38;5;34m1\u001b[0m)                   │               \u001b[38;5;34m0\u001b[0m │\n├──────────────────────────────────────┼─────────────────────────────┼─────────────────┤\n│ text_vectorization_1                 │ (\u001b[38;5;45mNone\u001b[0m, \u001b[38;5;34m10\u001b[0m)                  │               \u001b[38;5;34m0\u001b[0m │\n│ (\u001b[38;5;33mTextVectorization\u001b[0m)                  │                             │                 │\n├──────────────────────────────────────┼─────────────────────────────┼─────────────────┤\n│ embedding_1 (\u001b[38;5;33mEmbedding\u001b[0m)              │ (\u001b[38;5;45mNone\u001b[0m, \u001b[38;5;34m10\u001b[0m, \u001b[38;5;34m128\u001b[0m)             │       \u001b[38;5;34m1,280,000\u001b[0m │\n├──────────────────────────────────────┼─────────────────────────────┼─────────────────┤\n│ global_average_pooling1d_1           │ (\u001b[38;5;45mNone\u001b[0m, \u001b[38;5;34m128\u001b[0m)                 │               \u001b[38;5;34m0\u001b[0m │\n│ (\u001b[38;5;33mGlobalAveragePooling1D\u001b[0m)             │                             │                 │\n├──────────────────────────────────────┼─────────────────────────────┼─────────────────┤\n│ dense_5 (\u001b[38;5;33mDense\u001b[0m)                      │ (\u001b[38;5;45mNone\u001b[0m, \u001b[38;5;34m1\u001b[0m)                   │             \u001b[38;5;34m129\u001b[0m │\n└──────────────────────────────────────┴─────────────────────────────┴─────────────────┘\n",
            "text/html": "<pre style=\"white-space:pre;overflow-x:auto;line-height:normal;font-family:Menlo,'DejaVu Sans Mono',consolas,'Courier New',monospace\">┏━━━━━━━━━━━━━━━━━━━━━━━━━━━━━━━━━━━━━━┳━━━━━━━━━━━━━━━━━━━━━━━━━━━━━┳━━━━━━━━━━━━━━━━━┓\n┃<span style=\"font-weight: bold\"> Layer (type)                         </span>┃<span style=\"font-weight: bold\"> Output Shape                </span>┃<span style=\"font-weight: bold\">         Param # </span>┃\n┡━━━━━━━━━━━━━━━━━━━━━━━━━━━━━━━━━━━━━━╇━━━━━━━━━━━━━━━━━━━━━━━━━━━━━╇━━━━━━━━━━━━━━━━━┩\n│ keras_tensor_30 (<span style=\"color: #0087ff; text-decoration-color: #0087ff\">InputLayer</span>)         │ (<span style=\"color: #00d7ff; text-decoration-color: #00d7ff\">None</span>, <span style=\"color: #00af00; text-decoration-color: #00af00\">1</span>)                   │               <span style=\"color: #00af00; text-decoration-color: #00af00\">0</span> │\n├──────────────────────────────────────┼─────────────────────────────┼─────────────────┤\n│ text_vectorization_1                 │ (<span style=\"color: #00d7ff; text-decoration-color: #00d7ff\">None</span>, <span style=\"color: #00af00; text-decoration-color: #00af00\">10</span>)                  │               <span style=\"color: #00af00; text-decoration-color: #00af00\">0</span> │\n│ (<span style=\"color: #0087ff; text-decoration-color: #0087ff\">TextVectorization</span>)                  │                             │                 │\n├──────────────────────────────────────┼─────────────────────────────┼─────────────────┤\n│ embedding_1 (<span style=\"color: #0087ff; text-decoration-color: #0087ff\">Embedding</span>)              │ (<span style=\"color: #00d7ff; text-decoration-color: #00d7ff\">None</span>, <span style=\"color: #00af00; text-decoration-color: #00af00\">10</span>, <span style=\"color: #00af00; text-decoration-color: #00af00\">128</span>)             │       <span style=\"color: #00af00; text-decoration-color: #00af00\">1,280,000</span> │\n├──────────────────────────────────────┼─────────────────────────────┼─────────────────┤\n│ global_average_pooling1d_1           │ (<span style=\"color: #00d7ff; text-decoration-color: #00d7ff\">None</span>, <span style=\"color: #00af00; text-decoration-color: #00af00\">128</span>)                 │               <span style=\"color: #00af00; text-decoration-color: #00af00\">0</span> │\n│ (<span style=\"color: #0087ff; text-decoration-color: #0087ff\">GlobalAveragePooling1D</span>)             │                             │                 │\n├──────────────────────────────────────┼─────────────────────────────┼─────────────────┤\n│ dense_5 (<span style=\"color: #0087ff; text-decoration-color: #0087ff\">Dense</span>)                      │ (<span style=\"color: #00d7ff; text-decoration-color: #00d7ff\">None</span>, <span style=\"color: #00af00; text-decoration-color: #00af00\">1</span>)                   │             <span style=\"color: #00af00; text-decoration-color: #00af00\">129</span> │\n└──────────────────────────────────────┴─────────────────────────────┴─────────────────┘\n</pre>\n"
          },
          "metadata": {}
        },
        {
          "output_type": "display_data",
          "data": {
            "text/plain": "\u001b[1m Total params: \u001b[0m\u001b[38;5;34m1,280,129\u001b[0m (4.88 MB)\n",
            "text/html": "<pre style=\"white-space:pre;overflow-x:auto;line-height:normal;font-family:Menlo,'DejaVu Sans Mono',consolas,'Courier New',monospace\"><span style=\"font-weight: bold\"> Total params: </span><span style=\"color: #00af00; text-decoration-color: #00af00\">1,280,129</span> (4.88 MB)\n</pre>\n"
          },
          "metadata": {}
        },
        {
          "output_type": "display_data",
          "data": {
            "text/plain": "\u001b[1m Trainable params: \u001b[0m\u001b[38;5;34m1,280,129\u001b[0m (4.88 MB)\n",
            "text/html": "<pre style=\"white-space:pre;overflow-x:auto;line-height:normal;font-family:Menlo,'DejaVu Sans Mono',consolas,'Courier New',monospace\"><span style=\"font-weight: bold\"> Trainable params: </span><span style=\"color: #00af00; text-decoration-color: #00af00\">1,280,129</span> (4.88 MB)\n</pre>\n"
          },
          "metadata": {}
        },
        {
          "output_type": "display_data",
          "data": {
            "text/plain": "\u001b[1m Non-trainable params: \u001b[0m\u001b[38;5;34m0\u001b[0m (0.00 B)\n",
            "text/html": "<pre style=\"white-space:pre;overflow-x:auto;line-height:normal;font-family:Menlo,'DejaVu Sans Mono',consolas,'Courier New',monospace\"><span style=\"font-weight: bold\"> Non-trainable params: </span><span style=\"color: #00af00; text-decoration-color: #00af00\">0</span> (0.00 B)\n</pre>\n"
          },
          "metadata": {}
        }
      ],
      "execution_count": null
    },
    {
      "cell_type": "code",
      "source": [
        "train_sentences_80_percent, train_sentences_20_percent, train_labels_80_percent, train_labels_20_percent = train_test_split(train_sentences,\n",
        "                                                                                                                               train_labels,\n",
        "                                                                                                                               test_size = 0.2,\n",
        "                                                                                                                               random_state = 42)"
      ],
      "metadata": {
        "trusted": true,
        "execution": {
          "iopub.status.busy": "2025-01-16T16:51:28.135486Z",
          "iopub.execute_input": "2025-01-16T16:51:28.135826Z",
          "iopub.status.idle": "2025-01-16T16:51:28.144009Z",
          "shell.execute_reply.started": "2025-01-16T16:51:28.135786Z",
          "shell.execute_reply": "2025-01-16T16:51:28.142846Z"
        },
        "id": "eKlgAmxbOr82"
      },
      "outputs": [],
      "execution_count": null
    },
    {
      "cell_type": "code",
      "source": [
        "len(train_sentences_80_percent), len(train_sentences_20_percent), len(test_sentences_80_percent), len(test_sentences_20_percent),"
      ],
      "metadata": {
        "trusted": true,
        "execution": {
          "iopub.status.busy": "2025-01-16T16:51:28.145133Z",
          "iopub.execute_input": "2025-01-16T16:51:28.145398Z",
          "iopub.status.idle": "2025-01-16T16:51:28.168127Z",
          "shell.execute_reply.started": "2025-01-16T16:51:28.145374Z",
          "shell.execute_reply": "2025-01-16T16:51:28.167161Z"
        },
        "id": "XkCSc7IpOr82",
        "outputId": "6b212773-8107-48b1-a958-2c55b9b55165"
      },
      "outputs": [
        {
          "execution_count": 146,
          "output_type": "execute_result",
          "data": {
            "text/plain": "(19230, 4808, 19230, 4808)"
          },
          "metadata": {}
        }
      ],
      "execution_count": null
    },
    {
      "cell_type": "code",
      "source": [
        "model_6.compile(loss = 'binary_crossentropy',\n",
        "               optimizer = 'adam',\n",
        "               metrics = ['accuracy'])\n",
        "\n",
        "model_6.summary()"
      ],
      "metadata": {
        "trusted": true,
        "execution": {
          "iopub.status.busy": "2025-01-16T16:51:28.169043Z",
          "iopub.execute_input": "2025-01-16T16:51:28.169342Z",
          "iopub.status.idle": "2025-01-16T16:51:28.209640Z",
          "shell.execute_reply.started": "2025-01-16T16:51:28.169312Z",
          "shell.execute_reply": "2025-01-16T16:51:28.208516Z"
        },
        "id": "E4OtUDGjOr82",
        "outputId": "788368f8-0f8c-4e14-aa34-f6cf58773019"
      },
      "outputs": [
        {
          "output_type": "display_data",
          "data": {
            "text/plain": "\u001b[1mModel: \"model_1_dense\"\u001b[0m\n",
            "text/html": "<pre style=\"white-space:pre;overflow-x:auto;line-height:normal;font-family:Menlo,'DejaVu Sans Mono',consolas,'Courier New',monospace\"><span style=\"font-weight: bold\">Model: \"model_1_dense\"</span>\n</pre>\n"
          },
          "metadata": {}
        },
        {
          "output_type": "display_data",
          "data": {
            "text/plain": "┏━━━━━━━━━━━━━━━━━━━━━━━━━━━━━━━━━━━━━━┳━━━━━━━━━━━━━━━━━━━━━━━━━━━━━┳━━━━━━━━━━━━━━━━━┓\n┃\u001b[1m \u001b[0m\u001b[1mLayer (type)                        \u001b[0m\u001b[1m \u001b[0m┃\u001b[1m \u001b[0m\u001b[1mOutput Shape               \u001b[0m\u001b[1m \u001b[0m┃\u001b[1m \u001b[0m\u001b[1m        Param #\u001b[0m\u001b[1m \u001b[0m┃\n┡━━━━━━━━━━━━━━━━━━━━━━━━━━━━━━━━━━━━━━╇━━━━━━━━━━━━━━━━━━━━━━━━━━━━━╇━━━━━━━━━━━━━━━━━┩\n│ keras_tensor_30 (\u001b[38;5;33mInputLayer\u001b[0m)         │ (\u001b[38;5;45mNone\u001b[0m, \u001b[38;5;34m1\u001b[0m)                   │               \u001b[38;5;34m0\u001b[0m │\n├──────────────────────────────────────┼─────────────────────────────┼─────────────────┤\n│ text_vectorization_1                 │ (\u001b[38;5;45mNone\u001b[0m, \u001b[38;5;34m10\u001b[0m)                  │               \u001b[38;5;34m0\u001b[0m │\n│ (\u001b[38;5;33mTextVectorization\u001b[0m)                  │                             │                 │\n├──────────────────────────────────────┼─────────────────────────────┼─────────────────┤\n│ embedding_1 (\u001b[38;5;33mEmbedding\u001b[0m)              │ (\u001b[38;5;45mNone\u001b[0m, \u001b[38;5;34m10\u001b[0m, \u001b[38;5;34m128\u001b[0m)             │       \u001b[38;5;34m1,280,000\u001b[0m │\n├──────────────────────────────────────┼─────────────────────────────┼─────────────────┤\n│ global_average_pooling1d_1           │ (\u001b[38;5;45mNone\u001b[0m, \u001b[38;5;34m128\u001b[0m)                 │               \u001b[38;5;34m0\u001b[0m │\n│ (\u001b[38;5;33mGlobalAveragePooling1D\u001b[0m)             │                             │                 │\n├──────────────────────────────────────┼─────────────────────────────┼─────────────────┤\n│ dense_5 (\u001b[38;5;33mDense\u001b[0m)                      │ (\u001b[38;5;45mNone\u001b[0m, \u001b[38;5;34m1\u001b[0m)                   │             \u001b[38;5;34m129\u001b[0m │\n└──────────────────────────────────────┴─────────────────────────────┴─────────────────┘\n",
            "text/html": "<pre style=\"white-space:pre;overflow-x:auto;line-height:normal;font-family:Menlo,'DejaVu Sans Mono',consolas,'Courier New',monospace\">┏━━━━━━━━━━━━━━━━━━━━━━━━━━━━━━━━━━━━━━┳━━━━━━━━━━━━━━━━━━━━━━━━━━━━━┳━━━━━━━━━━━━━━━━━┓\n┃<span style=\"font-weight: bold\"> Layer (type)                         </span>┃<span style=\"font-weight: bold\"> Output Shape                </span>┃<span style=\"font-weight: bold\">         Param # </span>┃\n┡━━━━━━━━━━━━━━━━━━━━━━━━━━━━━━━━━━━━━━╇━━━━━━━━━━━━━━━━━━━━━━━━━━━━━╇━━━━━━━━━━━━━━━━━┩\n│ keras_tensor_30 (<span style=\"color: #0087ff; text-decoration-color: #0087ff\">InputLayer</span>)         │ (<span style=\"color: #00d7ff; text-decoration-color: #00d7ff\">None</span>, <span style=\"color: #00af00; text-decoration-color: #00af00\">1</span>)                   │               <span style=\"color: #00af00; text-decoration-color: #00af00\">0</span> │\n├──────────────────────────────────────┼─────────────────────────────┼─────────────────┤\n│ text_vectorization_1                 │ (<span style=\"color: #00d7ff; text-decoration-color: #00d7ff\">None</span>, <span style=\"color: #00af00; text-decoration-color: #00af00\">10</span>)                  │               <span style=\"color: #00af00; text-decoration-color: #00af00\">0</span> │\n│ (<span style=\"color: #0087ff; text-decoration-color: #0087ff\">TextVectorization</span>)                  │                             │                 │\n├──────────────────────────────────────┼─────────────────────────────┼─────────────────┤\n│ embedding_1 (<span style=\"color: #0087ff; text-decoration-color: #0087ff\">Embedding</span>)              │ (<span style=\"color: #00d7ff; text-decoration-color: #00d7ff\">None</span>, <span style=\"color: #00af00; text-decoration-color: #00af00\">10</span>, <span style=\"color: #00af00; text-decoration-color: #00af00\">128</span>)             │       <span style=\"color: #00af00; text-decoration-color: #00af00\">1,280,000</span> │\n├──────────────────────────────────────┼─────────────────────────────┼─────────────────┤\n│ global_average_pooling1d_1           │ (<span style=\"color: #00d7ff; text-decoration-color: #00d7ff\">None</span>, <span style=\"color: #00af00; text-decoration-color: #00af00\">128</span>)                 │               <span style=\"color: #00af00; text-decoration-color: #00af00\">0</span> │\n│ (<span style=\"color: #0087ff; text-decoration-color: #0087ff\">GlobalAveragePooling1D</span>)             │                             │                 │\n├──────────────────────────────────────┼─────────────────────────────┼─────────────────┤\n│ dense_5 (<span style=\"color: #0087ff; text-decoration-color: #0087ff\">Dense</span>)                      │ (<span style=\"color: #00d7ff; text-decoration-color: #00d7ff\">None</span>, <span style=\"color: #00af00; text-decoration-color: #00af00\">1</span>)                   │             <span style=\"color: #00af00; text-decoration-color: #00af00\">129</span> │\n└──────────────────────────────────────┴─────────────────────────────┴─────────────────┘\n</pre>\n"
          },
          "metadata": {}
        },
        {
          "output_type": "display_data",
          "data": {
            "text/plain": "\u001b[1m Total params: \u001b[0m\u001b[38;5;34m1,280,129\u001b[0m (4.88 MB)\n",
            "text/html": "<pre style=\"white-space:pre;overflow-x:auto;line-height:normal;font-family:Menlo,'DejaVu Sans Mono',consolas,'Courier New',monospace\"><span style=\"font-weight: bold\"> Total params: </span><span style=\"color: #00af00; text-decoration-color: #00af00\">1,280,129</span> (4.88 MB)\n</pre>\n"
          },
          "metadata": {}
        },
        {
          "output_type": "display_data",
          "data": {
            "text/plain": "\u001b[1m Trainable params: \u001b[0m\u001b[38;5;34m1,280,129\u001b[0m (4.88 MB)\n",
            "text/html": "<pre style=\"white-space:pre;overflow-x:auto;line-height:normal;font-family:Menlo,'DejaVu Sans Mono',consolas,'Courier New',monospace\"><span style=\"font-weight: bold\"> Trainable params: </span><span style=\"color: #00af00; text-decoration-color: #00af00\">1,280,129</span> (4.88 MB)\n</pre>\n"
          },
          "metadata": {}
        },
        {
          "output_type": "display_data",
          "data": {
            "text/plain": "\u001b[1m Non-trainable params: \u001b[0m\u001b[38;5;34m0\u001b[0m (0.00 B)\n",
            "text/html": "<pre style=\"white-space:pre;overflow-x:auto;line-height:normal;font-family:Menlo,'DejaVu Sans Mono',consolas,'Courier New',monospace\"><span style=\"font-weight: bold\"> Non-trainable params: </span><span style=\"color: #00af00; text-decoration-color: #00af00\">0</span> (0.00 B)\n</pre>\n"
          },
          "metadata": {}
        }
      ],
      "execution_count": null
    },
    {
      "cell_type": "code",
      "source": [
        "inputs = layers.Input(shape = (1, ), dtype = 'string')\n",
        "x = text_vectorizer(inputs)\n",
        "x = embedding(x)\n",
        "x = layers.GlobalAveragePooling1D()(x)\n",
        "outputs = layers.Dense(1, activation = 'sigmoid')(x)\n",
        "model_7 = tf.keras.Model(inputs, outputs, name = 'model_7_dense')"
      ],
      "metadata": {
        "trusted": true,
        "execution": {
          "iopub.status.busy": "2025-01-16T16:52:21.171987Z",
          "iopub.execute_input": "2025-01-16T16:52:21.172362Z",
          "iopub.status.idle": "2025-01-16T16:52:21.193161Z",
          "shell.execute_reply.started": "2025-01-16T16:52:21.172330Z",
          "shell.execute_reply": "2025-01-16T16:52:21.191799Z"
        },
        "id": "dbUEvB9FOr83"
      },
      "outputs": [],
      "execution_count": null
    },
    {
      "cell_type": "code",
      "source": [
        "model_7_compile_display_summary = compile_and_display_model_summary(model_7)\n",
        "model_7_compile_display_summary"
      ],
      "metadata": {
        "trusted": true,
        "execution": {
          "iopub.status.busy": "2025-01-16T16:52:32.979288Z",
          "iopub.execute_input": "2025-01-16T16:52:32.979779Z",
          "iopub.status.idle": "2025-01-16T16:52:33.006631Z",
          "shell.execute_reply.started": "2025-01-16T16:52:32.979732Z",
          "shell.execute_reply": "2025-01-16T16:52:33.005402Z"
        },
        "id": "q4r5ekIKOr83",
        "outputId": "1598b7b8-cf5f-4199-98fa-55530c1a9a2a"
      },
      "outputs": [
        {
          "output_type": "display_data",
          "data": {
            "text/plain": "\u001b[1mModel: \"model_7_dense\"\u001b[0m\n",
            "text/html": "<pre style=\"white-space:pre;overflow-x:auto;line-height:normal;font-family:Menlo,'DejaVu Sans Mono',consolas,'Courier New',monospace\"><span style=\"font-weight: bold\">Model: \"model_7_dense\"</span>\n</pre>\n"
          },
          "metadata": {}
        },
        {
          "output_type": "display_data",
          "data": {
            "text/plain": "┏━━━━━━━━━━━━━━━━━━━━━━━━━━━━━━━━━━━━━━┳━━━━━━━━━━━━━━━━━━━━━━━━━━━━━┳━━━━━━━━━━━━━━━━━┓\n┃\u001b[1m \u001b[0m\u001b[1mLayer (type)                        \u001b[0m\u001b[1m \u001b[0m┃\u001b[1m \u001b[0m\u001b[1mOutput Shape               \u001b[0m\u001b[1m \u001b[0m┃\u001b[1m \u001b[0m\u001b[1m        Param #\u001b[0m\u001b[1m \u001b[0m┃\n┡━━━━━━━━━━━━━━━━━━━━━━━━━━━━━━━━━━━━━━╇━━━━━━━━━━━━━━━━━━━━━━━━━━━━━╇━━━━━━━━━━━━━━━━━┩\n│ input_layer_10 (\u001b[38;5;33mInputLayer\u001b[0m)          │ (\u001b[38;5;45mNone\u001b[0m, \u001b[38;5;34m1\u001b[0m)                   │               \u001b[38;5;34m0\u001b[0m │\n├──────────────────────────────────────┼─────────────────────────────┼─────────────────┤\n│ text_vectorization_1                 │ (\u001b[38;5;45mNone\u001b[0m, \u001b[38;5;34m10\u001b[0m)                  │               \u001b[38;5;34m0\u001b[0m │\n│ (\u001b[38;5;33mTextVectorization\u001b[0m)                  │                             │                 │\n├──────────────────────────────────────┼─────────────────────────────┼─────────────────┤\n│ embedding_1 (\u001b[38;5;33mEmbedding\u001b[0m)              │ (\u001b[38;5;45mNone\u001b[0m, \u001b[38;5;34m10\u001b[0m, \u001b[38;5;34m128\u001b[0m)             │       \u001b[38;5;34m1,280,000\u001b[0m │\n├──────────────────────────────────────┼─────────────────────────────┼─────────────────┤\n│ global_average_pooling1d_2           │ (\u001b[38;5;45mNone\u001b[0m, \u001b[38;5;34m128\u001b[0m)                 │               \u001b[38;5;34m0\u001b[0m │\n│ (\u001b[38;5;33mGlobalAveragePooling1D\u001b[0m)             │                             │                 │\n├──────────────────────────────────────┼─────────────────────────────┼─────────────────┤\n│ dense_10 (\u001b[38;5;33mDense\u001b[0m)                     │ (\u001b[38;5;45mNone\u001b[0m, \u001b[38;5;34m1\u001b[0m)                   │             \u001b[38;5;34m129\u001b[0m │\n└──────────────────────────────────────┴─────────────────────────────┴─────────────────┘\n",
            "text/html": "<pre style=\"white-space:pre;overflow-x:auto;line-height:normal;font-family:Menlo,'DejaVu Sans Mono',consolas,'Courier New',monospace\">┏━━━━━━━━━━━━━━━━━━━━━━━━━━━━━━━━━━━━━━┳━━━━━━━━━━━━━━━━━━━━━━━━━━━━━┳━━━━━━━━━━━━━━━━━┓\n┃<span style=\"font-weight: bold\"> Layer (type)                         </span>┃<span style=\"font-weight: bold\"> Output Shape                </span>┃<span style=\"font-weight: bold\">         Param # </span>┃\n┡━━━━━━━━━━━━━━━━━━━━━━━━━━━━━━━━━━━━━━╇━━━━━━━━━━━━━━━━━━━━━━━━━━━━━╇━━━━━━━━━━━━━━━━━┩\n│ input_layer_10 (<span style=\"color: #0087ff; text-decoration-color: #0087ff\">InputLayer</span>)          │ (<span style=\"color: #00d7ff; text-decoration-color: #00d7ff\">None</span>, <span style=\"color: #00af00; text-decoration-color: #00af00\">1</span>)                   │               <span style=\"color: #00af00; text-decoration-color: #00af00\">0</span> │\n├──────────────────────────────────────┼─────────────────────────────┼─────────────────┤\n│ text_vectorization_1                 │ (<span style=\"color: #00d7ff; text-decoration-color: #00d7ff\">None</span>, <span style=\"color: #00af00; text-decoration-color: #00af00\">10</span>)                  │               <span style=\"color: #00af00; text-decoration-color: #00af00\">0</span> │\n│ (<span style=\"color: #0087ff; text-decoration-color: #0087ff\">TextVectorization</span>)                  │                             │                 │\n├──────────────────────────────────────┼─────────────────────────────┼─────────────────┤\n│ embedding_1 (<span style=\"color: #0087ff; text-decoration-color: #0087ff\">Embedding</span>)              │ (<span style=\"color: #00d7ff; text-decoration-color: #00d7ff\">None</span>, <span style=\"color: #00af00; text-decoration-color: #00af00\">10</span>, <span style=\"color: #00af00; text-decoration-color: #00af00\">128</span>)             │       <span style=\"color: #00af00; text-decoration-color: #00af00\">1,280,000</span> │\n├──────────────────────────────────────┼─────────────────────────────┼─────────────────┤\n│ global_average_pooling1d_2           │ (<span style=\"color: #00d7ff; text-decoration-color: #00d7ff\">None</span>, <span style=\"color: #00af00; text-decoration-color: #00af00\">128</span>)                 │               <span style=\"color: #00af00; text-decoration-color: #00af00\">0</span> │\n│ (<span style=\"color: #0087ff; text-decoration-color: #0087ff\">GlobalAveragePooling1D</span>)             │                             │                 │\n├──────────────────────────────────────┼─────────────────────────────┼─────────────────┤\n│ dense_10 (<span style=\"color: #0087ff; text-decoration-color: #0087ff\">Dense</span>)                     │ (<span style=\"color: #00d7ff; text-decoration-color: #00d7ff\">None</span>, <span style=\"color: #00af00; text-decoration-color: #00af00\">1</span>)                   │             <span style=\"color: #00af00; text-decoration-color: #00af00\">129</span> │\n└──────────────────────────────────────┴─────────────────────────────┴─────────────────┘\n</pre>\n"
          },
          "metadata": {}
        },
        {
          "output_type": "display_data",
          "data": {
            "text/plain": "\u001b[1m Total params: \u001b[0m\u001b[38;5;34m1,280,129\u001b[0m (4.88 MB)\n",
            "text/html": "<pre style=\"white-space:pre;overflow-x:auto;line-height:normal;font-family:Menlo,'DejaVu Sans Mono',consolas,'Courier New',monospace\"><span style=\"font-weight: bold\"> Total params: </span><span style=\"color: #00af00; text-decoration-color: #00af00\">1,280,129</span> (4.88 MB)\n</pre>\n"
          },
          "metadata": {}
        },
        {
          "output_type": "display_data",
          "data": {
            "text/plain": "\u001b[1m Trainable params: \u001b[0m\u001b[38;5;34m1,280,129\u001b[0m (4.88 MB)\n",
            "text/html": "<pre style=\"white-space:pre;overflow-x:auto;line-height:normal;font-family:Menlo,'DejaVu Sans Mono',consolas,'Courier New',monospace\"><span style=\"font-weight: bold\"> Trainable params: </span><span style=\"color: #00af00; text-decoration-color: #00af00\">1,280,129</span> (4.88 MB)\n</pre>\n"
          },
          "metadata": {}
        },
        {
          "output_type": "display_data",
          "data": {
            "text/plain": "\u001b[1m Non-trainable params: \u001b[0m\u001b[38;5;34m0\u001b[0m (0.00 B)\n",
            "text/html": "<pre style=\"white-space:pre;overflow-x:auto;line-height:normal;font-family:Menlo,'DejaVu Sans Mono',consolas,'Courier New',monospace\"><span style=\"font-weight: bold\"> Non-trainable params: </span><span style=\"color: #00af00; text-decoration-color: #00af00\">0</span> (0.00 B)\n</pre>\n"
          },
          "metadata": {}
        }
      ],
      "execution_count": null
    },
    {
      "cell_type": "code",
      "source": [
        "model_7_history = model_7.fit(train_sentences_20_percent,\n",
        "                             train_labels_20_percent,\n",
        "                             epochs = 5,\n",
        "                             validation_data = (val_sentences, val_labels))"
      ],
      "metadata": {
        "trusted": true,
        "execution": {
          "iopub.status.busy": "2025-01-16T16:52:54.433935Z",
          "iopub.execute_input": "2025-01-16T16:52:54.434467Z",
          "iopub.status.idle": "2025-01-16T16:53:02.124772Z",
          "shell.execute_reply.started": "2025-01-16T16:52:54.434421Z",
          "shell.execute_reply": "2025-01-16T16:53:02.123743Z"
        },
        "id": "7lvqn9XzOr83",
        "outputId": "b17989ac-389e-48a8-b76f-79b586c33165"
      },
      "outputs": [
        {
          "name": "stdout",
          "text": "Epoch 1/5\n\u001b[1m151/151\u001b[0m \u001b[32m━━━━━━━━━━━━━━━━━━━━\u001b[0m\u001b[37m\u001b[0m \u001b[1m3s\u001b[0m 11ms/step - accuracy: 0.8485 - loss: 0.6160 - val_accuracy: 0.8484 - val_loss: 0.4765\nEpoch 2/5\n\u001b[1m151/151\u001b[0m \u001b[32m━━━━━━━━━━━━━━━━━━━━\u001b[0m\u001b[37m\u001b[0m \u001b[1m1s\u001b[0m 8ms/step - accuracy: 0.9446 - loss: 0.3823 - val_accuracy: 0.8480 - val_loss: 0.3912\nEpoch 3/5\n\u001b[1m151/151\u001b[0m \u001b[32m━━━━━━━━━━━━━━━━━━━━\u001b[0m\u001b[37m\u001b[0m \u001b[1m1s\u001b[0m 8ms/step - accuracy: 0.9487 - loss: 0.2679 - val_accuracy: 0.8439 - val_loss: 0.3642\nEpoch 4/5\n\u001b[1m151/151\u001b[0m \u001b[32m━━━━━━━━━━━━━━━━━━━━\u001b[0m\u001b[37m\u001b[0m \u001b[1m1s\u001b[0m 8ms/step - accuracy: 0.9595 - loss: 0.2029 - val_accuracy: 0.8439 - val_loss: 0.3592\nEpoch 5/5\n\u001b[1m151/151\u001b[0m \u001b[32m━━━━━━━━━━━━━━━━━━━━\u001b[0m\u001b[37m\u001b[0m \u001b[1m1s\u001b[0m 8ms/step - accuracy: 0.9703 - loss: 0.1591 - val_accuracy: 0.8409 - val_loss: 0.3640\n",
          "output_type": "stream"
        }
      ],
      "execution_count": null
    },
    {
      "cell_type": "code",
      "source": [
        "model_7_pred_probs = model_7.predict(val_sentences)\n",
        "model_7_pred_probs[:10]"
      ],
      "metadata": {
        "trusted": true,
        "execution": {
          "iopub.status.busy": "2025-01-16T16:53:26.854166Z",
          "iopub.execute_input": "2025-01-16T16:53:26.854591Z",
          "iopub.status.idle": "2025-01-16T16:53:27.406859Z",
          "shell.execute_reply.started": "2025-01-16T16:53:26.854554Z",
          "shell.execute_reply": "2025-01-16T16:53:27.405790Z"
        },
        "id": "zensJo1QOr83",
        "outputId": "64fdd0f2-caba-451c-f688-4f0464e0be34"
      },
      "outputs": [
        {
          "name": "stdout",
          "text": "\u001b[1m84/84\u001b[0m \u001b[32m━━━━━━━━━━━━━━━━━━━━\u001b[0m\u001b[37m\u001b[0m \u001b[1m0s\u001b[0m 3ms/step\n",
          "output_type": "stream"
        },
        {
          "execution_count": 153,
          "output_type": "execute_result",
          "data": {
            "text/plain": "array([[0.94754374],\n       [0.09111688],\n       [0.12268095],\n       [0.32995692],\n       [0.40614882],\n       [0.780755  ],\n       [0.00955697],\n       [0.6048012 ],\n       [0.038765  ],\n       [0.0553349 ]], dtype=float32)"
          },
          "metadata": {}
        }
      ],
      "execution_count": null
    },
    {
      "cell_type": "code",
      "source": [
        "model_7_preds = tf.squeeze(tf.round(model_7_pred_probs))\n",
        "model_7_preds[:10]"
      ],
      "metadata": {
        "trusted": true,
        "execution": {
          "iopub.status.busy": "2025-01-16T16:53:47.008138Z",
          "iopub.execute_input": "2025-01-16T16:53:47.008637Z",
          "iopub.status.idle": "2025-01-16T16:53:47.024128Z",
          "shell.execute_reply.started": "2025-01-16T16:53:47.008590Z",
          "shell.execute_reply": "2025-01-16T16:53:47.021829Z"
        },
        "id": "LLcNx6P9Or83",
        "outputId": "cd88ba5d-62ef-42ce-955f-6dbd73a55eab"
      },
      "outputs": [
        {
          "execution_count": 154,
          "output_type": "execute_result",
          "data": {
            "text/plain": "<tf.Tensor: shape=(10,), dtype=float32, numpy=array([1., 0., 0., 0., 0., 1., 0., 1., 0., 0.], dtype=float32)>"
          },
          "metadata": {}
        }
      ],
      "execution_count": null
    },
    {
      "cell_type": "code",
      "source": [
        "model_7_results = calculate_results(val_labels, model_7_preds)\n",
        "model_7_results"
      ],
      "metadata": {
        "trusted": true,
        "execution": {
          "iopub.status.busy": "2025-01-16T16:54:20.406965Z",
          "iopub.execute_input": "2025-01-16T16:54:20.407433Z",
          "iopub.status.idle": "2025-01-16T16:54:20.422384Z",
          "shell.execute_reply.started": "2025-01-16T16:54:20.407389Z",
          "shell.execute_reply": "2025-01-16T16:54:20.421240Z"
        },
        "id": "7DwpEECaOr83",
        "outputId": "587f4c5a-b031-435e-f2c0-c38f2e9596c0"
      },
      "outputs": [
        {
          "execution_count": 155,
          "output_type": "execute_result",
          "data": {
            "text/plain": "{'accuracy': 84.08835642081617,\n 'recall': 0.8408835642081617,\n 'precision': 0.8406665608237758,\n 'f1': 0.8407405323934865}"
          },
          "metadata": {}
        }
      ],
      "execution_count": null
    },
    {
      "cell_type": "code",
      "source": [
        "compare_baseline_to_new_results(baseline_results, model_7_results)"
      ],
      "metadata": {
        "trusted": true,
        "execution": {
          "iopub.status.busy": "2025-01-16T16:54:45.757907Z",
          "iopub.execute_input": "2025-01-16T16:54:45.758523Z",
          "iopub.status.idle": "2025-01-16T16:54:45.766080Z",
          "shell.execute_reply.started": "2025-01-16T16:54:45.758467Z",
          "shell.execute_reply": "2025-01-16T16:54:45.764816Z"
        },
        "id": "TEG3xuBwOr83",
        "outputId": "d2631a68-8ed7-4e55-ee7f-dd8a37be2661"
      },
      "outputs": [
        {
          "name": "stdout",
          "text": "Baseline accuracy:81.95, New accuracy: 84.09, Difference : 2.13\nBaseline recall:0.82, New recall: 0.84, Difference : 0.02\nBaseline precision:0.83, New precision: 0.84, Difference : 0.01\nBaseline f1:0.81, New f1: 0.84, Difference : 0.03\n",
          "output_type": "stream"
        }
      ],
      "execution_count": null
    },
    {
      "cell_type": "code",
      "source": [
        "all_model_results = pd.DataFrame({\n",
        "    'baseline' : baseline_results,\n",
        "    'simple_dense' : model_1_results,\n",
        "    'lstm' : model_2_results,\n",
        "    'gru' : model_3_results,\n",
        "    'bidirectional' : model_4_results,\n",
        "    'conv1d' : model_5_results,\n",
        "    'simple_dense_10_percent_data' : model_7_results,\n",
        "})\n",
        "all_model_results"
      ],
      "metadata": {
        "trusted": true,
        "execution": {
          "iopub.status.busy": "2025-01-16T16:56:49.000515Z",
          "iopub.execute_input": "2025-01-16T16:56:49.000901Z",
          "iopub.status.idle": "2025-01-16T16:56:49.014776Z",
          "shell.execute_reply.started": "2025-01-16T16:56:49.000868Z",
          "shell.execute_reply": "2025-01-16T16:56:49.013715Z"
        },
        "id": "9M3FHgifOr83",
        "outputId": "812855e5-06db-49cc-bd73-8416e4a5babb"
      },
      "outputs": [
        {
          "execution_count": 158,
          "output_type": "execute_result",
          "data": {
            "text/plain": "            baseline  simple_dense       lstm        gru  bidirectional  \\\naccuracy   81.954324     82.965182  80.643954  81.617372      80.381879   \nrecall      0.819543      0.829652   0.806440   0.816174       0.803819   \nprecision   0.829393      0.830304   0.807876   0.821998       0.815233   \nf1          0.814894      0.829880   0.806863   0.816941       0.804651   \n\n              conv1d  simple_dense_10_percent_data  \naccuracy   83.002621                     84.088356  \nrecall      0.830026                      0.840884  \nprecision   0.831203                      0.840667  \nf1          0.830367                      0.840741  ",
            "text/html": "<div>\n<style scoped>\n    .dataframe tbody tr th:only-of-type {\n        vertical-align: middle;\n    }\n\n    .dataframe tbody tr th {\n        vertical-align: top;\n    }\n\n    .dataframe thead th {\n        text-align: right;\n    }\n</style>\n<table border=\"1\" class=\"dataframe\">\n  <thead>\n    <tr style=\"text-align: right;\">\n      <th></th>\n      <th>baseline</th>\n      <th>simple_dense</th>\n      <th>lstm</th>\n      <th>gru</th>\n      <th>bidirectional</th>\n      <th>conv1d</th>\n      <th>simple_dense_10_percent_data</th>\n    </tr>\n  </thead>\n  <tbody>\n    <tr>\n      <th>accuracy</th>\n      <td>81.954324</td>\n      <td>82.965182</td>\n      <td>80.643954</td>\n      <td>81.617372</td>\n      <td>80.381879</td>\n      <td>83.002621</td>\n      <td>84.088356</td>\n    </tr>\n    <tr>\n      <th>recall</th>\n      <td>0.819543</td>\n      <td>0.829652</td>\n      <td>0.806440</td>\n      <td>0.816174</td>\n      <td>0.803819</td>\n      <td>0.830026</td>\n      <td>0.840884</td>\n    </tr>\n    <tr>\n      <th>precision</th>\n      <td>0.829393</td>\n      <td>0.830304</td>\n      <td>0.807876</td>\n      <td>0.821998</td>\n      <td>0.815233</td>\n      <td>0.831203</td>\n      <td>0.840667</td>\n    </tr>\n    <tr>\n      <th>f1</th>\n      <td>0.814894</td>\n      <td>0.829880</td>\n      <td>0.806863</td>\n      <td>0.816941</td>\n      <td>0.804651</td>\n      <td>0.830367</td>\n      <td>0.840741</td>\n    </tr>\n  </tbody>\n</table>\n</div>"
          },
          "metadata": {}
        }
      ],
      "execution_count": null
    },
    {
      "cell_type": "code",
      "source": [
        "all_model_results = all_model_results.T\n",
        "all_model_results"
      ],
      "metadata": {
        "trusted": true,
        "execution": {
          "iopub.status.busy": "2025-01-16T17:00:49.127409Z",
          "iopub.execute_input": "2025-01-16T17:00:49.127826Z",
          "iopub.status.idle": "2025-01-16T17:00:49.139513Z",
          "shell.execute_reply.started": "2025-01-16T17:00:49.127778Z",
          "shell.execute_reply": "2025-01-16T17:00:49.138375Z"
        },
        "id": "ByTUcfEnOr83",
        "outputId": "5b972f8d-b0f2-4126-f8fe-b7e5b2e8fcd0"
      },
      "outputs": [
        {
          "execution_count": 172,
          "output_type": "execute_result",
          "data": {
            "text/plain": "                               accuracy    recall  precision        f1\nbaseline                      81.954324  0.819543   0.829393  0.814894\nsimple_dense                  82.965182  0.829652   0.830304  0.829880\nlstm                          80.643954  0.806440   0.807876  0.806863\ngru                           81.617372  0.816174   0.821998  0.816941\nbidirectional                 80.381879  0.803819   0.815233  0.804651\nconv1d                        83.002621  0.830026   0.831203  0.830367\nsimple_dense_10_percent_data  84.088356  0.840884   0.840667  0.840741",
            "text/html": "<div>\n<style scoped>\n    .dataframe tbody tr th:only-of-type {\n        vertical-align: middle;\n    }\n\n    .dataframe tbody tr th {\n        vertical-align: top;\n    }\n\n    .dataframe thead th {\n        text-align: right;\n    }\n</style>\n<table border=\"1\" class=\"dataframe\">\n  <thead>\n    <tr style=\"text-align: right;\">\n      <th></th>\n      <th>accuracy</th>\n      <th>recall</th>\n      <th>precision</th>\n      <th>f1</th>\n    </tr>\n  </thead>\n  <tbody>\n    <tr>\n      <th>baseline</th>\n      <td>81.954324</td>\n      <td>0.819543</td>\n      <td>0.829393</td>\n      <td>0.814894</td>\n    </tr>\n    <tr>\n      <th>simple_dense</th>\n      <td>82.965182</td>\n      <td>0.829652</td>\n      <td>0.830304</td>\n      <td>0.829880</td>\n    </tr>\n    <tr>\n      <th>lstm</th>\n      <td>80.643954</td>\n      <td>0.806440</td>\n      <td>0.807876</td>\n      <td>0.806863</td>\n    </tr>\n    <tr>\n      <th>gru</th>\n      <td>81.617372</td>\n      <td>0.816174</td>\n      <td>0.821998</td>\n      <td>0.816941</td>\n    </tr>\n    <tr>\n      <th>bidirectional</th>\n      <td>80.381879</td>\n      <td>0.803819</td>\n      <td>0.815233</td>\n      <td>0.804651</td>\n    </tr>\n    <tr>\n      <th>conv1d</th>\n      <td>83.002621</td>\n      <td>0.830026</td>\n      <td>0.831203</td>\n      <td>0.830367</td>\n    </tr>\n    <tr>\n      <th>simple_dense_10_percent_data</th>\n      <td>84.088356</td>\n      <td>0.840884</td>\n      <td>0.840667</td>\n      <td>0.840741</td>\n    </tr>\n  </tbody>\n</table>\n</div>"
          },
          "metadata": {}
        }
      ],
      "execution_count": null
    },
    {
      "cell_type": "code",
      "source": [
        "all_model_results['accuracy'] = all_model_results['accuracy'] / 100\n",
        "all_model_results.plot(kind = 'bar').legend(bbox_to_anchor = (1.0, 1.0));"
      ],
      "metadata": {
        "trusted": true,
        "execution": {
          "iopub.status.busy": "2025-01-16T17:01:01.411708Z",
          "iopub.execute_input": "2025-01-16T17:01:01.412077Z",
          "iopub.status.idle": "2025-01-16T17:01:01.758730Z",
          "shell.execute_reply.started": "2025-01-16T17:01:01.412043Z",
          "shell.execute_reply": "2025-01-16T17:01:01.757481Z"
        },
        "id": "ASktH5eSOr84",
        "outputId": "f1c096fc-b1b1-4d56-bb15-d89f3d310c01"
      },
      "outputs": [
        {
          "output_type": "display_data",
          "data": {
            "text/plain": "<Figure size 640x480 with 1 Axes>",
            "image/png": "[encoded data removed]"
          },
          "metadata": {}
        }
      ],
      "execution_count": null
    },
    {
      "cell_type": "code",
      "source": [
        "all_model_results.sort_values('f1', ascending = False)['f1'].plot(kind = 'bar')"
      ],
      "metadata": {
        "trusted": true,
        "execution": {
          "iopub.status.busy": "2025-01-16T17:02:22.710238Z",
          "iopub.execute_input": "2025-01-16T17:02:22.710760Z",
          "iopub.status.idle": "2025-01-16T17:02:22.941569Z",
          "shell.execute_reply.started": "2025-01-16T17:02:22.710711Z",
          "shell.execute_reply": "2025-01-16T17:02:22.940540Z"
        },
        "id": "kXA_GW-JOr84",
        "outputId": "8f57d192-0120-454a-866c-df29a508096a"
      },
      "outputs": [
        {
          "execution_count": 175,
          "output_type": "execute_result",
          "data": {
            "text/plain": "<Axes: >"
          },
          "metadata": {}
        },
        {
          "output_type": "display_data",
          "data": {
            "text/plain": "<Figure size 640x480 with 1 Axes>",
            "image/png": "[encoded data removed]"
          },
          "metadata": {}
        }
      ],
      "execution_count": null
    },
    {
      "cell_type": "code",
      "source": [
        "val_df = pd.DataFrame({\n",
        "    'text' : val_sentences,\n",
        "    'target' : val_labels,\n",
        "    'pred' : model_7_preds,\n",
        "    'pred_prob' : tf.squeeze(model_7_pred_probs)\n",
        "})\n",
        "\n",
        "val_df.head(10)"
      ],
      "metadata": {
        "trusted": true,
        "execution": {
          "iopub.status.busy": "2025-01-16T17:06:00.825691Z",
          "iopub.execute_input": "2025-01-16T17:06:00.826066Z",
          "iopub.status.idle": "2025-01-16T17:06:00.839665Z",
          "shell.execute_reply.started": "2025-01-16T17:06:00.826030Z",
          "shell.execute_reply": "2025-01-16T17:06:00.838707Z"
        },
        "id": "tevrOwxMOr84",
        "outputId": "adba2af9-2652-432a-8b8e-4bc5afe0cd1e"
      },
      "outputs": [
        {
          "execution_count": 180,
          "output_type": "execute_result",
          "data": {
            "text/plain": "                                                text  target  pred  pred_prob\n0  isis recruiter excited to be talking to popula...       1   1.0   0.947544\n1  jimmy fallon could barely keep it together dur...       0   0.0   0.091117\n2  drunk ron weasley wishing harry potter 'happy ...       0   0.0   0.122681\n3            hoosier hostility: not the american way       0   0.0   0.329957\n4  turns out running doesn't wreck your knees aft...       0   0.0   0.406149\n5  embarrassed library of congress can't believe ...       1   1.0   0.780755\n6  biggest data leak in history reveals the globa...       0   0.0   0.009557\n7     yeti releases abdominable crunch workout video       1   1.0   0.604801\n8  tyson beckford recalls the craziness before sh...       0   0.0   0.038765\n9  san francisco could become the first u.s. city...       0   0.0   0.055335",
            "text/html": "<div>\n<style scoped>\n    .dataframe tbody tr th:only-of-type {\n        vertical-align: middle;\n    }\n\n    .dataframe tbody tr th {\n        vertical-align: top;\n    }\n\n    .dataframe thead th {\n        text-align: right;\n    }\n</style>\n<table border=\"1\" class=\"dataframe\">\n  <thead>\n    <tr style=\"text-align: right;\">\n      <th></th>\n      <th>text</th>\n      <th>target</th>\n      <th>pred</th>\n      <th>pred_prob</th>\n    </tr>\n  </thead>\n  <tbody>\n    <tr>\n      <th>0</th>\n      <td>isis recruiter excited to be talking to popula...</td>\n      <td>1</td>\n      <td>1.0</td>\n      <td>0.947544</td>\n    </tr>\n    <tr>\n      <th>1</th>\n      <td>jimmy fallon could barely keep it together dur...</td>\n      <td>0</td>\n      <td>0.0</td>\n      <td>0.091117</td>\n    </tr>\n    <tr>\n      <th>2</th>\n      <td>drunk ron weasley wishing harry potter 'happy ...</td>\n      <td>0</td>\n      <td>0.0</td>\n      <td>0.122681</td>\n    </tr>\n    <tr>\n      <th>3</th>\n      <td>hoosier hostility: not the american way</td>\n      <td>0</td>\n      <td>0.0</td>\n      <td>0.329957</td>\n    </tr>\n    <tr>\n      <th>4</th>\n      <td>turns out running doesn't wreck your knees aft...</td>\n      <td>0</td>\n      <td>0.0</td>\n      <td>0.406149</td>\n    </tr>\n    <tr>\n      <th>5</th>\n      <td>embarrassed library of congress can't believe ...</td>\n      <td>1</td>\n      <td>1.0</td>\n      <td>0.780755</td>\n    </tr>\n    <tr>\n      <th>6</th>\n      <td>biggest data leak in history reveals the globa...</td>\n      <td>0</td>\n      <td>0.0</td>\n      <td>0.009557</td>\n    </tr>\n    <tr>\n      <th>7</th>\n      <td>yeti releases abdominable crunch workout video</td>\n      <td>1</td>\n      <td>1.0</td>\n      <td>0.604801</td>\n    </tr>\n    <tr>\n      <th>8</th>\n      <td>tyson beckford recalls the craziness before sh...</td>\n      <td>0</td>\n      <td>0.0</td>\n      <td>0.038765</td>\n    </tr>\n    <tr>\n      <th>9</th>\n      <td>san francisco could become the first u.s. city...</td>\n      <td>0</td>\n      <td>0.0</td>\n      <td>0.055335</td>\n    </tr>\n  </tbody>\n</table>\n</div>"
          },
          "metadata": {}
        }
      ],
      "execution_count": null
    },
    {
      "cell_type": "code",
      "source": [
        "most_wrong = val_df[val_df['target'] != val_df['pred']].sort_values('pred_prob', ascending = False)\n",
        "most_wrong[:10]"
      ],
      "metadata": {
        "trusted": true,
        "execution": {
          "iopub.status.busy": "2025-01-16T17:06:53.230210Z",
          "iopub.execute_input": "2025-01-16T17:06:53.230603Z",
          "iopub.status.idle": "2025-01-16T17:06:53.245192Z",
          "shell.execute_reply.started": "2025-01-16T17:06:53.230565Z",
          "shell.execute_reply": "2025-01-16T17:06:53.243816Z"
        },
        "id": "AAMIE9v8Or84",
        "outputId": "893fa4ed-0383-4a43-ee8c-098e17dfbc01"
      },
      "outputs": [
        {
          "execution_count": 181,
          "output_type": "execute_result",
          "data": {
            "text/plain": "                                                   text  target  pred  \\\n1182  that barefoot running shoe company lied to us all       0   1.0   \n2272  scientists identify possible cause of huge ice...       0   1.0   \n38    ryan to unveil policy agenda, starting with an...       0   1.0   \n1543  anderson cooper briefly speechless when gop st...       0   1.0   \n476   dutch heath authorities to kill 8,000 ducks to...       0   1.0   \n768   breaking: israelites in sinai suddenly achieve...       0   1.0   \n2090  palestinians starting to play on less uneven p...       0   1.0   \n1262  supreme court to consider lifting class-action...       0   1.0   \n713   missing puppy headed back to worried owners af...       0   1.0   \n872   burglary suspect falls through restaurant ceil...       0   1.0   \n\n      pred_prob  \n1182   0.988521  \n2272   0.988084  \n38     0.975137  \n1543   0.970447  \n476    0.969646  \n768    0.967246  \n2090   0.966361  \n1262   0.964802  \n713    0.964454  \n872    0.963753  ",
            "text/html": "<div>\n<style scoped>\n    .dataframe tbody tr th:only-of-type {\n        vertical-align: middle;\n    }\n\n    .dataframe tbody tr th {\n        vertical-align: top;\n    }\n\n    .dataframe thead th {\n        text-align: right;\n    }\n</style>\n<table border=\"1\" class=\"dataframe\">\n  <thead>\n    <tr style=\"text-align: right;\">\n      <th></th>\n      <th>text</th>\n      <th>target</th>\n      <th>pred</th>\n      <th>pred_prob</th>\n    </tr>\n  </thead>\n  <tbody>\n    <tr>\n      <th>1182</th>\n      <td>that barefoot running shoe company lied to us all</td>\n      <td>0</td>\n      <td>1.0</td>\n      <td>0.988521</td>\n    </tr>\n    <tr>\n      <th>2272</th>\n      <td>scientists identify possible cause of huge ice...</td>\n      <td>0</td>\n      <td>1.0</td>\n      <td>0.988084</td>\n    </tr>\n    <tr>\n      <th>38</th>\n      <td>ryan to unveil policy agenda, starting with an...</td>\n      <td>0</td>\n      <td>1.0</td>\n      <td>0.975137</td>\n    </tr>\n    <tr>\n      <th>1543</th>\n      <td>anderson cooper briefly speechless when gop st...</td>\n      <td>0</td>\n      <td>1.0</td>\n      <td>0.970447</td>\n    </tr>\n    <tr>\n      <th>476</th>\n      <td>dutch heath authorities to kill 8,000 ducks to...</td>\n      <td>0</td>\n      <td>1.0</td>\n      <td>0.969646</td>\n    </tr>\n    <tr>\n      <th>768</th>\n      <td>breaking: israelites in sinai suddenly achieve...</td>\n      <td>0</td>\n      <td>1.0</td>\n      <td>0.967246</td>\n    </tr>\n    <tr>\n      <th>2090</th>\n      <td>palestinians starting to play on less uneven p...</td>\n      <td>0</td>\n      <td>1.0</td>\n      <td>0.966361</td>\n    </tr>\n    <tr>\n      <th>1262</th>\n      <td>supreme court to consider lifting class-action...</td>\n      <td>0</td>\n      <td>1.0</td>\n      <td>0.964802</td>\n    </tr>\n    <tr>\n      <th>713</th>\n      <td>missing puppy headed back to worried owners af...</td>\n      <td>0</td>\n      <td>1.0</td>\n      <td>0.964454</td>\n    </tr>\n    <tr>\n      <th>872</th>\n      <td>burglary suspect falls through restaurant ceil...</td>\n      <td>0</td>\n      <td>1.0</td>\n      <td>0.963753</td>\n    </tr>\n  </tbody>\n</table>\n</div>"
          },
          "metadata": {}
        }
      ],
      "execution_count": null
    },
    {
      "cell_type": "code",
      "source": [
        "for row in most_wrong[:10].itertuples():\n",
        "    _, text, target, pred, pred_prob = row\n",
        "    print(f'Target : {target}, Pred : {pred}, Pred prob : {pred_prob}')\n",
        "    print(f'Text : \\n{text}\\n')"
      ],
      "metadata": {
        "trusted": true,
        "execution": {
          "iopub.status.busy": "2025-01-16T17:09:05.920128Z",
          "iopub.execute_input": "2025-01-16T17:09:05.920508Z",
          "iopub.status.idle": "2025-01-16T17:09:05.931160Z",
          "shell.execute_reply.started": "2025-01-16T17:09:05.920470Z",
          "shell.execute_reply": "2025-01-16T17:09:05.930147Z"
        },
        "id": "lVqjZ3GqOr84",
        "outputId": "5e5125ef-f3a5-4a24-89a1-5d2d4fc1d76d"
      },
      "outputs": [
        {
          "name": "stdout",
          "text": "Target : 0, Pred : 1.0, Pred prob : 0.9885213375091553\nText : \nthat barefoot running shoe company lied to us all\n\nTarget : 0, Pred : 1.0, Pred prob : 0.9880836009979248\nText : \nscientists identify possible cause of huge ice shelf collapse\n\nTarget : 0, Pred : 1.0, Pred prob : 0.9751367568969727\nText : \nryan to unveil policy agenda, starting with anti-poverty initiative\n\nTarget : 0, Pred : 1.0, Pred prob : 0.970446765422821\nText : \nanderson cooper briefly speechless when gop strategist swears he's never heard trump lie\n\nTarget : 0, Pred : 1.0, Pred prob : 0.9696457386016846\nText : \ndutch heath authorities to kill 8,000 ducks to prevent bird flu\n\nTarget : 0, Pred : 1.0, Pred prob : 0.9672456383705139\nText : \nbreaking: israelites in sinai suddenly achieve freedom from pharaoh -- good times forecast\n\nTarget : 0, Pred : 1.0, Pred prob : 0.9663612842559814\nText : \npalestinians starting to play on less uneven playing field\n\nTarget : 0, Pred : 1.0, Pred prob : 0.9648016095161438\nText : \nsupreme court to consider lifting class-action bar for millions of workers\n\nTarget : 0, Pred : 1.0, Pred prob : 0.9644543528556824\nText : \nmissing puppy headed back to worried owners after 2,400-mile road trip\n\nTarget : 0, Pred : 1.0, Pred prob : 0.9637526869773865\nText : \nburglary suspect falls through restaurant ceiling, ruins dinner\n\n",
          "output_type": "stream"
        }
      ],
      "execution_count": null
    },
    {
      "cell_type": "code",
      "source": [
        "for row in most_wrong[-10:].itertuples():\n",
        "    _, text, target, pred, pred_prob = row\n",
        "    print(f'Target : {target}, Pred : {pred}, Pred prob : {pred_prob}')\n",
        "    print(f'Text : \\n{text}\\n')"
      ],
      "metadata": {
        "trusted": true,
        "execution": {
          "iopub.status.busy": "2025-01-16T17:09:51.873837Z",
          "iopub.execute_input": "2025-01-16T17:09:51.874177Z",
          "iopub.status.idle": "2025-01-16T17:09:51.884726Z",
          "shell.execute_reply.started": "2025-01-16T17:09:51.874149Z",
          "shell.execute_reply": "2025-01-16T17:09:51.883544Z"
        },
        "id": "TpE631_uOr84",
        "outputId": "c7350afa-8cf0-4fac-88b2-2a284c4e23aa"
      },
      "outputs": [
        {
          "name": "stdout",
          "text": "Target : 1, Pred : 0.0, Pred prob : 0.02559223212301731\nText : \nman who saw 'star wars: the force awakens' 6 times over holidays thought it was pretty good\n\nTarget : 1, Pred : 0.0, Pred prob : 0.02057667076587677\nText : \nmagazine says you have sex and the city fever\n\nTarget : 1, Pred : 0.0, Pred prob : 0.017500009387731552\nText : \n'what were we talking about again?' says trump 15 seconds into phone call to family of fallen soldier\n\nTarget : 1, Pred : 0.0, Pred prob : 0.01530549954622984\nText : \ngrandmother will live on in arguments over her wedding china\n\nTarget : 1, Pred : 0.0, Pred prob : 0.010620675049722195\nText : \nivanka, donald jr., eric trump removed from white house after mother wins 25-year custody battle\n\nTarget : 1, Pred : 0.0, Pred prob : 0.010597576387226582\nText : \nguillermo del toro: 'in today's society, the true monsters are the horrifying, flesh-eating gargoyles'\n\nTarget : 1, Pred : 0.0, Pred prob : 0.008913499303162098\nText : \njune mademoiselle to feature ten ways to flatten your tummy\n\nTarget : 1, Pred : 0.0, Pred prob : 0.006972467061132193\nText : \nunclear if fountain is the type you're allowed to run around in\n\nTarget : 1, Pred : 0.0, Pred prob : 0.0040221307426691055\nText : \nthe american dream: what does that part about kissing the gym teacher mean?\n\nTarget : 1, Pred : 0.0, Pred prob : 0.001525399973616004\nText : \n'the time to act is now,' says yellowing climate change report sitting in university archive\n\n",
          "output_type": "stream"
        }
      ],
      "execution_count": null
    },
    {
      "cell_type": "code",
      "source": [
        "# test_sentences = train_sentences_80_percent['headline'].tolist()\n",
        "# test_sentences = train_sentences_80_percent.tolist()\n",
        "test_samples = random.sample(sorted(train_sentences_80_percent), 10)\n",
        "# random_index = random.randint(0, len(train_sentences_80_percent) - 5)\n",
        "# test_samples = train_sentences_80_percent[random_index : random_index + 5]\n",
        "for test_sample in test_samples:\n",
        "    # pred_prob = tf.squeeze(model_7.predict([test_sample]))\n",
        "    pred_prob = model_7.predict(np.array([test_sample], dtype = 'object'))\n",
        "    pred = tf.round(pred_prob)\n",
        "    print(f'Pred : {int(pred)}, prob : {pred_prob}')\n",
        "    print(f'Text: \\n{test_sample}\\n')"
      ],
      "metadata": {
        "trusted": true,
        "execution": {
          "iopub.status.busy": "2025-01-16T17:36:40.943263Z",
          "iopub.execute_input": "2025-01-16T17:36:40.943640Z",
          "iopub.status.idle": "2025-01-16T17:36:41.663730Z",
          "shell.execute_reply.started": "2025-01-16T17:36:40.943611Z",
          "shell.execute_reply": "2025-01-16T17:36:41.662577Z"
        },
        "id": "tk0p283OOr84",
        "outputId": "a5a19ab4-672f-4303-a2ca-e2bf58c55b77"
      },
      "outputs": [
        {
          "name": "stdout",
          "text": "\u001b[1m1/1\u001b[0m \u001b[32m━━━━━━━━━━━━━━━━━━━━\u001b[0m\u001b[37m\u001b[0m \u001b[1m0s\u001b[0m 20ms/step\nPred : 0, prob : [[0.00216284]]\nText: \nthese christmas-inspired burgers are making the season bright\n\n\u001b[1m1/1\u001b[0m \u001b[32m━━━━━━━━━━━━━━━━━━━━\u001b[0m\u001b[37m\u001b[0m \u001b[1m0s\u001b[0m 20ms/step\nPred : 1, prob : [[0.55691856]]\nText: \nobama a little creeped out by how much everyone in kenya celebrating reelection victory\n\n\u001b[1m1/1\u001b[0m \u001b[32m━━━━━━━━━━━━━━━━━━━━\u001b[0m\u001b[37m\u001b[0m \u001b[1m0s\u001b[0m 21ms/step\nPred : 0, prob : [[0.00827756]]\nText: \n20 ways not to talk to your teenage daughter - then how to fix things\n\n\u001b[1m1/1\u001b[0m \u001b[32m━━━━━━━━━━━━━━━━━━━━\u001b[0m\u001b[37m\u001b[0m \u001b[1m0s\u001b[0m 20ms/step\nPred : 1, prob : [[0.7660088]]\nText: \nwoman who started sentence with 'oh my god' really needs to stick landing\n\n\u001b[1m1/1\u001b[0m \u001b[32m━━━━━━━━━━━━━━━━━━━━\u001b[0m\u001b[37m\u001b[0m \u001b[1m0s\u001b[0m 20ms/step\nPred : 1, prob : [[0.962505]]\nText: \nnew gym member lingers by free weights for several seconds before returning to elliptical machine\n\n\u001b[1m1/1\u001b[0m \u001b[32m━━━━━━━━━━━━━━━━━━━━\u001b[0m\u001b[37m\u001b[0m \u001b[1m0s\u001b[0m 20ms/step\nPred : 0, prob : [[0.0210959]]\nText: \nmike pence won't explain donald trump's stance on deportations\n\n\u001b[1m1/1\u001b[0m \u001b[32m━━━━━━━━━━━━━━━━━━━━\u001b[0m\u001b[37m\u001b[0m \u001b[1m0s\u001b[0m 21ms/step\nPred : 0, prob : [[0.08651908]]\nText: \ncockroach milk might be the hot new superfood, according to science\n\n\u001b[1m1/1\u001b[0m \u001b[32m━━━━━━━━━━━━━━━━━━━━\u001b[0m\u001b[37m\u001b[0m \u001b[1m0s\u001b[0m 20ms/step\nPred : 1, prob : [[0.78916407]]\nText: \ntrump pours himself glass of chocolate syrup on rocks to unwind after stressful day\n\n\u001b[1m1/1\u001b[0m \u001b[32m━━━━━━━━━━━━━━━━━━━━\u001b[0m\u001b[37m\u001b[0m \u001b[1m0s\u001b[0m 21ms/step\nPred : 0, prob : [[0.0147478]]\nText: \nforget 'looking' -- one of our favorite queer web series is back\n\n\u001b[1m1/1\u001b[0m \u001b[32m━━━━━━━━━━━━━━━━━━━━\u001b[0m\u001b[37m\u001b[0m \u001b[1m0s\u001b[0m 21ms/step\nPred : 0, prob : [[0.46716374]]\nText: \ngod's gift to women returned\n\n",
          "output_type": "stream"
        }
      ],
      "execution_count": null
    },
    {
      "cell_type": "code",
      "source": [
        "sample_tweet = 'LAPD Arrests Everyone Who Lost Home In Fire'"
      ],
      "metadata": {
        "trusted": true,
        "execution": {
          "iopub.status.busy": "2025-01-16T17:37:22.740100Z",
          "iopub.execute_input": "2025-01-16T17:37:22.740483Z",
          "iopub.status.idle": "2025-01-16T17:37:22.744825Z",
          "shell.execute_reply.started": "2025-01-16T17:37:22.740453Z",
          "shell.execute_reply": "2025-01-16T17:37:22.743641Z"
        },
        "id": "zT44uyqxOr84"
      },
      "outputs": [],
      "execution_count": null
    },
    {
      "cell_type": "code",
      "source": [
        "def predict_on_sentence(model, sentence):\n",
        "    pred_prob = model.predict(np.array([sentence], dtype = 'object'))\n",
        "    pred_label = tf.squeeze(tf.round(pred_prob)).numpy()\n",
        "    print(f'Pred : {pred_label}', '(sarcasm)' if pred_label > 0 else '(not sarcasm)', f'Pred Prob : {pred_prob[0][0]}')"
      ],
      "metadata": {
        "trusted": true,
        "execution": {
          "iopub.status.busy": "2025-01-16T17:37:23.312252Z",
          "iopub.execute_input": "2025-01-16T17:37:23.312630Z",
          "iopub.status.idle": "2025-01-16T17:37:23.317907Z",
          "shell.execute_reply.started": "2025-01-16T17:37:23.312597Z",
          "shell.execute_reply": "2025-01-16T17:37:23.316665Z"
        },
        "id": "kkCQVj-9Or85"
      },
      "outputs": [],
      "execution_count": null
    },
    {
      "cell_type": "code",
      "source": [
        "predict_on_sentence(model_7, sample_tweet)"
      ],
      "metadata": {
        "trusted": true,
        "execution": {
          "iopub.status.busy": "2025-01-16T17:37:25.322097Z",
          "iopub.execute_input": "2025-01-16T17:37:25.322503Z",
          "iopub.status.idle": "2025-01-16T17:37:25.398226Z",
          "shell.execute_reply.started": "2025-01-16T17:37:25.322469Z",
          "shell.execute_reply": "2025-01-16T17:37:25.397326Z"
        },
        "id": "S_rnGSH8Or85",
        "outputId": "2ee36f20-b072-4222-fe60-706129da014d"
      },
      "outputs": [
        {
          "name": "stdout",
          "text": "\u001b[1m1/1\u001b[0m \u001b[32m━━━━━━━━━━━━━━━━━━━━\u001b[0m\u001b[37m\u001b[0m \u001b[1m0s\u001b[0m 20ms/step\nPred : 1.0 (sarcasm) Pred Prob : 0.5615028142929077\n",
          "output_type": "stream"
        }
      ],
      "execution_count": null
    },
    {
      "cell_type": "code",
      "source": [
        "sample_tweet_1 = 'Elderly Man Sets Sights On Big Chair'\n",
        "sample_tweet_2 = 'Sun Unsure What It Has To Do To Get Humans To Worship It Again'"
      ],
      "metadata": {
        "trusted": true,
        "execution": {
          "iopub.status.busy": "2025-01-16T17:38:38.111722Z",
          "iopub.execute_input": "2025-01-16T17:38:38.112092Z",
          "iopub.status.idle": "2025-01-16T17:38:38.116792Z",
          "shell.execute_reply.started": "2025-01-16T17:38:38.112061Z",
          "shell.execute_reply": "2025-01-16T17:38:38.115359Z"
        },
        "id": "j2xtuismOr85"
      },
      "outputs": [],
      "execution_count": null
    },
    {
      "cell_type": "code",
      "source": [
        "predict_on_sentence(model_7, sample_tweet_1)"
      ],
      "metadata": {
        "trusted": true,
        "execution": {
          "iopub.status.busy": "2025-01-16T17:38:56.591474Z",
          "iopub.execute_input": "2025-01-16T17:38:56.591956Z",
          "iopub.status.idle": "2025-01-16T17:38:56.693836Z",
          "shell.execute_reply.started": "2025-01-16T17:38:56.591916Z",
          "shell.execute_reply": "2025-01-16T17:38:56.692781Z"
        },
        "id": "02EbGxKEOr85",
        "outputId": "8c0f28e3-3b72-4947-ceaa-b6ea4195a2e9"
      },
      "outputs": [
        {
          "name": "stdout",
          "text": "\u001b[1m1/1\u001b[0m \u001b[32m━━━━━━━━━━━━━━━━━━━━\u001b[0m\u001b[37m\u001b[0m \u001b[1m0s\u001b[0m 29ms/step\nPred : 1.0 (sarcasm) Pred Prob : 0.9751842617988586\n",
          "output_type": "stream"
        }
      ],
      "execution_count": null
    },
    {
      "cell_type": "code",
      "source": [
        "predict_on_sentence(model_7, sample_tweet_2)"
      ],
      "metadata": {
        "trusted": true,
        "execution": {
          "iopub.status.busy": "2025-01-16T17:39:01.480322Z",
          "iopub.execute_input": "2025-01-16T17:39:01.480815Z",
          "iopub.status.idle": "2025-01-16T17:39:01.564111Z",
          "shell.execute_reply.started": "2025-01-16T17:39:01.480770Z",
          "shell.execute_reply": "2025-01-16T17:39:01.562745Z"
        },
        "id": "5MWAUZM7Or85",
        "outputId": "b0c3d2dd-d0b4-4ff6-b30a-dcb0ab00fdb3"
      },
      "outputs": [
        {
          "name": "stdout",
          "text": "\u001b[1m1/1\u001b[0m \u001b[32m━━━━━━━━━━━━━━━━━━━━\u001b[0m\u001b[37m\u001b[0m \u001b[1m0s\u001b[0m 21ms/step\nPred : 1.0 (sarcasm) Pred Prob : 0.9694427847862244\n",
          "output_type": "stream"
        }
      ],
      "execution_count": null
    }
  ]
}